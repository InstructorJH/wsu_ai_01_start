{
 "cells": [
  {
   "cell_type": "code",
   "execution_count": 1,
   "id": "0f4b79b8-11ee-4d7f-87dc-53082e731660",
   "metadata": {},
   "outputs": [],
   "source": [
    "def makeDataFromFile(directory,fileName):\n",
    "    students = [] # 파일에 있는 데이터를 저장하는 2차원 리스트 \n",
    "    \n",
    "    return students"
   ]
  },
  {
   "cell_type": "code",
   "execution_count": 2,
   "id": "9e8188d7-83e6-413e-b44b-cee3505f7e2a",
   "metadata": {},
   "outputs": [],
   "source": [
    "def solveQuiz1(data):\n",
    "    answer = None\n",
    "    \n",
    "    return answer"
   ]
  },
  {
   "cell_type": "code",
   "execution_count": 3,
   "id": "1e185279-208b-4c2d-bec8-a3c705e019d1",
   "metadata": {},
   "outputs": [],
   "source": [
    "def solveQuiz2(data):\n",
    "    answer = None\n",
    "    return answer"
   ]
  },
  {
   "cell_type": "code",
   "execution_count": 4,
   "id": "4aa20ee0-e91b-47d0-853f-decb1826ba5b",
   "metadata": {},
   "outputs": [],
   "source": [
    "def solveQuiz3(data):\n",
    "    answer = None\n",
    "    return answer"
   ]
  },
  {
   "cell_type": "code",
   "execution_count": 5,
   "id": "ed667f09-c1bf-4196-9525-e8c6eb039bb5",
   "metadata": {},
   "outputs": [],
   "source": [
    "def solveQuiz4(data):\n",
    "    answer = None\n",
    "    return answer"
   ]
  },
  {
   "cell_type": "code",
   "execution_count": 6,
   "id": "2f924342-6fca-4b4b-9eb7-ef3007441c05",
   "metadata": {},
   "outputs": [],
   "source": [
    "def marking(quizNo,answer):\n",
    "\n",
    "    pass"
   ]
  },
  {
   "cell_type": "code",
   "execution_count": 7,
   "id": "83b41f5d-2117-4452-93bb-02368a02dc7c",
   "metadata": {},
   "outputs": [],
   "source": [
    "#실행함수\n",
    "def goToTestCenter():\n",
    "    data = makeDataFromFile('','')\n",
    "    answer = solveQuiz1(data)\n",
    "    marking(1,answer)\n",
    "    answer = solveQuiz2(data)\n",
    "    marking(2,answer)\n",
    "    answer = solveQuiz3(data)\n",
    "    marking(3,answer)\n",
    "    answer = solveQuiz4(data)\n",
    "    marking(4,answer)\n",
    "    pass"
   ]
  },
  {
   "cell_type": "code",
   "execution_count": 8,
   "id": "8eed8f4a-fa6a-4ae9-b209-cd3ce0209eb5",
   "metadata": {},
   "outputs": [],
   "source": [
    "import pandas as pd"
   ]
  },
  {
   "cell_type": "code",
   "execution_count": 9,
   "id": "4de69193-662c-4740-b5ae-9a2aef98f390",
   "metadata": {},
   "outputs": [],
   "source": [
    "gisa_df = pd.read_csv('.\\data\\Abc1115.csv',header=None)"
   ]
  },
  {
   "cell_type": "code",
   "execution_count": 10,
   "id": "ebdb0963-809d-4690-b964-3fc9e09d4b03",
   "metadata": {},
   "outputs": [
    {
     "data": {
      "text/html": [
       "<div>\n",
       "<style scoped>\n",
       "    .dataframe tbody tr th:only-of-type {\n",
       "        vertical-align: middle;\n",
       "    }\n",
       "\n",
       "    .dataframe tbody tr th {\n",
       "        vertical-align: top;\n",
       "    }\n",
       "\n",
       "    .dataframe thead th {\n",
       "        text-align: right;\n",
       "    }\n",
       "</style>\n",
       "<table border=\"1\" class=\"dataframe\">\n",
       "  <thead>\n",
       "    <tr style=\"text-align: right;\">\n",
       "      <th></th>\n",
       "      <th>0</th>\n",
       "      <th>1</th>\n",
       "      <th>2</th>\n",
       "      <th>3</th>\n",
       "      <th>4</th>\n",
       "      <th>5</th>\n",
       "      <th>6</th>\n",
       "      <th>7</th>\n",
       "      <th>8</th>\n",
       "      <th>9</th>\n",
       "      <th>10</th>\n",
       "    </tr>\n",
       "  </thead>\n",
       "  <tbody>\n",
       "    <tr>\n",
       "      <th>0</th>\n",
       "      <td>990001</td>\n",
       "      <td>addx</td>\n",
       "      <td>17</td>\n",
       "      <td>29</td>\n",
       "      <td>16</td>\n",
       "      <td>49</td>\n",
       "      <td>43</td>\n",
       "      <td>154</td>\n",
       "      <td>C</td>\n",
       "      <td>A</td>\n",
       "      <td>C</td>\n",
       "    </tr>\n",
       "    <tr>\n",
       "      <th>1</th>\n",
       "      <td>990002</td>\n",
       "      <td>stch</td>\n",
       "      <td>30</td>\n",
       "      <td>9</td>\n",
       "      <td>48</td>\n",
       "      <td>25</td>\n",
       "      <td>81</td>\n",
       "      <td>193</td>\n",
       "      <td>C</td>\n",
       "      <td>A</td>\n",
       "      <td>A</td>\n",
       "    </tr>\n",
       "    <tr>\n",
       "      <th>2</th>\n",
       "      <td>990003</td>\n",
       "      <td>gali</td>\n",
       "      <td>93</td>\n",
       "      <td>60</td>\n",
       "      <td>6</td>\n",
       "      <td>84</td>\n",
       "      <td>36</td>\n",
       "      <td>279</td>\n",
       "      <td>A</td>\n",
       "      <td>C</td>\n",
       "      <td>A</td>\n",
       "    </tr>\n",
       "    <tr>\n",
       "      <th>3</th>\n",
       "      <td>990004</td>\n",
       "      <td>miat</td>\n",
       "      <td>73</td>\n",
       "      <td>22</td>\n",
       "      <td>48</td>\n",
       "      <td>24</td>\n",
       "      <td>72</td>\n",
       "      <td>239</td>\n",
       "      <td>B</td>\n",
       "      <td>C</td>\n",
       "      <td>C</td>\n",
       "    </tr>\n",
       "    <tr>\n",
       "      <th>4</th>\n",
       "      <td>990005</td>\n",
       "      <td>oran</td>\n",
       "      <td>33</td>\n",
       "      <td>38</td>\n",
       "      <td>59</td>\n",
       "      <td>58</td>\n",
       "      <td>28</td>\n",
       "      <td>216</td>\n",
       "      <td>C</td>\n",
       "      <td>B</td>\n",
       "      <td>A</td>\n",
       "    </tr>\n",
       "  </tbody>\n",
       "</table>\n",
       "</div>"
      ],
      "text/plain": [
       "       0     1   2   3   4   5   6    7  8  9  10\n",
       "0  990001  addx  17  29  16  49  43  154  C  A  C\n",
       "1  990002  stch  30   9  48  25  81  193  C  A  A\n",
       "2  990003  gali  93  60   6  84  36  279  A  C  A\n",
       "3  990004  miat  73  22  48  24  72  239  B  C  C\n",
       "4  990005  oran  33  38  59  58  28  216  C  B  A"
      ]
     },
     "execution_count": 10,
     "metadata": {},
     "output_type": "execute_result"
    }
   ],
   "source": [
    "gisa_df.head()"
   ]
  },
  {
   "cell_type": "code",
   "execution_count": 11,
   "id": "2f50c917-ada9-4178-8323-d94da5ba27de",
   "metadata": {},
   "outputs": [
    {
     "data": {
      "text/plain": [
       "Index([0, 1, 2, 3, 4, 5, 6, 7, 8, 9, 10], dtype='int64')"
      ]
     },
     "execution_count": 11,
     "metadata": {},
     "output_type": "execute_result"
    }
   ],
   "source": [
    "gisa_df.columns"
   ]
  },
  {
   "cell_type": "code",
   "execution_count": 12,
   "id": "c2adf6fb-cfa5-45b6-bc70-e8fce4c38887",
   "metadata": {},
   "outputs": [],
   "source": [
    "gisa_df.columns = ['stdNo','email','kor','eng',\n",
    "                   'math','sci','hist','total','mgrCode','accCode','localCode']"
   ]
  },
  {
   "cell_type": "code",
   "execution_count": 13,
   "id": "6b520761-1c23-43a8-9b47-8a772fe8f4ab",
   "metadata": {},
   "outputs": [
    {
     "data": {
      "text/plain": [
       "(1000, 11)"
      ]
     },
     "execution_count": 13,
     "metadata": {},
     "output_type": "execute_result"
    }
   ],
   "source": [
    "gisa_df.shape"
   ]
  },
  {
   "cell_type": "code",
   "execution_count": 14,
   "id": "2f8e578e-7848-4d1a-abcc-4911cb0be38c",
   "metadata": {},
   "outputs": [
    {
     "data": {
      "text/html": [
       "<div>\n",
       "<style scoped>\n",
       "    .dataframe tbody tr th:only-of-type {\n",
       "        vertical-align: middle;\n",
       "    }\n",
       "\n",
       "    .dataframe tbody tr th {\n",
       "        vertical-align: top;\n",
       "    }\n",
       "\n",
       "    .dataframe thead th {\n",
       "        text-align: right;\n",
       "    }\n",
       "</style>\n",
       "<table border=\"1\" class=\"dataframe\">\n",
       "  <thead>\n",
       "    <tr style=\"text-align: right;\">\n",
       "      <th></th>\n",
       "      <th>stdNo</th>\n",
       "      <th>email</th>\n",
       "      <th>kor</th>\n",
       "      <th>eng</th>\n",
       "      <th>math</th>\n",
       "      <th>sci</th>\n",
       "      <th>hist</th>\n",
       "      <th>total</th>\n",
       "      <th>mgrCode</th>\n",
       "      <th>accCode</th>\n",
       "      <th>localCode</th>\n",
       "    </tr>\n",
       "  </thead>\n",
       "  <tbody>\n",
       "    <tr>\n",
       "      <th>0</th>\n",
       "      <td>990001</td>\n",
       "      <td>addx</td>\n",
       "      <td>17</td>\n",
       "      <td>29</td>\n",
       "      <td>16</td>\n",
       "      <td>49</td>\n",
       "      <td>43</td>\n",
       "      <td>154</td>\n",
       "      <td>C</td>\n",
       "      <td>A</td>\n",
       "      <td>C</td>\n",
       "    </tr>\n",
       "    <tr>\n",
       "      <th>1</th>\n",
       "      <td>990002</td>\n",
       "      <td>stch</td>\n",
       "      <td>30</td>\n",
       "      <td>9</td>\n",
       "      <td>48</td>\n",
       "      <td>25</td>\n",
       "      <td>81</td>\n",
       "      <td>193</td>\n",
       "      <td>C</td>\n",
       "      <td>A</td>\n",
       "      <td>A</td>\n",
       "    </tr>\n",
       "    <tr>\n",
       "      <th>2</th>\n",
       "      <td>990003</td>\n",
       "      <td>gali</td>\n",
       "      <td>93</td>\n",
       "      <td>60</td>\n",
       "      <td>6</td>\n",
       "      <td>84</td>\n",
       "      <td>36</td>\n",
       "      <td>279</td>\n",
       "      <td>A</td>\n",
       "      <td>C</td>\n",
       "      <td>A</td>\n",
       "    </tr>\n",
       "    <tr>\n",
       "      <th>3</th>\n",
       "      <td>990004</td>\n",
       "      <td>miat</td>\n",
       "      <td>73</td>\n",
       "      <td>22</td>\n",
       "      <td>48</td>\n",
       "      <td>24</td>\n",
       "      <td>72</td>\n",
       "      <td>239</td>\n",
       "      <td>B</td>\n",
       "      <td>C</td>\n",
       "      <td>C</td>\n",
       "    </tr>\n",
       "    <tr>\n",
       "      <th>4</th>\n",
       "      <td>990005</td>\n",
       "      <td>oran</td>\n",
       "      <td>33</td>\n",
       "      <td>38</td>\n",
       "      <td>59</td>\n",
       "      <td>58</td>\n",
       "      <td>28</td>\n",
       "      <td>216</td>\n",
       "      <td>C</td>\n",
       "      <td>B</td>\n",
       "      <td>A</td>\n",
       "    </tr>\n",
       "  </tbody>\n",
       "</table>\n",
       "</div>"
      ],
      "text/plain": [
       "    stdNo email  kor  eng  math  sci  hist  total mgrCode accCode localCode\n",
       "0  990001  addx   17   29    16   49    43    154       C       A         C\n",
       "1  990002  stch   30    9    48   25    81    193       C       A         A\n",
       "2  990003  gali   93   60     6   84    36    279       A       C         A\n",
       "3  990004  miat   73   22    48   24    72    239       B       C         C\n",
       "4  990005  oran   33   38    59   58    28    216       C       B         A"
      ]
     },
     "execution_count": 14,
     "metadata": {},
     "output_type": "execute_result"
    }
   ],
   "source": [
    "gisa_df.head()"
   ]
  },
  {
   "cell_type": "code",
   "execution_count": 15,
   "id": "7a677384-93fd-478a-b19b-72ed6a043870",
   "metadata": {},
   "outputs": [],
   "source": [
    "gisa_q1 = gisa_df[gisa_df['localCode']=='B']"
   ]
  },
  {
   "cell_type": "code",
   "execution_count": 16,
   "id": "33324f8e-4c2d-45a3-ac63-16d2e6f54f80",
   "metadata": {},
   "outputs": [
    {
     "data": {
      "text/plain": [
       "(300, 11)"
      ]
     },
     "execution_count": 16,
     "metadata": {},
     "output_type": "execute_result"
    }
   ],
   "source": [
    "gisa_q1.shape"
   ]
  },
  {
   "cell_type": "code",
   "execution_count": 17,
   "id": "e3d96847-cee0-473f-bcfe-93ba51f15652",
   "metadata": {},
   "outputs": [],
   "source": [
    "gisa_q1 = gisa_df[gisa_df['localCode']=='B']"
   ]
  },
  {
   "cell_type": "code",
   "execution_count": 18,
   "id": "a50a4556-9fca-4ee7-807a-0ee8c7ebda8f",
   "metadata": {},
   "outputs": [
    {
     "name": "stderr",
     "output_type": "stream",
     "text": [
      "C:\\Users\\user\\AppData\\Local\\Temp\\ipykernel_16048\\4096089539.py:1: SettingWithCopyWarning: \n",
      "A value is trying to be set on a copy of a slice from a DataFrame.\n",
      "Try using .loc[row_indexer,col_indexer] = value instead\n",
      "\n",
      "See the caveats in the documentation: https://pandas.pydata.org/pandas-docs/stable/user_guide/indexing.html#returning-a-view-versus-a-copy\n",
      "  gisa_q1.loc[:,'q1_data'] = gisa_q1['kor']+gisa_q1['eng']\n"
     ]
    }
   ],
   "source": [
    "gisa_q1.loc[:,'q1_data'] = gisa_q1['kor']+gisa_q1['eng']"
   ]
  },
  {
   "cell_type": "code",
   "execution_count": 19,
   "id": "b6d56b1f-1d9c-4ebe-9c7e-f0a0d5e49a20",
   "metadata": {},
   "outputs": [],
   "source": [
    "answer1 = gisa_q1.sort_values(by=['q1_data','stdNo'],ascending=[False,True])"
   ]
  },
  {
   "cell_type": "code",
   "execution_count": 28,
   "id": "019b734a-ed7f-4b3e-8b34-99523e1bcf36",
   "metadata": {},
   "outputs": [
    {
     "data": {
      "text/plain": [
       "(300, 12)"
      ]
     },
     "execution_count": 28,
     "metadata": {},
     "output_type": "execute_result"
    }
   ],
   "source": [
    "gisa_q1.shape"
   ]
  },
  {
   "cell_type": "code",
   "execution_count": 20,
   "id": "4ced8c88-8a30-4f15-9fab-44af975e1cb2",
   "metadata": {},
   "outputs": [
    {
     "data": {
      "text/html": [
       "<div>\n",
       "<style scoped>\n",
       "    .dataframe tbody tr th:only-of-type {\n",
       "        vertical-align: middle;\n",
       "    }\n",
       "\n",
       "    .dataframe tbody tr th {\n",
       "        vertical-align: top;\n",
       "    }\n",
       "\n",
       "    .dataframe thead th {\n",
       "        text-align: right;\n",
       "    }\n",
       "</style>\n",
       "<table border=\"1\" class=\"dataframe\">\n",
       "  <thead>\n",
       "    <tr style=\"text-align: right;\">\n",
       "      <th></th>\n",
       "      <th>stdNo</th>\n",
       "      <th>email</th>\n",
       "      <th>kor</th>\n",
       "      <th>eng</th>\n",
       "      <th>math</th>\n",
       "      <th>sci</th>\n",
       "      <th>hist</th>\n",
       "      <th>total</th>\n",
       "      <th>mgrCode</th>\n",
       "      <th>accCode</th>\n",
       "      <th>localCode</th>\n",
       "      <th>q1_data</th>\n",
       "    </tr>\n",
       "  </thead>\n",
       "  <tbody>\n",
       "    <tr>\n",
       "      <th>20</th>\n",
       "      <td>990021</td>\n",
       "      <td>equi</td>\n",
       "      <td>13</td>\n",
       "      <td>95</td>\n",
       "      <td>56</td>\n",
       "      <td>93</td>\n",
       "      <td>88</td>\n",
       "      <td>345</td>\n",
       "      <td>B</td>\n",
       "      <td>C</td>\n",
       "      <td>B</td>\n",
       "      <td>108</td>\n",
       "    </tr>\n",
       "    <tr>\n",
       "      <th>22</th>\n",
       "      <td>990023</td>\n",
       "      <td>tess</td>\n",
       "      <td>86</td>\n",
       "      <td>71</td>\n",
       "      <td>87</td>\n",
       "      <td>6</td>\n",
       "      <td>15</td>\n",
       "      <td>265</td>\n",
       "      <td>B</td>\n",
       "      <td>C</td>\n",
       "      <td>B</td>\n",
       "      <td>157</td>\n",
       "    </tr>\n",
       "    <tr>\n",
       "      <th>24</th>\n",
       "      <td>990025</td>\n",
       "      <td>lyj2</td>\n",
       "      <td>24</td>\n",
       "      <td>90</td>\n",
       "      <td>72</td>\n",
       "      <td>29</td>\n",
       "      <td>52</td>\n",
       "      <td>267</td>\n",
       "      <td>B</td>\n",
       "      <td>A</td>\n",
       "      <td>B</td>\n",
       "      <td>114</td>\n",
       "    </tr>\n",
       "    <tr>\n",
       "      <th>25</th>\n",
       "      <td>990026</td>\n",
       "      <td>netm</td>\n",
       "      <td>65</td>\n",
       "      <td>4</td>\n",
       "      <td>4</td>\n",
       "      <td>23</td>\n",
       "      <td>45</td>\n",
       "      <td>141</td>\n",
       "      <td>B</td>\n",
       "      <td>C</td>\n",
       "      <td>B</td>\n",
       "      <td>69</td>\n",
       "    </tr>\n",
       "    <tr>\n",
       "      <th>28</th>\n",
       "      <td>990029</td>\n",
       "      <td>minh</td>\n",
       "      <td>3</td>\n",
       "      <td>11</td>\n",
       "      <td>89</td>\n",
       "      <td>71</td>\n",
       "      <td>88</td>\n",
       "      <td>262</td>\n",
       "      <td>B</td>\n",
       "      <td>C</td>\n",
       "      <td>B</td>\n",
       "      <td>14</td>\n",
       "    </tr>\n",
       "  </tbody>\n",
       "</table>\n",
       "</div>"
      ],
      "text/plain": [
       "     stdNo email  kor  eng  math  sci  hist  total mgrCode accCode localCode  \\\n",
       "20  990021  equi   13   95    56   93    88    345       B       C         B   \n",
       "22  990023  tess   86   71    87    6    15    265       B       C         B   \n",
       "24  990025  lyj2   24   90    72   29    52    267       B       A         B   \n",
       "25  990026  netm   65    4     4   23    45    141       B       C         B   \n",
       "28  990029  minh    3   11    89   71    88    262       B       C         B   \n",
       "\n",
       "    q1_data  \n",
       "20      108  \n",
       "22      157  \n",
       "24      114  \n",
       "25       69  \n",
       "28       14  "
      ]
     },
     "execution_count": 20,
     "metadata": {},
     "output_type": "execute_result"
    }
   ],
   "source": [
    "gisa_q1.head()"
   ]
  },
  {
   "cell_type": "code",
   "execution_count": 21,
   "id": "8f380c01-ea67-452b-99bb-77ef30cab3b7",
   "metadata": {},
   "outputs": [],
   "source": [
    "answer1 = answer1.reset_index()"
   ]
  },
  {
   "cell_type": "code",
   "execution_count": 25,
   "id": "555704eb-b4c7-4507-9e13-af4bde1577f5",
   "metadata": {},
   "outputs": [
    {
     "data": {
      "text/html": [
       "<div>\n",
       "<style scoped>\n",
       "    .dataframe tbody tr th:only-of-type {\n",
       "        vertical-align: middle;\n",
       "    }\n",
       "\n",
       "    .dataframe tbody tr th {\n",
       "        vertical-align: top;\n",
       "    }\n",
       "\n",
       "    .dataframe thead th {\n",
       "        text-align: right;\n",
       "    }\n",
       "</style>\n",
       "<table border=\"1\" class=\"dataframe\">\n",
       "  <thead>\n",
       "    <tr style=\"text-align: right;\">\n",
       "      <th></th>\n",
       "      <th>stdNo</th>\n",
       "      <th>q1_data</th>\n",
       "    </tr>\n",
       "  </thead>\n",
       "  <tbody>\n",
       "    <tr>\n",
       "      <th>0</th>\n",
       "      <td>990949</td>\n",
       "      <td>192</td>\n",
       "    </tr>\n",
       "    <tr>\n",
       "      <th>1</th>\n",
       "      <td>990422</td>\n",
       "      <td>190</td>\n",
       "    </tr>\n",
       "    <tr>\n",
       "      <th>2</th>\n",
       "      <td>990938</td>\n",
       "      <td>187</td>\n",
       "    </tr>\n",
       "    <tr>\n",
       "      <th>3</th>\n",
       "      <td>990491</td>\n",
       "      <td>184</td>\n",
       "    </tr>\n",
       "    <tr>\n",
       "      <th>4</th>\n",
       "      <td>990490</td>\n",
       "      <td>180</td>\n",
       "    </tr>\n",
       "    <tr>\n",
       "      <th>5</th>\n",
       "      <td>990066</td>\n",
       "      <td>175</td>\n",
       "    </tr>\n",
       "    <tr>\n",
       "      <th>6</th>\n",
       "      <td>990710</td>\n",
       "      <td>172</td>\n",
       "    </tr>\n",
       "    <tr>\n",
       "      <th>7</th>\n",
       "      <td>990852</td>\n",
       "      <td>172</td>\n",
       "    </tr>\n",
       "    <tr>\n",
       "      <th>8</th>\n",
       "      <td>990595</td>\n",
       "      <td>169</td>\n",
       "    </tr>\n",
       "    <tr>\n",
       "      <th>9</th>\n",
       "      <td>990907</td>\n",
       "      <td>166</td>\n",
       "    </tr>\n",
       "    <tr>\n",
       "      <th>10</th>\n",
       "      <td>990631</td>\n",
       "      <td>164</td>\n",
       "    </tr>\n",
       "  </tbody>\n",
       "</table>\n",
       "</div>"
      ],
      "text/plain": [
       "     stdNo  q1_data\n",
       "0   990949      192\n",
       "1   990422      190\n",
       "2   990938      187\n",
       "3   990491      184\n",
       "4   990490      180\n",
       "5   990066      175\n",
       "6   990710      172\n",
       "7   990852      172\n",
       "8   990595      169\n",
       "9   990907      166\n",
       "10  990631      164"
      ]
     },
     "execution_count": 25,
     "metadata": {},
     "output_type": "execute_result"
    }
   ],
   "source": [
    "answer1.loc[:10,['stdNo','q1_data']]"
   ]
  },
  {
   "cell_type": "code",
   "execution_count": 23,
   "id": "0f1bb5af-30ee-4dc3-baf8-7daea51e5201",
   "metadata": {},
   "outputs": [
    {
     "name": "stdout",
     "output_type": "stream",
     "text": [
      "990490\n"
     ]
    }
   ],
   "source": [
    "temp = answer1.loc[4,'stdNo']\n",
    "print(temp)"
   ]
  },
  {
   "cell_type": "code",
   "execution_count": 27,
   "id": "7f0411a7-e424-4a65-bcd0-00097ec2ba57",
   "metadata": {},
   "outputs": [
    {
     "name": "stdout",
     "output_type": "stream",
     "text": [
      "192\n"
     ]
    }
   ],
   "source": [
    "temp = answer1.loc[0,'q1_data']\n",
    "print(temp)"
   ]
  },
  {
   "cell_type": "code",
   "execution_count": 31,
   "id": "eec4b7ff-8742-433d-b5a8-bed77495c5be",
   "metadata": {},
   "outputs": [
    {
     "name": "stdout",
     "output_type": "stream",
     "text": [
      "192\n"
     ]
    }
   ],
   "source": [
    "temp = gisa_q1['q1_data'].max()\n",
    "print(temp)"
   ]
  },
  {
   "cell_type": "code",
   "execution_count": 32,
   "id": "3c43ddac-6469-4476-8903-e77dfe430056",
   "metadata": {},
   "outputs": [],
   "source": [
    "gisa_q3 = gisa_df[gisa_df['eng']+gisa_df['math']>=120]"
   ]
  },
  {
   "cell_type": "code",
   "execution_count": 33,
   "id": "a8cbad4f-6324-4595-9e14-5ac2dd7afa40",
   "metadata": {},
   "outputs": [
    {
     "data": {
      "text/plain": [
       "(316, 11)"
      ]
     },
     "execution_count": 33,
     "metadata": {},
     "output_type": "execute_result"
    }
   ],
   "source": [
    "gisa_q3.shape"
   ]
  },
  {
   "cell_type": "code",
   "execution_count": null,
   "id": "0801b6b4-e4e6-4c51-8706-b9528ce38263",
   "metadata": {},
   "outputs": [],
   "source": [
    "# 1. lamda\n",
    "# 2. 3항 연산자\n",
    "# 3. 축(기준)\n",
    "# 4. apply 함수 (map함수와 같은 개념이다.)"
   ]
  },
  {
   "cell_type": "code",
   "execution_count": 37,
   "id": "937303df-21c5-4c67-b025-d26738899b83",
   "metadata": {},
   "outputs": [],
   "source": [
    "gisa_q3.loc[:,'point'] = gisa_q3.apply(lambda x :x['total']+5 if x['accCode']=='A' else \n",
    "                                           x['total']+15 if x['accCode']=='B' else\n",
    "                                           x['total']+20, axis=1)"
   ]
  },
  {
   "cell_type": "code",
   "execution_count": 38,
   "id": "43148658-cfb1-4d48-b0d2-16944a983c42",
   "metadata": {},
   "outputs": [
    {
     "data": {
      "text/html": [
       "<div>\n",
       "<style scoped>\n",
       "    .dataframe tbody tr th:only-of-type {\n",
       "        vertical-align: middle;\n",
       "    }\n",
       "\n",
       "    .dataframe tbody tr th {\n",
       "        vertical-align: top;\n",
       "    }\n",
       "\n",
       "    .dataframe thead th {\n",
       "        text-align: right;\n",
       "    }\n",
       "</style>\n",
       "<table border=\"1\" class=\"dataframe\">\n",
       "  <thead>\n",
       "    <tr style=\"text-align: right;\">\n",
       "      <th></th>\n",
       "      <th>stdNo</th>\n",
       "      <th>email</th>\n",
       "      <th>kor</th>\n",
       "      <th>eng</th>\n",
       "      <th>math</th>\n",
       "      <th>sci</th>\n",
       "      <th>hist</th>\n",
       "      <th>total</th>\n",
       "      <th>mgrCode</th>\n",
       "      <th>accCode</th>\n",
       "      <th>localCode</th>\n",
       "      <th>point</th>\n",
       "    </tr>\n",
       "  </thead>\n",
       "  <tbody>\n",
       "    <tr>\n",
       "      <th>6</th>\n",
       "      <td>990007</td>\n",
       "      <td>kor2</td>\n",
       "      <td>33</td>\n",
       "      <td>85</td>\n",
       "      <td>98</td>\n",
       "      <td>60</td>\n",
       "      <td>66</td>\n",
       "      <td>342</td>\n",
       "      <td>A</td>\n",
       "      <td>B</td>\n",
       "      <td>A</td>\n",
       "      <td>357</td>\n",
       "    </tr>\n",
       "    <tr>\n",
       "      <th>9</th>\n",
       "      <td>990010</td>\n",
       "      <td>blue</td>\n",
       "      <td>55</td>\n",
       "      <td>84</td>\n",
       "      <td>50</td>\n",
       "      <td>89</td>\n",
       "      <td>37</td>\n",
       "      <td>315</td>\n",
       "      <td>A</td>\n",
       "      <td>B</td>\n",
       "      <td>A</td>\n",
       "      <td>330</td>\n",
       "    </tr>\n",
       "    <tr>\n",
       "      <th>10</th>\n",
       "      <td>990011</td>\n",
       "      <td>moja</td>\n",
       "      <td>43</td>\n",
       "      <td>69</td>\n",
       "      <td>68</td>\n",
       "      <td>23</td>\n",
       "      <td>92</td>\n",
       "      <td>295</td>\n",
       "      <td>B</td>\n",
       "      <td>A</td>\n",
       "      <td>C</td>\n",
       "      <td>300</td>\n",
       "    </tr>\n",
       "  </tbody>\n",
       "</table>\n",
       "</div>"
      ],
      "text/plain": [
       "     stdNo email  kor  eng  math  sci  hist  total mgrCode accCode localCode  \\\n",
       "6   990007  kor2   33   85    98   60    66    342       A       B         A   \n",
       "9   990010  blue   55   84    50   89    37    315       A       B         A   \n",
       "10  990011  moja   43   69    68   23    92    295       B       A         C   \n",
       "\n",
       "    point  \n",
       "6     357  \n",
       "9     330  \n",
       "10    300  "
      ]
     },
     "execution_count": 38,
     "metadata": {},
     "output_type": "execute_result"
    }
   ],
   "source": [
    "gisa_q3.head(3)"
   ]
  },
  {
   "cell_type": "code",
   "execution_count": 42,
   "id": "2c5ae481-e507-4c83-bf75-6c8a0aa1b008",
   "metadata": {},
   "outputs": [
    {
     "name": "stdout",
     "output_type": "stream",
     "text": [
      "99549\n"
     ]
    },
    {
     "data": {
      "text/plain": [
       "np.int64(99549)"
      ]
     },
     "execution_count": 42,
     "metadata": {},
     "output_type": "execute_result"
    }
   ],
   "source": [
    "temp  = gisa_q3['point'].sum()\n",
    "print(temp)\n",
    "gisa_q3['point'].sum()"
   ]
  },
  {
   "cell_type": "code",
   "execution_count": 40,
   "id": "fe4b24b6-d258-4079-88e0-9c1a5803eab9",
   "metadata": {},
   "outputs": [
    {
     "data": {
      "text/plain": [
       "np.int64(99549)"
      ]
     },
     "execution_count": 40,
     "metadata": {},
     "output_type": "execute_result"
    }
   ],
   "source": [
    "gisa_q3.point.sum()"
   ]
  },
  {
   "cell_type": "code",
   "execution_count": 41,
   "id": "2d724391-d9dc-4200-b937-ab7cd3623e32",
   "metadata": {},
   "outputs": [
    {
     "data": {
      "text/plain": [
       "99549"
      ]
     },
     "execution_count": 41,
     "metadata": {},
     "output_type": "execute_result"
    }
   ],
   "source": [
    "sum(gisa_q3['point'])"
   ]
  },
  {
   "cell_type": "code",
   "execution_count": 43,
   "id": "ff44a136-381a-487a-abd7-656a71d0432f",
   "metadata": {},
   "outputs": [
    {
     "data": {
      "text/plain": [
       "99549"
      ]
     },
     "execution_count": 43,
     "metadata": {},
     "output_type": "execute_result"
    }
   ],
   "source": [
    "sum(gisa_q3.point)"
   ]
  },
  {
   "cell_type": "code",
   "execution_count": null,
   "id": "85b69382-226a-442a-aa83-c7e842d5943c",
   "metadata": {},
   "outputs": [],
   "source": []
  }
 ],
 "metadata": {
  "kernelspec": {
   "display_name": "Python 3 (ipykernel)",
   "language": "python",
   "name": "python3"
  },
  "language_info": {
   "codemirror_mode": {
    "name": "ipython",
    "version": 3
   },
   "file_extension": ".py",
   "mimetype": "text/x-python",
   "name": "python",
   "nbconvert_exporter": "python",
   "pygments_lexer": "ipython3",
   "version": "3.10.11"
  }
 },
 "nbformat": 4,
 "nbformat_minor": 5
}
