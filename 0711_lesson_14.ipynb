{
 "cells": [
  {
   "cell_type": "code",
   "execution_count": 5,
   "id": "9c2318a7-14f5-4ca9-bb76-46983930842f",
   "metadata": {},
   "outputs": [
    {
     "ename": "NameError",
     "evalue": "name 'a' is not defined",
     "output_type": "error",
     "traceback": [
      "\u001b[1;31m---------------------------------------------------------------------------\u001b[0m",
      "\u001b[1;31mNameError\u001b[0m                                 Traceback (most recent call last)",
      "Cell \u001b[1;32mIn[5], line 9\u001b[0m\n\u001b[0;32m      6\u001b[0m         \u001b[38;5;28mprint\u001b[39m(a,b)\n\u001b[0;32m      7\u001b[0m     \u001b[38;5;28mprint\u001b[39m(a,x)  \n\u001b[1;32m----> 9\u001b[0m \u001b[38;5;28mprint\u001b[39m(\u001b[43ma\u001b[49m)\n",
      "\u001b[1;31mNameError\u001b[0m: name 'a' is not defined"
     ]
    }
   ],
   "source": [
    "x = 100\n",
    "def test_var():\n",
    "    a = 10\n",
    "    if a == 10:\n",
    "        b = 20\n",
    "        print(a,b)\n",
    "    def other_func():\n",
    "        c = 20\n",
    "        pass\n",
    "    print(a,x)  \n",
    "\n",
    "print(a)\n",
    "def abc():\n",
    "\n",
    "    pass"
   ]
  },
  {
   "cell_type": "code",
   "execution_count": 4,
   "id": "6842846d-ed53-4d3a-a80b-7bc77b30a71f",
   "metadata": {},
   "outputs": [
    {
     "name": "stdout",
     "output_type": "stream",
     "text": [
      "10 20\n",
      "10 100\n"
     ]
    }
   ],
   "source": [
    "test_var()"
   ]
  },
  {
   "cell_type": "code",
   "execution_count": null,
   "id": "0a97170d-38e7-4384-a01c-455046e4e6a1",
   "metadata": {},
   "outputs": [],
   "source": [
    "#피보나치\n",
    "#01123581321345589\n",
    "#  123456 7 8 9 10 -->우리가 공부한것\n",
    "# 1234567 8 9 10 -->book\n",
    "#fibo(3)=fibo(2)+fibo(1)\n",
    "#fibo(2)=fibo(1)+fibo(0)\n",
    "#fibo(1)=1\n",
    "#fibo(0)=0\n",
    "#3번째 피보나치 수는 ?\n",
    "#전전수 + 전수 = 피보나치 값 \n",
    "#1+2\n",
    "#최대공약수"
   ]
  },
  {
   "cell_type": "code",
   "execution_count": 10,
   "id": "4aaf5b34-2ee6-472b-910e-4e3207c5b5c3",
   "metadata": {},
   "outputs": [],
   "source": [
    "def fibo(n):\n",
    "    if n-1 <= 1:\n",
    "        return n\n",
    "    return fibo(n-1) + fibo(n-2)"
   ]
  },
  {
   "cell_type": "code",
   "execution_count": 11,
   "id": "62eb118b-f098-45ba-bcd9-9d1f1763474a",
   "metadata": {},
   "outputs": [
    {
     "name": "stdout",
     "output_type": "stream",
     "text": [
      "89\n"
     ]
    }
   ],
   "source": [
    "result = fibo(10)\n",
    "print(result)"
   ]
  },
  {
   "cell_type": "code",
   "execution_count": null,
   "id": "8cee4931-9b0a-4bdf-90b2-9f1a96737bfe",
   "metadata": {},
   "outputs": [],
   "source": [
    "#5! = 5Xf(4)#f(3)Xf(2)Xf(1)\n",
    "def factorial(n):\n",
    "    if n == 1:\n",
    "        return 1\n",
    "    return n*factorial(n-1)\n",
    "\n"
   ]
  },
  {
   "cell_type": "code",
   "execution_count": 20,
   "id": "22a09815-21c0-4ba2-bcfa-07b6e66a6eac",
   "metadata": {},
   "outputs": [],
   "source": [
    "class Person:\n",
    "    #데이터\n",
    "    #메소드\n",
    "    def __init__(self,gender):\n",
    "        self.gender = gender\n",
    "        pass\n",
    "\n",
    "    def eat(self):\n",
    "        meal = 'kimchi'\n",
    "        print('eat')\n",
    "        pass\n",
    "    \n",
    "    def sleep(self):\n",
    "        print('sleep')\n",
    "        pass\n",
    "        \n",
    "    pass\n",
    "    "
   ]
  },
  {
   "cell_type": "code",
   "execution_count": 19,
   "id": "153b051f-b11a-4ce6-8be8-85f8f6c3864d",
   "metadata": {},
   "outputs": [
    {
     "name": "stdout",
     "output_type": "stream",
     "text": [
      "sleep\n"
     ]
    }
   ],
   "source": [
    "kim.sleep()"
   ]
  },
  {
   "cell_type": "code",
   "execution_count": 22,
   "id": "fa53848f-383a-4a92-9279-85c85773361b",
   "metadata": {},
   "outputs": [
    {
     "ename": "AttributeError",
     "evalue": "'Person' object has no attribute 'meal'",
     "output_type": "error",
     "traceback": [
      "\u001b[1;31m---------------------------------------------------------------------------\u001b[0m",
      "\u001b[1;31mAttributeError\u001b[0m                            Traceback (most recent call last)",
      "Cell \u001b[1;32mIn[22], line 1\u001b[0m\n\u001b[1;32m----> 1\u001b[0m \u001b[43mkim\u001b[49m\u001b[38;5;241;43m.\u001b[39;49m\u001b[43mmeal\u001b[49m\n",
      "\u001b[1;31mAttributeError\u001b[0m: 'Person' object has no attribute 'meal'"
     ]
    }
   ],
   "source": [
    "kim.meal"
   ]
  },
  {
   "cell_type": "code",
   "execution_count": 21,
   "id": "645265af-2354-46fa-9b3c-87586c32597d",
   "metadata": {},
   "outputs": [],
   "source": [
    "kim = Person('male')"
   ]
  },
  {
   "cell_type": "code",
   "execution_count": null,
   "id": "e2bdcfd8-559a-47d7-bd31-f589a8fa9c37",
   "metadata": {},
   "outputs": [],
   "source": []
  },
  {
   "cell_type": "code",
   "execution_count": 15,
   "id": "158e677c-61af-46f5-bb19-0db429519cca",
   "metadata": {},
   "outputs": [
    {
     "name": "stdout",
     "output_type": "stream",
     "text": [
      "eat\n"
     ]
    }
   ],
   "source": [
    "kim.eat()"
   ]
  },
  {
   "cell_type": "code",
   "execution_count": 16,
   "id": "62faf236-9083-410b-a5e9-f8818a189468",
   "metadata": {},
   "outputs": [
    {
     "data": {
      "text/plain": [
       "'male'"
      ]
     },
     "execution_count": 16,
     "metadata": {},
     "output_type": "execute_result"
    }
   ],
   "source": [
    "kim.gender"
   ]
  },
  {
   "cell_type": "code",
   "execution_count": null,
   "id": "2112756a-f25e-4ac8-8e97-55119a7d5f15",
   "metadata": {},
   "outputs": [],
   "source": [
    "class Person:\n",
    "    #멤버\n",
    "\n",
    "\n",
    "    pass\n",
    "    "
   ]
  }
 ],
 "metadata": {
  "kernelspec": {
   "display_name": "Python 3 (ipykernel)",
   "language": "python",
   "name": "python3"
  },
  "language_info": {
   "codemirror_mode": {
    "name": "ipython",
    "version": 3
   },
   "file_extension": ".py",
   "mimetype": "text/x-python",
   "name": "python",
   "nbconvert_exporter": "python",
   "pygments_lexer": "ipython3",
   "version": "3.10.11"
  }
 },
 "nbformat": 4,
 "nbformat_minor": 5
}
