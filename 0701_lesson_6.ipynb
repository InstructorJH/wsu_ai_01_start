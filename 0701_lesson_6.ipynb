{
 "cells": [
  {
   "cell_type": "code",
   "execution_count": null,
   "id": "0f65991d-9e23-4e9a-8668-8d618eb76008",
   "metadata": {},
   "outputs": [],
   "source": [
    "kim = '23,45,65'\n",
    "lee = '98,23,12'\n",
    "park = '45,91,65'"
   ]
  },
  {
   "cell_type": "code",
   "execution_count": null,
   "id": "bc18c4ae-367e-4aca-8a1e-ec0c8452f937",
   "metadata": {},
   "outputs": [],
   "source": [
    "print(kim)"
   ]
  },
  {
   "cell_type": "code",
   "execution_count": null,
   "id": "52050e76-a557-47b6-96e1-41cec53cbfb5",
   "metadata": {},
   "outputs": [],
   "source": [
    "print(kim.split(','))"
   ]
  },
  {
   "cell_type": "code",
   "execution_count": null,
   "id": "b20529e0-b8dc-4991-b91f-83b7c95a4892",
   "metadata": {},
   "outputs": [],
   "source": [
    "a = [kim,lee,park]\n",
    "print(a)"
   ]
  },
  {
   "cell_type": "code",
   "execution_count": null,
   "id": "4ff5f4f8-1635-49ad-b42e-4f1d300bd73b",
   "metadata": {},
   "outputs": [],
   "source": [
    "b =[kim.split(','),lee.split(','),park.split(',')]\n",
    "print(b)"
   ]
  },
  {
   "cell_type": "code",
   "execution_count": null,
   "id": "7bf4f495-ac9f-4ef7-b87d-e238de224e9d",
   "metadata": {},
   "outputs": [],
   "source": [
    "c = []\n",
    "#데이터 세트가 외부에서 들어오면 리스트로 변경한다.\n",
    "data = [kim,lee,park]\n",
    "for temp in data:\n",
    "    c.append(temp.split(','))\n",
    "\n",
    "print(c)    "
   ]
  },
  {
   "cell_type": "code",
   "execution_count": null,
   "id": "ed6ed62b-435b-4160-a699-9f033bbae9b4",
   "metadata": {},
   "outputs": [],
   "source": [
    "for student in c:\n",
    "    total = 0\n",
    "    for score in student:\n",
    "        total = total + int(score)\n",
    "    print(total,total/3)\n",
    "    #break\n",
    "    "
   ]
  },
  {
   "cell_type": "code",
   "execution_count": null,
   "id": "e67f18c4-5225-47c7-bf73-cdc2cc2a146b",
   "metadata": {},
   "outputs": [],
   "source": [
    "print(data)"
   ]
  },
  {
   "cell_type": "code",
   "execution_count": null,
   "id": "ce57382f-144e-463d-a988-70925d90d2b3",
   "metadata": {},
   "outputs": [],
   "source": [
    "d = kim.split(',')\n",
    "print(d)"
   ]
  },
  {
   "cell_type": "code",
   "execution_count": null,
   "id": "24e68147-5d24-4799-b1e1-485584a69043",
   "metadata": {},
   "outputs": [],
   "source": [
    "f = []\n",
    "e = []\n",
    "for i in d:\n",
    "    e.append(int(i))\n",
    "    print(e)\n",
    "f.append(e)\n",
    "print(f)"
   ]
  },
  {
   "cell_type": "code",
   "execution_count": null,
   "id": "1a5e4f09-f4a9-4687-98e8-9686ff46a3bb",
   "metadata": {},
   "outputs": [],
   "source": [
    "d = lee.split(',')\n",
    "e = []\n",
    "for i in d:\n",
    "    e.append(int(i))\n",
    "    print(e)\n",
    "f.append(e)\n",
    "print(f)"
   ]
  },
  {
   "cell_type": "code",
   "execution_count": null,
   "id": "ef772cfb-1d1e-4c89-a791-7a3e36e720b5",
   "metadata": {},
   "outputs": [],
   "source": [
    "d = park.split(',')\n",
    "e = []\n",
    "for i in d:\n",
    "    e.append(int(i))\n",
    "    print(e)\n",
    "f.append(e)\n",
    "print(f)"
   ]
  },
  {
   "cell_type": "code",
   "execution_count": null,
   "id": "07719652-2913-40ab-ab30-b5adf68fb433",
   "metadata": {},
   "outputs": [],
   "source": [
    "f = []\n",
    "for d in data:\n",
    "    e = []\n",
    "    for i in d.split(','):\n",
    "        e.append(int(i))\n",
    "        print(e)\n",
    "    f.append(e)\n",
    "    print(f)"
   ]
  },
  {
   "cell_type": "code",
   "execution_count": null,
   "id": "629c75b7-9671-4831-9c38-35f1ad49d97c",
   "metadata": {},
   "outputs": [],
   "source": [
    "file = open('Abc1115.txt','r')\n",
    "lines = file.readlines()\n",
    "file.close()\n",
    "print(len(lines))"
   ]
  },
  {
   "cell_type": "code",
   "execution_count": null,
   "id": "fdbadb2a-d2b4-4ca5-8cab-ec7053421672",
   "metadata": {},
   "outputs": [],
   "source": [
    "lines[0]"
   ]
  },
  {
   "cell_type": "code",
   "execution_count": null,
   "id": "8e6e6ea3-4823-4868-b502-3df74b0c474c",
   "metadata": {},
   "outputs": [],
   "source": [
    "print(int(lines[0][0:6]))\n",
    "print(lines[0][6:10])\n",
    "print(int(lines[0][10:13]))\n",
    "print(int(lines[0][13:16]))\n",
    "print(int(lines[0][16:19]))\n",
    "print(int(lines[0][19:22]))\n",
    "print(int(lines[0][22:25]))\n",
    "print(int(lines[0][25:28]))\n",
    "print(lines[0][28:29])\n",
    "print(lines[0][29:30])\n",
    "print(lines[0][30:31])"
   ]
  },
  {
   "cell_type": "code",
   "execution_count": null,
   "id": "4cc16a22-82d5-4d91-815e-589d4e9abe95",
   "metadata": {},
   "outputs": [],
   "source": [
    "students = []\n",
    "idx = 0\n",
    "for _ in lines[0:5]:\n",
    "    student = []\n",
    "    student.append(int(lines[idx][0:6]))\n",
    "    student.append(lines[idx][6:10])\n",
    "    student.append(int(lines[idx][10:13]))\n",
    "    student.append(int(lines[idx][13:16]))\n",
    "    student.append(int(lines[idx][16:19]))\n",
    "    student.append(int(lines[idx][19:22]))\n",
    "    student.append(int(lines[idx][22:25]))\n",
    "    student.append(int(lines[idx][25:28]))\n",
    "    student.append(lines[idx][28:29])\n",
    "    student.append(lines[idx][29:30])\n",
    "    student.append(lines[idx][30:31])\n",
    "    print(student)\n",
    "    students.append(student)\n",
    "    idx = idx + 1\n",
    "print(students)"
   ]
  },
  {
   "cell_type": "code",
   "execution_count": null,
   "id": "080bf1b7-06e9-41fc-b406-7c1ce6507403",
   "metadata": {},
   "outputs": [],
   "source": [
    "with open('Abc1115.csv','r') as file:\n",
    "    lines = file.readlines()\n",
    "\n",
    "print(len(lines))\n",
    "print(lines[0])\n",
    "lines[0]"
   ]
  },
  {
   "cell_type": "code",
   "execution_count": null,
   "id": "7df50a76-e809-4151-bd7e-ed3fb35e5511",
   "metadata": {},
   "outputs": [],
   "source": [
    "for line in lines[:5]:\n",
    "    #print(line[:-1])\n",
    "    print(line[:-1].split(','))"
   ]
  },
  {
   "cell_type": "code",
   "execution_count": null,
   "id": "6bb69831-6ef4-4273-ac40-0efb0eeba404",
   "metadata": {},
   "outputs": [],
   "source": [
    "for temp in lines[0][:-1].split(','):\n",
    "    print(temp)"
   ]
  },
  {
   "cell_type": "code",
   "execution_count": null,
   "id": "cf7680ff-af4b-4725-956c-31f2fced2a67",
   "metadata": {},
   "outputs": [],
   "source": [
    "letters = ['a','b','c']\n",
    "print(letters)"
   ]
  },
  {
   "cell_type": "code",
   "execution_count": null,
   "id": "0bb30b0a-a70d-4897-9abc-a6872eabd7a1",
   "metadata": {},
   "outputs": [],
   "source": [
    "count = 0\n",
    "for letter in letters:\n",
    "    if count ==1:\n",
    "        print(letter)\n",
    "    count = count + 1"
   ]
  },
  {
   "cell_type": "code",
   "execution_count": null,
   "id": "3e3654ee-6718-43f2-8694-719a79f2e54d",
   "metadata": {},
   "outputs": [],
   "source": [
    "for idx,letter in enumerate(letters):\n",
    "    if idx == 1:\n",
    "        print(idx,letter)"
   ]
  },
  {
   "cell_type": "code",
   "execution_count": null,
   "id": "5eda8408-73db-49b5-8069-6c8876c876e3",
   "metadata": {},
   "outputs": [],
   "source": [
    "data = []\n",
    "for line in lines:\n",
    "    aa=[]\n",
    "    temp = line[:-1].split(',')\n",
    "    #print(temp)\n",
    "    aa.append(int(temp[0]))\n",
    "    aa.append(temp[1])\n",
    "    for ele in temp[2:-3]:\n",
    "        aa.append(int(ele))\n",
    "    for i in temp[-3:]:\n",
    "        aa.append(i)\n",
    "    #print(aa)\n",
    "    data.append(aa)"
   ]
  },
  {
   "cell_type": "code",
   "execution_count": null,
   "id": "bded2714-8768-4556-b0ae-0b203a6b2470",
   "metadata": {},
   "outputs": [],
   "source": [
    "for datum in data:\n",
    "    print(datum)"
   ]
  },
  {
   "cell_type": "code",
   "execution_count": null,
   "id": "9e12f63b-077b-472d-adb9-6c34c2e4fe3c",
   "metadata": {},
   "outputs": [],
   "source": [
    "print(lines[0])"
   ]
  },
  {
   "cell_type": "code",
   "execution_count": null,
   "id": "cdfeb413-60fa-4bb8-bf17-39214577e105",
   "metadata": {},
   "outputs": [],
   "source": [
    "print(lines[0:1])"
   ]
  },
  {
   "cell_type": "code",
   "execution_count": null,
   "id": "47fd8a77-bf0c-4cd6-8e69-0a82ed899836",
   "metadata": {},
   "outputs": [],
   "source": []
  }
 ],
 "metadata": {
  "kernelspec": {
   "display_name": "Python 3 (ipykernel)",
   "language": "python",
   "name": "python3"
  },
  "language_info": {
   "codemirror_mode": {
    "name": "ipython",
    "version": 3
   },
   "file_extension": ".py",
   "mimetype": "text/x-python",
   "name": "python",
   "nbconvert_exporter": "python",
   "pygments_lexer": "ipython3",
   "version": "3.10.11"
  }
 },
 "nbformat": 4,
 "nbformat_minor": 5
}
