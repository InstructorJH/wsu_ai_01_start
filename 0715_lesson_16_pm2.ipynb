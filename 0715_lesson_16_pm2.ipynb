{
 "cells": [
  {
   "cell_type": "code",
   "execution_count": null,
   "id": "c210073b-ea29-42f8-87c7-4cdd90c75971",
   "metadata": {},
   "outputs": [],
   "source": [
    "class GisaQuiz:\n",
    "    def makeDataFromFile(self,fileDir,fileName):\n",
    "        students = []\n",
    "        with open(fileDir+'\\\\'+fileName,'r') as file:\n",
    "            #1-1. 파일안의 컨텐츠에 연결하여 모든 라인을 가져온다.\n",
    "            lines = file.readlines()\n",
    "        for line in lines:\n",
    "            student = []\n",
    "            # 3.가져온 한줄을 분리한다.(콤마로 분리)\n",
    "            temp = line[:-1].split(',')\n",
    "            # 4.분리된 데이터를 타입에 맞추어 분리한다\n",
    "            stdNo = int(temp[0])\n",
    "            student.append(stdNo)\n",
    "            student.append(temp[1])\n",
    "            for ele in temp[2:8]:\n",
    "                val = int(ele)\n",
    "                student.append(val)\n",
    "            # 5.분리한 데이터를 리스트에 저장한다.\n",
    "            for ele in temp[8:]:\n",
    "                student.append(ele)\n",
    "            # 6.리스트를 리스트에 저장한다.\n",
    "            students.append(student)\n",
    "        return students\n",
    "\n",
    "    def solveQuiz1(self,data):\n",
    "        #data = makeDataFromFile('.\\data','Abc1115.csv')\n",
    "        quiz1Data = [] #정렬의 대상을 저장할 리스트\n",
    "        for temp in data:\n",
    "        #지역코드가 B인 데이터를 quiz1Data에 저장하시오.\n",
    "            if temp[10] == 'B':\n",
    "                temp.append(temp[2]+temp[3])\n",
    "                quiz1Data.append(temp)\n",
    "            pass\n",
    "        for index,_ in enumerate(quiz1Data[:-1]):\n",
    "            for idx,value in enumerate(quiz1Data[index+1:]):\n",
    "                number = quiz1Data[index][-1]\n",
    "                if number < value[-1]:\n",
    "                    temp = quiz1Data[index] #number\n",
    "                    quiz1Data[index] = value #i\n",
    "                    quiz1Data[idx+(index+1)] = temp\n",
    "                    #break\n",
    "                #print(idx,i)\n",
    "                elif number == value[-1]:\n",
    "                    # 점수가 같을 경우 학번을 오름차순으로 정렬하기\n",
    "                    number = quiz1Data[index][0]\n",
    "                    if number > value[0]:\n",
    "                        temp = quiz1Data[index] #number\n",
    "                        quiz1Data[index] = value #i\n",
    "                        quiz1Data[idx+(index+1)] = temp\n",
    "                    pass\n",
    "                    \n",
    "                pass\n",
    "    \n",
    "        return quiz1Data[4][0]\n",
    "\n",
    "    def solveQuiz2(self,students):\n",
    "        #students = makeDataFromFile('.\\data','Abc1115.csv')\n",
    "        quiz2Max = 0\n",
    "        for student in students:\n",
    "            quiz2Temp = student[2]+student[3]\n",
    "            if student[10]=='B':\n",
    "                if quiz2Max < quiz2Temp:\n",
    "                    quiz2Max = quiz2Temp    \n",
    "        return quiz2Max\n",
    "\n",
    "    def solveQuiz3(self,students):\n",
    "        #students = makeDataFromFile('.\\data','Abc1115.csv')\n",
    "        quiz3Answer = 0\n",
    "        count = 0\n",
    "        for student in students:\n",
    "            #영어+수학점수 120 이상자료\n",
    "            if student[3]+student[4] >= 120:\n",
    "                count = count + 1\n",
    "                # 총점+점수포인트\n",
    "                point = 5\n",
    "                if student[9]=='B':\n",
    "                    point = 15\n",
    "                elif student[9]=='C':\n",
    "                    point = 20\n",
    "                quiz3Answer = quiz3Answer + (student[7]+point)\n",
    "            pass\n",
    "        return quiz3Answer\n",
    "\n",
    "    def solveQuiz4(self,students):\n",
    "        #students = makeDataFromFile('.\\data','Abc1115.csv')\n",
    "        count = 0 \n",
    "        for student in students:\n",
    "        #성취도가 A, B인 자료에 대해서  \n",
    "            if student[9]=='A' or student[9]=='B':\n",
    "                point = 5\n",
    "                if student[10]=='B':\n",
    "                    point = 10\n",
    "                elif student[10]=='C':\n",
    "                    point = 15\n",
    "        #국어점수 + 포인트 >= 50 인\n",
    "                if student[2]+point >=50:\n",
    "                     #자료건수\n",
    "                    count = count + 1\n",
    "        return count\n",
    "\n",
    "    def marking(self,markNo,answer):\n",
    "        file = open('.\\data\\Ans'+str(markNo)+'.txt','w')\n",
    "        file.write(str(answer))\n",
    "        file.close()\n",
    "        pass\n",
    "    pass"
   ]
  },
  {
   "cell_type": "code",
   "execution_count": null,
   "id": "690ff1cf-baee-4d8c-98e7-4c6ffbd85c07",
   "metadata": {},
   "outputs": [],
   "source": [
    "gisa = GisaQuiz()\n",
    "students = gisa.makeDataFromFile('.\\data','Abc1115.csv')\n",
    "print(len(students))\n",
    "#1번 푸는 코드 작성하시오.\n",
    "answer1 = gisa.solveQuiz1(students)\n",
    "gisa.marking(1,answer1)\n",
    "answer2 = gisa.solveQuiz2(students)\n",
    "gisa.marking(2,answer2)\n",
    "answer3 = gisa.solveQuiz3(students)\n",
    "gisa.marking(3,answer3)\n",
    "answer4 = gisa.solveQuiz4(students)\n",
    "gisa.marking(4,answer4)\n"
   ]
  },
  {
   "cell_type": "code",
   "execution_count": null,
   "id": "0ea12260-5ae7-44a1-9751-acf4f7c455b3",
   "metadata": {},
   "outputs": [],
   "source": [
    "import gisa"
   ]
  },
  {
   "cell_type": "code",
   "execution_count": null,
   "id": "c3bb4ca6-83b6-49bc-9932-8f2c949bb45a",
   "metadata": {},
   "outputs": [],
   "source": [
    "quiz = gisa.GisaQuiz()\n",
    "students2 = quiz.makeDataFromFile('.\\data','Abc1115.csv')\n",
    "print(len(students2))\n",
    "answer1 = quiz.solveQuiz1(students2)\n",
    "print(answer1)"
   ]
  },
  {
   "cell_type": "code",
   "execution_count": null,
   "id": "0495ea6e-d598-4a7a-bacf-51658b1b2d14",
   "metadata": {},
   "outputs": [],
   "source": [
    "from gisa import GisaQuiz"
   ]
  },
  {
   "cell_type": "code",
   "execution_count": null,
   "id": "d720e5c2-6d41-429b-be1b-7597d3dd66be",
   "metadata": {},
   "outputs": [],
   "source": [
    "quiz2 = GisaQuiz()\n",
    "students3 = quiz2.makeDataFromFile('.\\data','Abc1115.csv')\n",
    "temp = quiz2.solveQuiz1(students3)\n",
    "print(temp)"
   ]
  },
  {
   "cell_type": "code",
   "execution_count": null,
   "id": "9c6a0903-c6a0-4f65-b60b-99819bba7d88",
   "metadata": {},
   "outputs": [],
   "source": [
    "import mycal"
   ]
  },
  {
   "cell_type": "code",
   "execution_count": null,
   "id": "14ecedd6-c60b-4bac-bd57-8ae45656a740",
   "metadata": {},
   "outputs": [],
   "source": [
    "mycal.viewCalendar(2024,7)"
   ]
  },
  {
   "cell_type": "code",
   "execution_count": 1,
   "id": "d2a16e64-a3ef-44b4-abb8-d77d6bd3a176",
   "metadata": {},
   "outputs": [],
   "source": [
    "from mypackage import gisa"
   ]
  },
  {
   "cell_type": "code",
   "execution_count": 2,
   "id": "4fe59eaf-2ef2-4b7c-a87e-f9f6d43aa030",
   "metadata": {},
   "outputs": [
    {
     "name": "stdout",
     "output_type": "stream",
     "text": [
      "1000\n"
     ]
    }
   ],
   "source": [
    "quiz = gisa.GisaQuiz()\n",
    "temp = quiz.makeDataFromFile('.\\data','Abc1115.csv')\n",
    "print(len(temp))"
   ]
  },
  {
   "cell_type": "code",
   "execution_count": 3,
   "id": "f54ddbdf-731a-49f3-b197-82a844b7093b",
   "metadata": {},
   "outputs": [],
   "source": [
    "from mypackage.gisa import GisaQuiz"
   ]
  },
  {
   "cell_type": "code",
   "execution_count": 4,
   "id": "d68fa6c3-bf86-4b70-b5de-5e7a0a9c107a",
   "metadata": {},
   "outputs": [
    {
     "name": "stdout",
     "output_type": "stream",
     "text": [
      "1000\n"
     ]
    }
   ],
   "source": [
    "test = GisaQuiz()\n",
    "temp = test.makeDataFromFile('.\\data','Abc1115.csv')\n",
    "print(len(temp))"
   ]
  },
  {
   "cell_type": "code",
   "execution_count": 5,
   "id": "c38cef71-5a28-4de8-b7f0-774f0b985941",
   "metadata": {},
   "outputs": [],
   "source": [
    "from mypackage.mycal import viewCalendar"
   ]
  },
  {
   "cell_type": "code",
   "execution_count": 6,
   "id": "8c5ac77b-53ac-4c96-91e6-d6db4ce8b45f",
   "metadata": {},
   "outputs": [
    {
     "name": "stdout",
     "output_type": "stream",
     "text": [
      "\t\t\t 2024 년  7 월\n",
      "일\t월\t화\t수\t목\t금\t토\n",
      "\t1\t2\t3\t4\t5\t6\t\n",
      "7\t8\t9\t10\t11\t12\t13\t\n",
      "14\t15\t16\t17\t18\t19\t20\t\n",
      "21\t22\t23\t24\t25\t26\t27\t\n",
      "28\t29\t30\t31\t"
     ]
    }
   ],
   "source": [
    "viewCalendar(2024,7)"
   ]
  },
  {
   "cell_type": "code",
   "execution_count": 7,
   "id": "b0bb4c69-042b-4661-b715-d286064a909d",
   "metadata": {},
   "outputs": [],
   "source": [
    "#모듈 패키지 연습\n",
    "#calendar 모듈 사용하기 위해서 처음에 해야 할 것은?\n",
    "import calendar\n"
   ]
  },
  {
   "cell_type": "code",
   "execution_count": 9,
   "id": "404eb709-a0b7-4114-8e18-54d12090c2c4",
   "metadata": {},
   "outputs": [
    {
     "data": {
      "text/plain": [
       "(0, 31)"
      ]
     },
     "execution_count": 9,
     "metadata": {},
     "output_type": "execute_result"
    }
   ],
   "source": [
    "calendar.monthrange(2024,7)"
   ]
  },
  {
   "cell_type": "code",
   "execution_count": 12,
   "id": "42b260c2-8b39-48c2-8381-f3de40a369cc",
   "metadata": {},
   "outputs": [
    {
     "name": "stdout",
     "output_type": "stream",
     "text": [
      "     July 2024\n",
      "Mo Tu We Th Fr Sa Su\n",
      " 1  2  3  4  5  6  7\n",
      " 8  9 10 11 12 13 14\n",
      "15 16 17 18 19 20 21\n",
      "22 23 24 25 26 27 28\n",
      "29 30 31\n"
     ]
    }
   ],
   "source": [
    "calendar.prmonth(2024,7)"
   ]
  },
  {
   "cell_type": "code",
   "execution_count": 13,
   "id": "49a3c502-b667-4bbf-a09c-0e6b8bfffac9",
   "metadata": {},
   "outputs": [],
   "source": [
    "import random"
   ]
  },
  {
   "cell_type": "code",
   "execution_count": 14,
   "id": "5f14dbfd-ca45-40c5-98d0-bc054fe08721",
   "metadata": {},
   "outputs": [
    {
     "data": {
      "text/plain": [
       "0.1304715320878208"
      ]
     },
     "execution_count": 14,
     "metadata": {},
     "output_type": "execute_result"
    }
   ],
   "source": [
    "random.random()"
   ]
  },
  {
   "cell_type": "code",
   "execution_count": 15,
   "id": "23c0d7be-dae1-4e68-82eb-2369046b4736",
   "metadata": {},
   "outputs": [
    {
     "data": {
      "text/plain": [
       "44"
      ]
     },
     "execution_count": 15,
     "metadata": {},
     "output_type": "execute_result"
    }
   ],
   "source": [
    "random.randrange(1,46)"
   ]
  },
  {
   "cell_type": "code",
   "execution_count": 16,
   "id": "9d9cc2db-99ed-48d2-a15d-2b4fb1560349",
   "metadata": {},
   "outputs": [
    {
     "data": {
      "text/plain": [
       "6"
      ]
     },
     "execution_count": 16,
     "metadata": {},
     "output_type": "execute_result"
    }
   ],
   "source": [
    "random.randint(1,45)"
   ]
  },
  {
   "cell_type": "code",
   "execution_count": 17,
   "id": "dc799b8d-1f1d-4e12-a371-048682836cc6",
   "metadata": {},
   "outputs": [],
   "source": [
    "import math"
   ]
  },
  {
   "cell_type": "code",
   "execution_count": 18,
   "id": "09ba4bda-7351-424d-81f5-59ff8f4f0155",
   "metadata": {},
   "outputs": [
    {
     "data": {
      "text/plain": [
       "120"
      ]
     },
     "execution_count": 18,
     "metadata": {},
     "output_type": "execute_result"
    }
   ],
   "source": [
    "math.factorial(5)"
   ]
  },
  {
   "cell_type": "code",
   "execution_count": 19,
   "id": "205c0af4-01bd-41b7-9247-f1e8db0c29ef",
   "metadata": {},
   "outputs": [],
   "source": [
    "from math import factorial"
   ]
  },
  {
   "cell_type": "code",
   "execution_count": 20,
   "id": "64ef0971-f7ab-4260-902b-2a47a9f2b3f6",
   "metadata": {},
   "outputs": [
    {
     "data": {
      "text/plain": [
       "120"
      ]
     },
     "execution_count": 20,
     "metadata": {},
     "output_type": "execute_result"
    }
   ],
   "source": [
    "factorial(5)"
   ]
  },
  {
   "cell_type": "code",
   "execution_count": 21,
   "id": "d7ad5da9-3869-435e-b64a-7c04d9e10e56",
   "metadata": {},
   "outputs": [],
   "source": [
    "from datetime import datetime"
   ]
  },
  {
   "cell_type": "code",
   "execution_count": 22,
   "id": "c2245afb-69a7-433c-a9a5-1e8800a3541e",
   "metadata": {},
   "outputs": [],
   "source": [
    "now = datetime.today()"
   ]
  },
  {
   "cell_type": "code",
   "execution_count": 23,
   "id": "6ba9221c-a33e-4709-8cbe-1373924c5ae9",
   "metadata": {},
   "outputs": [
    {
     "data": {
      "text/plain": [
       "datetime.datetime(2024, 7, 15, 15, 41, 41, 337092)"
      ]
     },
     "execution_count": 23,
     "metadata": {},
     "output_type": "execute_result"
    }
   ],
   "source": [
    "now"
   ]
  },
  {
   "cell_type": "code",
   "execution_count": 24,
   "id": "606a55eb-9919-4a4e-8d02-f07b7ae28305",
   "metadata": {},
   "outputs": [
    {
     "data": {
      "text/plain": [
       "0"
      ]
     },
     "execution_count": 24,
     "metadata": {},
     "output_type": "execute_result"
    }
   ],
   "source": [
    "now.weekday()"
   ]
  },
  {
   "cell_type": "code",
   "execution_count": 27,
   "id": "f7c01d97-049c-4307-a544-a2463d820225",
   "metadata": {},
   "outputs": [],
   "source": [
    "from datetime import datetime"
   ]
  },
  {
   "cell_type": "code",
   "execution_count": 29,
   "id": "4f9be945-983e-428a-b4ba-520df4325605",
   "metadata": {},
   "outputs": [],
   "source": [
    "july = datetime(2024,7,1)"
   ]
  },
  {
   "cell_type": "code",
   "execution_count": 30,
   "id": "8d6aa857-f072-427d-850d-b7648070109e",
   "metadata": {},
   "outputs": [
    {
     "data": {
      "text/plain": [
       "datetime.datetime(2024, 7, 1, 0, 0)"
      ]
     },
     "execution_count": 30,
     "metadata": {},
     "output_type": "execute_result"
    }
   ],
   "source": [
    "july"
   ]
  },
  {
   "cell_type": "code",
   "execution_count": 31,
   "id": "cb7cc18d-9b31-46ea-9ba9-1f7828bc083a",
   "metadata": {},
   "outputs": [
    {
     "ename": "ModuleNotFoundError",
     "evalue": "No module named 'datatime'",
     "output_type": "error",
     "traceback": [
      "\u001b[1;31m---------------------------------------------------------------------------\u001b[0m",
      "\u001b[1;31mModuleNotFoundError\u001b[0m                       Traceback (most recent call last)",
      "Cell \u001b[1;32mIn[31], line 1\u001b[0m\n\u001b[1;32m----> 1\u001b[0m \u001b[38;5;28;01mfrom\u001b[39;00m \u001b[38;5;21;01mdatatime\u001b[39;00m\u001b[38;5;21;01m.\u001b[39;00m\u001b[38;5;21;01mdatetime\u001b[39;00m \u001b[38;5;28;01mimport\u001b[39;00m today\n",
      "\u001b[1;31mModuleNotFoundError\u001b[0m: No module named 'datatime'"
     ]
    }
   ],
   "source": [
    "from datatime.datetime import today"
   ]
  },
  {
   "cell_type": "code",
   "execution_count": null,
   "id": "164b2e4f-3cab-4764-8736-b6a3bdd223dd",
   "metadata": {},
   "outputs": [],
   "source": []
  }
 ],
 "metadata": {
  "kernelspec": {
   "display_name": "Python 3 (ipykernel)",
   "language": "python",
   "name": "python3"
  },
  "language_info": {
   "codemirror_mode": {
    "name": "ipython",
    "version": 3
   },
   "file_extension": ".py",
   "mimetype": "text/x-python",
   "name": "python",
   "nbconvert_exporter": "python",
   "pygments_lexer": "ipython3",
   "version": "3.10.11"
  }
 },
 "nbformat": 4,
 "nbformat_minor": 5
}
