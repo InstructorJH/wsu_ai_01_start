{
 "cells": [
  {
   "cell_type": "code",
   "execution_count": 5,
   "id": "429870ba-cfc1-41b0-9137-55e836678e77",
   "metadata": {},
   "outputs": [],
   "source": [
    "#두수를 입력받아서 합한 결과를 리턴하는 함수 작성하시오.\n",
    "def plus(a,b):\n",
    "    c = a + b\n",
    "    return c\n",
    "\n",
    "#두수를 입력받아서 합한 결과를 출력하는 함수 작성하시오.\n",
    "def hap(a,b):\n",
    "    c = a + b\n",
    "    print(c)\n",
    "#이차원 리스트를 입력받아 지역코드가 B 인 자료에 대하여 (국어점수 + 영어점수) 중 \n",
    "#가장 큰값을 출력하되,만약 동일 값 발생시는 한번만 출력하시오.(20점)\n",
    "#함수명 solve1 인 함수를 작성하시오 (로직 비워둔다)\n",
    "\n",
    "def solve1(data):\n",
    "    answer = 0\n",
    "    \n",
    "    return answer\n",
    "    "
   ]
  },
  {
   "cell_type": "code",
   "execution_count": 6,
   "id": "7f1d18b3-3458-412e-9c14-3abe59981fcb",
   "metadata": {},
   "outputs": [
    {
     "name": "stdout",
     "output_type": "stream",
     "text": [
      "30\n",
      "30\n",
      "0\n"
     ]
    }
   ],
   "source": [
    "#plus 호출하시오(사용)\n",
    "result = plus(10,20)\n",
    "print(result)\n",
    "#hap 호출하시오(사용)\n",
    "hap(10,20)\n",
    "ans1 = solve1([])\n",
    "print(ans1)"
   ]
  },
  {
   "cell_type": "code",
   "execution_count": 7,
   "id": "e355f1e3-94e0-44df-b499-fd4cac961f5f",
   "metadata": {},
   "outputs": [
    {
     "data": {
      "text/plain": [
       "<function __main__.<lambda>(x)>"
      ]
     },
     "execution_count": 7,
     "metadata": {},
     "output_type": "execute_result"
    }
   ],
   "source": [
    "lambda x : x + 10"
   ]
  },
  {
   "cell_type": "code",
   "execution_count": 9,
   "id": "6348931b-869a-4870-9437-8be394640ab1",
   "metadata": {},
   "outputs": [],
   "source": [
    "def plus_ten(x):\n",
    "    return x+10"
   ]
  },
  {
   "cell_type": "code",
   "execution_count": 13,
   "id": "f7fef1aa-36f1-4437-9f3a-4929269c4c85",
   "metadata": {},
   "outputs": [
    {
     "name": "stdout",
     "output_type": "stream",
     "text": [
      "<map object at 0x0000017412192E60>\n"
     ]
    }
   ],
   "source": [
    "print(map(plus_ten,[1,2,3]))"
   ]
  },
  {
   "cell_type": "code",
   "execution_count": 15,
   "id": "a46b2df6-d19f-4aac-af7b-1f4c274dca96",
   "metadata": {},
   "outputs": [
    {
     "name": "stdout",
     "output_type": "stream",
     "text": [
      "[11, 12, 13]\n"
     ]
    }
   ],
   "source": [
    "print(list(map(lambda x : x + 10,[1,2,3])))"
   ]
  },
  {
   "cell_type": "code",
   "execution_count": null,
   "id": "9b94afc9-789c-445e-85ee-08dbc52c2b8e",
   "metadata": {},
   "outputs": [],
   "source": [
    "map(lambda x : str(x) if x%3==0 else x, a)"
   ]
  },
  {
   "cell_type": "code",
   "execution_count": 16,
   "id": "8cc43e93-9ea6-4da1-9faf-ffed5cf72a37",
   "metadata": {},
   "outputs": [],
   "source": [
    "def factorial(n):\n",
    "    if n == 1:\n",
    "        return 1\n",
    "    #5!=5X4X3X2X1\n",
    "    return n*factorial(n-1)\n"
   ]
  },
  {
   "cell_type": "code",
   "execution_count": 19,
   "id": "f19606a0-0cdb-4543-8a26-35c435e3315f",
   "metadata": {},
   "outputs": [
    {
     "name": "stdout",
     "output_type": "stream",
     "text": [
      "6\n"
     ]
    }
   ],
   "source": [
    "result = factorial(3)\n",
    "print(result)"
   ]
  },
  {
   "cell_type": "code",
   "execution_count": null,
   "id": "84a84707-b6a4-4b11-a0f9-fe78d58baf6d",
   "metadata": {},
   "outputs": [],
   "source": [
    "#0112358"
   ]
  },
  {
   "cell_type": "code",
   "execution_count": 28,
   "id": "da2ffdf4-6a0c-4ce6-b437-1b0868302f56",
   "metadata": {},
   "outputs": [],
   "source": [
    "x = {'a':10,'b':20,'c':30,'d':40}\n",
    "#for key in x.keys():\n",
    "    #print(key,x[key])"
   ]
  },
  {
   "cell_type": "code",
   "execution_count": 31,
   "id": "d0939ea9-7ca4-45ce-bd13-667302ac1d27",
   "metadata": {},
   "outputs": [],
   "source": [
    "x['a'] = 100"
   ]
  },
  {
   "cell_type": "code",
   "execution_count": 32,
   "id": "e1cdd937-701d-4e22-b5b8-287a50d0f5ea",
   "metadata": {},
   "outputs": [
    {
     "name": "stdout",
     "output_type": "stream",
     "text": [
      "{'a': 100, 'b': 20, 'c': 30, 'd': 40, 'e': 50}\n"
     ]
    }
   ],
   "source": [
    "print(x)"
   ]
  },
  {
   "cell_type": "code",
   "execution_count": 25,
   "id": "fd13f0ff-d4c6-4754-b48b-2a837cfb4891",
   "metadata": {},
   "outputs": [
    {
     "name": "stdout",
     "output_type": "stream",
     "text": [
      "10\n",
      "20\n",
      "30\n",
      "40\n"
     ]
    }
   ],
   "source": [
    "for value in x.values():\n",
    "    print(value)"
   ]
  },
  {
   "cell_type": "code",
   "execution_count": 26,
   "id": "d25f6cfe-8c2c-477f-adc9-32d45acb9efd",
   "metadata": {},
   "outputs": [
    {
     "name": "stdout",
     "output_type": "stream",
     "text": [
      "a 10\n",
      "b 20\n",
      "c 30\n",
      "d 40\n"
     ]
    }
   ],
   "source": [
    "for key,value in x.items():\n",
    "    print(key,value)"
   ]
  },
  {
   "cell_type": "code",
   "execution_count": 33,
   "id": "e05a7aa4-0fca-4908-97da-21231a7e4f0e",
   "metadata": {},
   "outputs": [],
   "source": [
    "del x['e']"
   ]
  },
  {
   "cell_type": "code",
   "execution_count": 34,
   "id": "29c9465c-2979-4807-965a-997ac0f7f831",
   "metadata": {},
   "outputs": [
    {
     "name": "stdout",
     "output_type": "stream",
     "text": [
      "{'a': 100, 'b': 20, 'c': 30, 'd': 40}\n"
     ]
    }
   ],
   "source": [
    "print(x)"
   ]
  },
  {
   "cell_type": "code",
   "execution_count": 35,
   "id": "0729da9f-767d-4ff0-9a01-7c868e5a8174",
   "metadata": {},
   "outputs": [],
   "source": [
    "x = {key:value for key,value in x.items() if value!=20}"
   ]
  },
  {
   "cell_type": "code",
   "execution_count": 36,
   "id": "06c70511-29ae-44fb-8518-c5bc97123b20",
   "metadata": {},
   "outputs": [
    {
     "name": "stdout",
     "output_type": "stream",
     "text": [
      "{'a': 100, 'c': 30, 'd': 40}\n"
     ]
    }
   ],
   "source": [
    "print(x)"
   ]
  },
  {
   "cell_type": "code",
   "execution_count": 37,
   "id": "9e007aa7-81d3-4488-b7d3-33947e16ceda",
   "metadata": {},
   "outputs": [],
   "source": [
    "def collect_data(name,major,addr='daejeon',age=30):\n",
    "\n",
    "    pass"
   ]
  },
  {
   "cell_type": "code",
   "execution_count": 38,
   "id": "f77709a0-1527-4c73-9d35-b9f9bb6485e0",
   "metadata": {},
   "outputs": [],
   "source": [
    "def makeDataFromFile(fileDir,fileName):\n",
    "    students = []\n",
    "    with open(fileDir+'\\\\'+fileName,'r') as file:\n",
    "        #1-1. 파일안의 컨텐츠에 연결하여 모든 라인을 가져온다.\n",
    "        lines = file.readlines()\n",
    "    for line in lines:\n",
    "        student = []\n",
    "        # 3.가져온 한줄을 분리한다.(콤마로 분리)\n",
    "        temp = line[:-1].split(',')\n",
    "        # 4.분리된 데이터를 타입에 맞추어 분리한다\n",
    "        stdNo = int(temp[0])\n",
    "        student.append(stdNo)\n",
    "        student.append(temp[1])\n",
    "        for ele in temp[2:8]:\n",
    "            val = int(ele)\n",
    "            student.append(val)\n",
    "        # 5.분리한 데이터를 리스트에 저장한다.\n",
    "        for ele in temp[8:]:\n",
    "            student.append(ele)\n",
    "        # 6.리스트를 리스트에 저장한다.\n",
    "        students.append(student)\n",
    "    return students"
   ]
  },
  {
   "cell_type": "code",
   "execution_count": 39,
   "id": "859acfb3-15ee-48b0-b955-5b9cf7b8c50d",
   "metadata": {},
   "outputs": [
    {
     "name": "stdout",
     "output_type": "stream",
     "text": [
      "1000\n",
      "[990001, 'addx', 17, 29, 16, 49, 43, 154, 'C', 'A', 'C']\n",
      "[990002, 'stch', 30, 9, 48, 25, 81, 193, 'C', 'A', 'A']\n",
      "[990003, 'gali', 93, 60, 6, 84, 36, 279, 'A', 'C', 'A']\n",
      "[990004, 'miat', 73, 22, 48, 24, 72, 239, 'B', 'C', 'C']\n",
      "[990005, 'oran', 33, 38, 59, 58, 28, 216, 'C', 'B', 'A']\n",
      "[990006, 'sj24', 27, 65, 54, 77, 33, 256, 'B', 'A', 'A']\n",
      "[990007, 'kor2', 33, 85, 98, 60, 66, 342, 'A', 'B', 'A']\n",
      "[990008, 'vsky', 41, 5, 99, 14, 67, 226, 'C', 'A', 'C']\n",
      "[990009, 'kimd', 74, 4, 1, 33, 53, 165, 'B', 'C', 'A']\n",
      "[990010, 'blue', 55, 84, 50, 89, 37, 315, 'A', 'B', 'A']\n"
     ]
    }
   ],
   "source": [
    "students = makeDataFromFile('.\\data','Abc1115.csv')\n",
    "print(len(students))\n",
    "for student in students[:10]:\n",
    "    print(student)"
   ]
  },
  {
   "cell_type": "code",
   "execution_count": 40,
   "id": "2eb95a74-169d-482c-9fb3-4d55cd675e56",
   "metadata": {},
   "outputs": [],
   "source": [
    "students.sort(key=lambda x : [-x[7],x[0]])"
   ]
  },
  {
   "cell_type": "code",
   "execution_count": 41,
   "id": "078eb156-dff7-4dae-adfa-47993d55903b",
   "metadata": {},
   "outputs": [
    {
     "name": "stdout",
     "output_type": "stream",
     "text": [
      "[990364, 'ywjs', 88, 81, 100, 84, 81, 434, 'B', 'C', 'A']\n",
      "[990051, 'soor', 94, 98, 85, 64, 75, 416, 'A', 'B', 'A']\n",
      "[990422, 'itkz', 93, 97, 74, 69, 80, 413, 'C', 'B', 'B']\n",
      "[990039, 'huff', 52, 99, 97, 87, 72, 407, 'A', 'C', 'A']\n",
      "[990659, 'pete', 100, 98, 77, 44, 85, 404, 'B', 'C', 'C']\n",
      "[990753, 'firs', 82, 58, 93, 86, 83, 402, 'A', 'C', 'B']\n",
      "[990865, 'hysu', 54, 96, 96, 55, 95, 396, 'C', 'A', 'A']\n",
      "[990710, 'kleo', 85, 87, 49, 76, 98, 395, 'B', 'C', 'B']\n",
      "[990014, 'oldn', 83, 89, 67, 67, 87, 393, 'B', 'C', 'A']\n",
      "[990440, 'gino', 59, 67, 91, 81, 95, 393, 'A', 'B', 'A']\n"
     ]
    }
   ],
   "source": [
    "for student in students[:10]:\n",
    "    print(student)"
   ]
  },
  {
   "cell_type": "code",
   "execution_count": null,
   "id": "601fe847-5299-40e0-a072-611d7310a075",
   "metadata": {},
   "outputs": [],
   "source": []
  }
 ],
 "metadata": {
  "kernelspec": {
   "display_name": "Python 3 (ipykernel)",
   "language": "python",
   "name": "python3"
  },
  "language_info": {
   "codemirror_mode": {
    "name": "ipython",
    "version": 3
   },
   "file_extension": ".py",
   "mimetype": "text/x-python",
   "name": "python",
   "nbconvert_exporter": "python",
   "pygments_lexer": "ipython3",
   "version": "3.10.11"
  }
 },
 "nbformat": 4,
 "nbformat_minor": 5
}
