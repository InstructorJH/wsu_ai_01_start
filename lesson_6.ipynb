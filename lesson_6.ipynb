{
 "cells": [
  {
   "cell_type": "code",
   "execution_count": 1,
   "id": "0f65991d-9e23-4e9a-8668-8d618eb76008",
   "metadata": {},
   "outputs": [],
   "source": [
    "kim = '23,45,65'\n",
    "lee = '98,23,12'\n",
    "park = '45,91,65'"
   ]
  },
  {
   "cell_type": "code",
   "execution_count": 2,
   "id": "bc18c4ae-367e-4aca-8a1e-ec0c8452f937",
   "metadata": {},
   "outputs": [
    {
     "name": "stdout",
     "output_type": "stream",
     "text": [
      "23,45,65\n"
     ]
    }
   ],
   "source": [
    "print(kim)"
   ]
  },
  {
   "cell_type": "code",
   "execution_count": 3,
   "id": "52050e76-a557-47b6-96e1-41cec53cbfb5",
   "metadata": {},
   "outputs": [
    {
     "name": "stdout",
     "output_type": "stream",
     "text": [
      "['23', '45', '65']\n"
     ]
    }
   ],
   "source": [
    "print(kim.split(','))"
   ]
  },
  {
   "cell_type": "code",
   "execution_count": 4,
   "id": "b20529e0-b8dc-4991-b91f-83b7c95a4892",
   "metadata": {},
   "outputs": [
    {
     "name": "stdout",
     "output_type": "stream",
     "text": [
      "['23,45,65', '98,23,12', '45,91,65']\n"
     ]
    }
   ],
   "source": [
    "a = [kim,lee,park]\n",
    "print(a)"
   ]
  },
  {
   "cell_type": "code",
   "execution_count": 8,
   "id": "4ff5f4f8-1635-49ad-b42e-4f1d300bd73b",
   "metadata": {},
   "outputs": [
    {
     "name": "stdout",
     "output_type": "stream",
     "text": [
      "[['23', '45', '65'], ['98', '23', '12'], ['45', '91', '65']]\n"
     ]
    }
   ],
   "source": [
    "b =[kim.split(','),lee.split(','),park.split(',')]\n",
    "print(b)"
   ]
  },
  {
   "cell_type": "code",
   "execution_count": 11,
   "id": "7bf4f495-ac9f-4ef7-b87d-e238de224e9d",
   "metadata": {},
   "outputs": [
    {
     "name": "stdout",
     "output_type": "stream",
     "text": [
      "[['23', '45', '65'], ['98', '23', '12'], ['45', '91', '65']]\n"
     ]
    }
   ],
   "source": [
    "c = []\n",
    "#데이터 세트가 외부에서 들어오면 리스트로 변경한다.\n",
    "data = [kim,lee,park]\n",
    "for temp in data:\n",
    "    c.append(temp.split(','))\n",
    "\n",
    "print(c)    "
   ]
  },
  {
   "cell_type": "code",
   "execution_count": 17,
   "id": "ed6ed62b-435b-4160-a699-9f033bbae9b4",
   "metadata": {},
   "outputs": [
    {
     "name": "stdout",
     "output_type": "stream",
     "text": [
      "133 44.333333333333336\n",
      "133 44.333333333333336\n",
      "201 67.0\n"
     ]
    }
   ],
   "source": [
    "for student in c:\n",
    "    total = 0\n",
    "    for score in student:\n",
    "        total = total + int(score)\n",
    "    print(total,total/3)\n",
    "    #break\n",
    "    "
   ]
  },
  {
   "cell_type": "code",
   "execution_count": 19,
   "id": "e67f18c4-5225-47c7-bf73-cdc2cc2a146b",
   "metadata": {},
   "outputs": [
    {
     "name": "stdout",
     "output_type": "stream",
     "text": [
      "['23,45,65', '98,23,12', '45,91,65']\n"
     ]
    }
   ],
   "source": [
    "print(data)"
   ]
  },
  {
   "cell_type": "code",
   "execution_count": 20,
   "id": "ce57382f-144e-463d-a988-70925d90d2b3",
   "metadata": {},
   "outputs": [
    {
     "name": "stdout",
     "output_type": "stream",
     "text": [
      "['23', '45', '65']\n"
     ]
    }
   ],
   "source": [
    "d = kim.split(',')\n",
    "print(d)"
   ]
  },
  {
   "cell_type": "code",
   "execution_count": 24,
   "id": "24e68147-5d24-4799-b1e1-485584a69043",
   "metadata": {},
   "outputs": [
    {
     "name": "stdout",
     "output_type": "stream",
     "text": [
      "[23]\n",
      "[23, 45]\n",
      "[23, 45, 65]\n",
      "[[23, 45, 65]]\n"
     ]
    }
   ],
   "source": [
    "f = []\n",
    "e = []\n",
    "for i in d:\n",
    "    e.append(int(i))\n",
    "    print(e)\n",
    "f.append(e)\n",
    "print(f)"
   ]
  },
  {
   "cell_type": "code",
   "execution_count": 25,
   "id": "1a5e4f09-f4a9-4687-98e8-9686ff46a3bb",
   "metadata": {},
   "outputs": [
    {
     "name": "stdout",
     "output_type": "stream",
     "text": [
      "[98]\n",
      "[98, 23]\n",
      "[98, 23, 12]\n",
      "[[23, 45, 65], [98, 23, 12]]\n"
     ]
    }
   ],
   "source": [
    "d = lee.split(',')\n",
    "e = []\n",
    "for i in d:\n",
    "    e.append(int(i))\n",
    "    print(e)\n",
    "f.append(e)\n",
    "print(f)"
   ]
  },
  {
   "cell_type": "code",
   "execution_count": 26,
   "id": "ef772cfb-1d1e-4c89-a791-7a3e36e720b5",
   "metadata": {},
   "outputs": [
    {
     "name": "stdout",
     "output_type": "stream",
     "text": [
      "[45]\n",
      "[45, 91]\n",
      "[45, 91, 65]\n",
      "[[23, 45, 65], [98, 23, 12], [45, 91, 65]]\n"
     ]
    }
   ],
   "source": [
    "d = park.split(',')\n",
    "e = []\n",
    "for i in d:\n",
    "    e.append(int(i))\n",
    "    print(e)\n",
    "f.append(e)\n",
    "print(f)"
   ]
  },
  {
   "cell_type": "code",
   "execution_count": 29,
   "id": "07719652-2913-40ab-ab30-b5adf68fb433",
   "metadata": {},
   "outputs": [
    {
     "name": "stdout",
     "output_type": "stream",
     "text": [
      "[23]\n",
      "[23, 45]\n",
      "[23, 45, 65]\n",
      "[[23, 45, 65]]\n",
      "[98]\n",
      "[98, 23]\n",
      "[98, 23, 12]\n",
      "[[23, 45, 65], [98, 23, 12]]\n",
      "[45]\n",
      "[45, 91]\n",
      "[45, 91, 65]\n",
      "[[23, 45, 65], [98, 23, 12], [45, 91, 65]]\n"
     ]
    }
   ],
   "source": [
    "f = []\n",
    "for d in data:\n",
    "    e = []\n",
    "    for i in d.split(','):\n",
    "        e.append(int(i))\n",
    "        print(e)\n",
    "    f.append(e)\n",
    "    print(f)"
   ]
  },
  {
   "cell_type": "code",
   "execution_count": 31,
   "id": "629c75b7-9671-4831-9c38-35f1ad49d97c",
   "metadata": {},
   "outputs": [
    {
     "name": "stdout",
     "output_type": "stream",
     "text": [
      "1000\n"
     ]
    }
   ],
   "source": [
    "file = open('Abc1115.txt','r')\n",
    "lines = file.readlines()\n",
    "file.close()\n",
    "print(len(lines))"
   ]
  },
  {
   "cell_type": "code",
   "execution_count": 38,
   "id": "fdbadb2a-d2b4-4ca5-8cab-ec7053421672",
   "metadata": {},
   "outputs": [
    {
     "data": {
      "text/plain": [
       "'990001addx 17 29 16 49 43154CAC\\n'"
      ]
     },
     "execution_count": 38,
     "metadata": {},
     "output_type": "execute_result"
    }
   ],
   "source": [
    "lines[0]"
   ]
  },
  {
   "cell_type": "code",
   "execution_count": 44,
   "id": "8e6e6ea3-4823-4868-b502-3df74b0c474c",
   "metadata": {},
   "outputs": [
    {
     "name": "stdout",
     "output_type": "stream",
     "text": [
      "990001\n",
      "addx\n",
      "17\n",
      "29\n",
      "16\n",
      "49\n",
      "43\n",
      "154\n",
      "C\n",
      "A\n",
      "C\n"
     ]
    }
   ],
   "source": [
    "print(int(lines[0][0:6]))\n",
    "print(lines[0][6:10])\n",
    "print(int(lines[0][10:13]))\n",
    "print(int(lines[0][13:16]))\n",
    "print(int(lines[0][16:19]))\n",
    "print(int(lines[0][19:22]))\n",
    "print(int(lines[0][22:25]))\n",
    "print(int(lines[0][25:28]))\n",
    "print(lines[0][28:29])\n",
    "print(lines[0][29:30])\n",
    "print(lines[0][30:31])"
   ]
  },
  {
   "cell_type": "code",
   "execution_count": 49,
   "id": "4cc16a22-82d5-4d91-815e-589d4e9abe95",
   "metadata": {},
   "outputs": [
    {
     "name": "stdout",
     "output_type": "stream",
     "text": [
      "[990001, 'addx', 17, 29, 16, 49, 43, 154, 'C', 'A', 'C']\n",
      "[990002, 'stch', 30, 9, 48, 25, 81, 193, 'C', 'A', 'A']\n",
      "[990003, 'gali', 93, 60, 6, 84, 36, 279, 'A', 'C', 'A']\n",
      "[990004, 'miat', 73, 22, 48, 24, 72, 239, 'B', 'C', 'C']\n",
      "[990005, 'oran', 33, 38, 59, 58, 28, 216, 'C', 'B', 'A']\n",
      "[[990001, 'addx', 17, 29, 16, 49, 43, 154, 'C', 'A', 'C'], [990002, 'stch', 30, 9, 48, 25, 81, 193, 'C', 'A', 'A'], [990003, 'gali', 93, 60, 6, 84, 36, 279, 'A', 'C', 'A'], [990004, 'miat', 73, 22, 48, 24, 72, 239, 'B', 'C', 'C'], [990005, 'oran', 33, 38, 59, 58, 28, 216, 'C', 'B', 'A']]\n"
     ]
    }
   ],
   "source": [
    "students = []\n",
    "idx = 0\n",
    "for _ in lines[0:5]:\n",
    "    student = []\n",
    "    student.append(int(lines[idx][0:6]))\n",
    "    student.append(lines[idx][6:10])\n",
    "    student.append(int(lines[idx][10:13]))\n",
    "    student.append(int(lines[idx][13:16]))\n",
    "    student.append(int(lines[idx][16:19]))\n",
    "    student.append(int(lines[idx][19:22]))\n",
    "    student.append(int(lines[idx][22:25]))\n",
    "    student.append(int(lines[idx][25:28]))\n",
    "    student.append(lines[idx][28:29])\n",
    "    student.append(lines[idx][29:30])\n",
    "    student.append(lines[idx][30:31])\n",
    "    print(student)\n",
    "    students.append(student)\n",
    "    idx = idx + 1\n",
    "print(students)"
   ]
  },
  {
   "cell_type": "code",
   "execution_count": null,
   "id": "080bf1b7-06e9-41fc-b406-7c1ce6507403",
   "metadata": {},
   "outputs": [],
   "source": []
  }
 ],
 "metadata": {
  "kernelspec": {
   "display_name": "Python 3 (ipykernel)",
   "language": "python",
   "name": "python3"
  },
  "language_info": {
   "codemirror_mode": {
    "name": "ipython",
    "version": 3
   },
   "file_extension": ".py",
   "mimetype": "text/x-python",
   "name": "python",
   "nbconvert_exporter": "python",
   "pygments_lexer": "ipython3",
   "version": "3.10.11"
  }
 },
 "nbformat": 4,
 "nbformat_minor": 5
}
