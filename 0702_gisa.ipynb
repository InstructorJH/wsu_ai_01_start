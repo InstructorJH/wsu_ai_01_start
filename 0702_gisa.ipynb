{
 "cells": [
  {
   "cell_type": "code",
   "execution_count": null,
   "id": "d04c96fc-349d-4f00-b6c8-b866408906eb",
   "metadata": {},
   "outputs": [],
   "source": [
    "# data 폴더에 Abc1115.csv를 읽어서 2차원 리스트에 저장하는 코드 작성하시요\n",
    "# 저장될 때 각 데이터의 타입은 문제에서 주어진 대로 하시오.\n",
    "# 1.파일에서 모든 라인을 가져온다.\n",
    "# 2.한줄을 가져온다.\n",
    "# 3.가져온 한줄을 분리한다.(콤마로 분리)\n",
    "# 4.분리된 데이터를 타입에 맞추어 분리한다\n",
    "# 5.분리한 데이터를 리스트에 저장한다.\n",
    "# 6.리스트를 리스트에 저장한다.\n",
    "# 7.가지고 있는 줄(1000) 만큼 반복한다."
   ]
  },
  {
   "cell_type": "code",
   "execution_count": 1,
   "id": "58106aa4-1226-4e45-bca4-a4f889a52fbc",
   "metadata": {},
   "outputs": [
    {
     "name": "stdout",
     "output_type": "stream",
     "text": [
      "1000\n"
     ]
    }
   ],
   "source": [
    "#파일에서 모든 라인을 가져온다.\n",
    "#1. 파일에 연결한다.(파일의 위치와 쓰기/읽기 등을 입력한다.)\n",
    "with open('.\\data\\Abc1115.csv','r') as file:\n",
    "    #1-1. 파일안의 컨텐츠에 연결하여 모든 라인을 가져온다.\n",
    "    lines = file.readlines()\n",
    "    \n",
    "print(len(lines))"
   ]
  },
  {
   "cell_type": "code",
   "execution_count": 16,
   "id": "32e03743-78d4-4c24-90d8-cf1708301b9e",
   "metadata": {},
   "outputs": [
    {
     "data": {
      "text/plain": [
       "['990001,addx, 17, 29, 16, 49, 43,154,C,A,C\\n']"
      ]
     },
     "execution_count": 16,
     "metadata": {},
     "output_type": "execute_result"
    }
   ],
   "source": [
    "#한줄을 가져온다.\n",
    "#1. lines에서 가져와야 한다. \n",
    "#2. lines 리스트이다. 따라서 첫번째 요소를 가져와야 한다는 것\n",
    "#3. 표기법과 인덱스\n",
    "#4. 리스트변수명[인덱스] -> 요소값을 리턴\n",
    "#4-1 리스트변수명[시작인덱스:마지막+1인덱스] -> 리스트로 리턴\n",
    "#4-2 제일 마지막의 \\n가 필요없으므로 나중에 분리 처리할 때 삭제예정\n",
    "lines[0:1]"
   ]
  },
  {
   "cell_type": "code",
   "execution_count": 22,
   "id": "d7008b2f-1b01-4298-a148-ac379cb6a019",
   "metadata": {},
   "outputs": [
    {
     "name": "stdout",
     "output_type": "stream",
     "text": [
      "['990001', 'addx', ' 17', ' 29', ' 16', ' 49', ' 43', '154', 'C', 'A', 'C']\n",
      "['990002', 'stch', ' 30', '  9', ' 48', ' 25', ' 81', '193', 'C', 'A', 'A']\n"
     ]
    }
   ],
   "source": [
    "#가져온 한줄을 콤마로 분리한다.\n",
    "for temp in lines[0:1]:\n",
    "    print(temp[:-1].split(','))"
   ]
  },
  {
   "cell_type": "code",
   "execution_count": 23,
   "id": "5f8d119f-619b-43e6-a7b7-a777211a29c0",
   "metadata": {},
   "outputs": [
    {
     "name": "stdout",
     "output_type": "stream",
     "text": [
      "['990001', 'addx', ' 17', ' 29', ' 16', ' 49', ' 43', '154', 'C', 'A', 'C']\n"
     ]
    }
   ],
   "source": [
    "oneLine = lines[0]\n",
    "print(oneLine[:-1].split(','))"
   ]
  },
  {
   "cell_type": "code",
   "execution_count": 28,
   "id": "056a45d5-14b8-4d51-8fef-eb9ef7247b8a",
   "metadata": {},
   "outputs": [],
   "source": [
    "data = []\n",
    "for line in lines:\n",
    "    aa=[]\n",
    "    temp = line[:-1].split(',')\n",
    "    #print(temp)\n",
    "    aa.append(int(temp[0]))\n",
    "    aa.append(temp[1])\n",
    "    for ele in temp[2:-3]:\n",
    "        aa.append(int(ele))\n",
    "    for i in temp[-3:]:\n",
    "        aa.append(i)\n",
    "    #print(aa)\n",
    "    data.append(aa)"
   ]
  },
  {
   "cell_type": "code",
   "execution_count": 29,
   "id": "16181804-3232-4afc-bc38-82bce5177d46",
   "metadata": {},
   "outputs": [
    {
     "data": {
      "text/plain": [
       "[[990001, 'addx', 17, 29, 16, 49, 43, 154, 'C', 'A', 'C'],\n",
       " [990002, 'stch', 30, 9, 48, 25, 81, 193, 'C', 'A', 'A'],\n",
       " [990003, 'gali', 93, 60, 6, 84, 36, 279, 'A', 'C', 'A'],\n",
       " [990004, 'miat', 73, 22, 48, 24, 72, 239, 'B', 'C', 'C'],\n",
       " [990005, 'oran', 33, 38, 59, 58, 28, 216, 'C', 'B', 'A']]"
      ]
     },
     "execution_count": 29,
     "metadata": {},
     "output_type": "execute_result"
    }
   ],
   "source": [
    "data[0:5]"
   ]
  },
  {
   "cell_type": "code",
   "execution_count": 31,
   "id": "16303981-7878-45c8-bdad-9a8364180502",
   "metadata": {},
   "outputs": [
    {
     "name": "stdout",
     "output_type": "stream",
     "text": [
      "0\n"
     ]
    }
   ],
   "source": [
    "#최대값\n",
    "quiz2Max = 0\n",
    "for student in data:\n",
    "    quiz2Temp = student[2]+student[3]\n",
    "    if student[10]=='B':\n",
    "        if quiz2Max < quiz2Temp:\n",
    "            quiz2Max = quiz2Temp\n",
    "        \n",
    "\n",
    "\n",
    "print(quiz2Max)"
   ]
  },
  {
   "cell_type": "code",
   "execution_count": 33,
   "id": "05ecaaec-1a3a-4c17-997c-d55c819827b0",
   "metadata": {},
   "outputs": [
    {
     "name": "stdout",
     "output_type": "stream",
     "text": [
      "9\n"
     ]
    }
   ],
   "source": [
    "#최소값\n",
    "quiz2Min = data[0][2]+data[0][3]\n",
    "for student in data[1:]:\n",
    "    quiz2Temp = student[2]+student[3]\n",
    "    if student[10]=='B':\n",
    "        if quiz2Min > quiz2Temp:\n",
    "            quiz2Min = quiz2Temp\n",
    "        \n",
    "\n",
    "\n",
    "print(quiz2Min)"
   ]
  },
  {
   "cell_type": "code",
   "execution_count": 35,
   "id": "75039c4a-5928-4f6d-a86c-c7fcb11637c1",
   "metadata": {},
   "outputs": [
    {
     "name": "stdout",
     "output_type": "stream",
     "text": [
      "99549 316\n"
     ]
    }
   ],
   "source": [
    "#영어+수학점수 120점 이상인 자료에 대해 총점+점수포인트의 누계\n",
    "#120이상인 자료의 건수를 출력하시오.\n",
    "quiz3Answer = 0\n",
    "count = 0\n",
    "for student in data:\n",
    "    #영어+수학점수 120 이상자료\n",
    "    if student[3]+student[4] >= 120:\n",
    "        count = count + 1\n",
    "        # 총점+점수포인트\n",
    "        point = 5\n",
    "        if student[9]=='B':\n",
    "            point = 15\n",
    "        elif student[9]=='C':\n",
    "            point = 20\n",
    "        quiz3Answer = quiz3Answer + (student[7]+point)\n",
    "    pass\n",
    "print(quiz3Answer,count)"
   ]
  },
  {
   "cell_type": "code",
   "execution_count": 36,
   "id": "f2078638-0623-44bd-b232-79798e8fc182",
   "metadata": {},
   "outputs": [
    {
     "name": "stdout",
     "output_type": "stream",
     "text": [
      "397\n"
     ]
    }
   ],
   "source": [
    "#4번 문제\n",
    "#포인트는 지역코드에 따라 5,10,15\n",
    "count = 0 \n",
    "for student in data:\n",
    "#성취도가 A, B인 자료에 대해서  \n",
    "    if student[9]=='A' or student[9]=='B':\n",
    "        point = 5\n",
    "        if student[10]=='B':\n",
    "            point = 10\n",
    "        elif student[10]=='C':\n",
    "            point = 15\n",
    "#국어점수 + 포인트 >= 50 인\n",
    "        if student[2]+point >=50:\n",
    "             #자료건수\n",
    "            count = count + 1\n",
    "print(count)"
   ]
  },
  {
   "cell_type": "code",
   "execution_count": 39,
   "id": "897bd38b-f964-46d7-9987-06ba137c529d",
   "metadata": {},
   "outputs": [
    {
     "name": "stdout",
     "output_type": "stream",
     "text": [
      "397\n"
     ]
    }
   ],
   "source": [
    "#4번 문제\n",
    "#1.학생들의 정보가 전제조건 (data) - 리스트(11개)\n",
    "#2.문제에 등장하는 자료가 몇번째 인덱스인지 파악한다.\n",
    "#3.data 전체자료를 가지고 조건에 따라 학생정보를 선택하여 사용하므로 for, if 적절하게 사용\n",
    "count = 0\n",
    "for student in data:\n",
    "    if student[9]=='A' or student[9]=='B':\n",
    "        point = 15\n",
    "        if student[10]=='A':\n",
    "            point = 5\n",
    "        elif student[10]=='B':\n",
    "            point = 10\n",
    "            \n",
    "        if student[2]+point >= 50:\n",
    "            count = count + 1\n",
    "    pass\n",
    "print(count)\n",
    "#성취도가 A, B인 자료에 대해서 \n",
    "#포인트는 지역코드에 따라 5,10,15\n",
    "#국어점수 + 포인트 >= 50 인\n",
    "#자료건수"
   ]
  },
  {
   "cell_type": "code",
   "execution_count": null,
   "id": "b324f74a-58a6-4f43-9f23-b0aabc407ab7",
   "metadata": {},
   "outputs": [],
   "source": []
  }
 ],
 "metadata": {
  "kernelspec": {
   "display_name": "Python 3 (ipykernel)",
   "language": "python",
   "name": "python3"
  },
  "language_info": {
   "codemirror_mode": {
    "name": "ipython",
    "version": 3
   },
   "file_extension": ".py",
   "mimetype": "text/x-python",
   "name": "python",
   "nbconvert_exporter": "python",
   "pygments_lexer": "ipython3",
   "version": "3.10.11"
  }
 },
 "nbformat": 4,
 "nbformat_minor": 5
}
