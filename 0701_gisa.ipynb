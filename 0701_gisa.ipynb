{
 "cells": [
  {
   "cell_type": "code",
   "execution_count": null,
   "id": "d04c96fc-349d-4f00-b6c8-b866408906eb",
   "metadata": {},
   "outputs": [],
   "source": [
    "# data 폴더에 Abc1115.csv를 읽어서 2차원 리스트에 저장하는 코드 작성하시요\n",
    "# 저장될 때 각 데이터의 타입은 문제에서 주어진 대로 하시오.\n",
    "# 1.파일에서 모든 라인을 가져온다.\n",
    "# 2.한줄을 가져온다.\n",
    "# 3.가져온 한줄을 분리한다.(콤마로 분리)\n",
    "# 4.분리된 데이터를 타입에 맞추어 분리한다\n",
    "# 5.분리한 데이터를 리스트에 저장한다.\n",
    "# 6.리스트를 리스트에 저장한다.\n",
    "# 7.가지고 있는 줄(1000) 만큼 반복한다."
   ]
  },
  {
   "cell_type": "code",
   "execution_count": 4,
   "id": "58106aa4-1226-4e45-bca4-a4f889a52fbc",
   "metadata": {},
   "outputs": [
    {
     "name": "stdout",
     "output_type": "stream",
     "text": [
      "1000\n"
     ]
    }
   ],
   "source": [
    "#파일에서 모든 라인을 가져온다.\n",
    "#1. 파일에 연결한다.(파일의 위치와 쓰기/읽기 등을 입력한다.)\n",
    "with open('.\\data\\Abc1115.csv','r') as file:\n",
    "    #1-1. 파일안의 컨텐츠에 연결하여 모든 라인을 가져온다.\n",
    "    lines = file.readlines()\n",
    "    \n",
    "print(len(lines))"
   ]
  },
  {
   "cell_type": "code",
   "execution_count": 16,
   "id": "32e03743-78d4-4c24-90d8-cf1708301b9e",
   "metadata": {},
   "outputs": [
    {
     "data": {
      "text/plain": [
       "['990001,addx, 17, 29, 16, 49, 43,154,C,A,C\\n']"
      ]
     },
     "execution_count": 16,
     "metadata": {},
     "output_type": "execute_result"
    }
   ],
   "source": [
    "#한줄을 가져온다.\n",
    "#1. lines에서 가져와야 한다. \n",
    "#2. lines 리스트이다. 따라서 첫번째 요소를 가져와야 한다는 것\n",
    "#3. 표기법과 인덱스\n",
    "#4. 리스트변수명[인덱스] -> 요소값을 리턴\n",
    "#4-1 리스트변수명[시작인덱스:마지막+1인덱스] -> 리스트로 리턴\n",
    "#4-2 제일 마지막의 \\n가 필요없으므로 나중에 분리 처리할 때 삭제예정\n",
    "lines[0:1]"
   ]
  },
  {
   "cell_type": "code",
   "execution_count": 22,
   "id": "d7008b2f-1b01-4298-a148-ac379cb6a019",
   "metadata": {},
   "outputs": [
    {
     "name": "stdout",
     "output_type": "stream",
     "text": [
      "['990001', 'addx', ' 17', ' 29', ' 16', ' 49', ' 43', '154', 'C', 'A', 'C']\n",
      "['990002', 'stch', ' 30', '  9', ' 48', ' 25', ' 81', '193', 'C', 'A', 'A']\n"
     ]
    }
   ],
   "source": [
    "#가져온 한줄을 콤마로 분리한다.\n",
    "for temp in lines[0:1]:\n",
    "    print(temp[:-1].split(','))"
   ]
  },
  {
   "cell_type": "code",
   "execution_count": 23,
   "id": "5f8d119f-619b-43e6-a7b7-a777211a29c0",
   "metadata": {},
   "outputs": [
    {
     "name": "stdout",
     "output_type": "stream",
     "text": [
      "['990001', 'addx', ' 17', ' 29', ' 16', ' 49', ' 43', '154', 'C', 'A', 'C']\n"
     ]
    }
   ],
   "source": [
    "oneLine = lines[0]\n",
    "print(oneLine[:-1].split(','))"
   ]
  },
  {
   "cell_type": "code",
   "execution_count": null,
   "id": "8b52de65-263e-4685-aa90-15ddb8bba7a7",
   "metadata": {},
   "outputs": [],
   "source": []
  }
 ],
 "metadata": {
  "kernelspec": {
   "display_name": "Python 3 (ipykernel)",
   "language": "python",
   "name": "python3"
  },
  "language_info": {
   "codemirror_mode": {
    "name": "ipython",
    "version": 3
   },
   "file_extension": ".py",
   "mimetype": "text/x-python",
   "name": "python",
   "nbconvert_exporter": "python",
   "pygments_lexer": "ipython3",
   "version": "3.10.11"
  }
 },
 "nbformat": 4,
 "nbformat_minor": 5
}
