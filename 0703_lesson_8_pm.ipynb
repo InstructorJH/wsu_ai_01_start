{
 "cells": [
  {
   "cell_type": "code",
   "execution_count": 2,
   "id": "6f312fbf-a0b5-45d1-bdd1-f34fbcc17d51",
   "metadata": {},
   "outputs": [],
   "source": [
    "a = [10,20,30,15,20,40]"
   ]
  },
  {
   "cell_type": "code",
   "execution_count": 10,
   "id": "c4a7a751-7e45-4b85-b6aa-ccced35d03ad",
   "metadata": {},
   "outputs": [],
   "source": [
    "a.sort(reverse=True)"
   ]
  },
  {
   "cell_type": "code",
   "execution_count": 11,
   "id": "d7ddc876-03b8-4e39-952f-222b3ac501c9",
   "metadata": {},
   "outputs": [
    {
     "name": "stdout",
     "output_type": "stream",
     "text": [
      "[40, 30, 20, 20, 15, 10]\n"
     ]
    }
   ],
   "source": [
    "print(a)"
   ]
  },
  {
   "cell_type": "code",
   "execution_count": 12,
   "id": "706cec49-6a82-4feb-ba6a-61530a3b4b88",
   "metadata": {},
   "outputs": [],
   "source": [
    "b = [3,1,9,5]"
   ]
  },
  {
   "cell_type": "code",
   "execution_count": 15,
   "id": "4f3a8e00-fb93-4071-956d-db7d1e0bca58",
   "metadata": {},
   "outputs": [],
   "source": [
    "result = sorted(b)"
   ]
  },
  {
   "cell_type": "code",
   "execution_count": 16,
   "id": "7637e7da-10d6-45bf-944f-4b129ceeef99",
   "metadata": {},
   "outputs": [
    {
     "name": "stdout",
     "output_type": "stream",
     "text": [
      "[1, 3, 5, 9]\n"
     ]
    }
   ],
   "source": [
    "print(result)"
   ]
  },
  {
   "cell_type": "code",
   "execution_count": 14,
   "id": "5728aef9-73fe-4922-b6ad-d99940fc2dea",
   "metadata": {},
   "outputs": [
    {
     "name": "stdout",
     "output_type": "stream",
     "text": [
      "[3, 1, 9, 5]\n"
     ]
    }
   ],
   "source": [
    "print(b)"
   ]
  },
  {
   "cell_type": "code",
   "execution_count": 5,
   "id": "f109d077-ac1b-4d20-b792-f67215867407",
   "metadata": {},
   "outputs": [
    {
     "data": {
      "text/plain": [
       "2"
      ]
     },
     "execution_count": 5,
     "metadata": {},
     "output_type": "execute_result"
    }
   ],
   "source": [
    "a.count(20)"
   ]
  },
  {
   "cell_type": "code",
   "execution_count": 7,
   "id": "e9fc6b8e-5de2-4f5d-a11a-b3fa8cf35049",
   "metadata": {},
   "outputs": [
    {
     "data": {
      "text/plain": [
       "5"
      ]
     },
     "execution_count": 7,
     "metadata": {},
     "output_type": "execute_result"
    }
   ],
   "source": [
    "a.index(40)"
   ]
  },
  {
   "cell_type": "code",
   "execution_count": 9,
   "id": "5f225254-d5f8-420a-8034-8a29877f4e3b",
   "metadata": {},
   "outputs": [
    {
     "name": "stdout",
     "output_type": "stream",
     "text": [
      "5 40\n"
     ]
    }
   ],
   "source": [
    "for index,value in enumerate(a):\n",
    "    if value == 40:\n",
    "        print(index,value)"
   ]
  },
  {
   "cell_type": "code",
   "execution_count": 17,
   "id": "991e2620-76da-46b2-b9e9-75d53fdc165c",
   "metadata": {},
   "outputs": [
    {
     "data": {
      "text/plain": [
       "2"
      ]
     },
     "execution_count": 17,
     "metadata": {},
     "output_type": "execute_result"
    }
   ],
   "source": [
    "1+1"
   ]
  },
  {
   "cell_type": "code",
   "execution_count": 28,
   "id": "35a8cc87-315a-4fbf-9d9f-2a9dcb5460bf",
   "metadata": {},
   "outputs": [],
   "source": [
    "a = [i for i in range(10) if i%2==0]"
   ]
  },
  {
   "cell_type": "code",
   "execution_count": 29,
   "id": "f9eb5339-7500-4a78-9365-07c0398d295c",
   "metadata": {},
   "outputs": [
    {
     "name": "stdout",
     "output_type": "stream",
     "text": [
      "[0, 2, 4, 6, 8]\n"
     ]
    }
   ],
   "source": [
    "print(a)"
   ]
  },
  {
   "cell_type": "code",
   "execution_count": 37,
   "id": "b4f0e5d3-dd44-41e4-a50d-14d8250d0128",
   "metadata": {},
   "outputs": [],
   "source": [
    "a = [1]\n",
    "a[1:] = [40]"
   ]
  },
  {
   "cell_type": "code",
   "execution_count": 38,
   "id": "dd5fa488-3cd8-4b1b-94d4-c8d873da423e",
   "metadata": {},
   "outputs": [
    {
     "name": "stdout",
     "output_type": "stream",
     "text": [
      "[1, 40]\n"
     ]
    }
   ],
   "source": [
    "print(a)"
   ]
  },
  {
   "cell_type": "code",
   "execution_count": 45,
   "id": "8d61feb3-7108-451a-97dc-e8833de54217",
   "metadata": {},
   "outputs": [],
   "source": [
    "a = [i for i in range(20) if i%2==0]"
   ]
  },
  {
   "cell_type": "code",
   "execution_count": 46,
   "id": "54d078d2-f649-47b8-a46e-51d3397d243c",
   "metadata": {},
   "outputs": [
    {
     "name": "stdout",
     "output_type": "stream",
     "text": [
      "[0, 2, 4, 6, 8, 10, 12, 14, 16, 18]\n"
     ]
    }
   ],
   "source": [
    "print(a)"
   ]
  },
  {
   "cell_type": "code",
   "execution_count": 49,
   "id": "947dd6df-5749-432a-8862-bb34d3879455",
   "metadata": {},
   "outputs": [],
   "source": [
    "a = list(map(str,[1.2,3.2,3.4]))"
   ]
  },
  {
   "cell_type": "code",
   "execution_count": 50,
   "id": "559dce61-34a0-462c-a7c0-b976cdf04326",
   "metadata": {},
   "outputs": [
    {
     "name": "stdout",
     "output_type": "stream",
     "text": [
      "['1.2', '3.2', '3.4']\n"
     ]
    }
   ],
   "source": [
    "print(a)"
   ]
  },
  {
   "cell_type": "code",
   "execution_count": 68,
   "id": "1e8a2f94-d843-4525-ab9c-361793183539",
   "metadata": {},
   "outputs": [],
   "source": [
    "b = list(map(str,[1.2,3.2,3.4]))"
   ]
  },
  {
   "cell_type": "code",
   "execution_count": 69,
   "id": "da877b1d-e78d-426b-991f-ddeb69f77250",
   "metadata": {},
   "outputs": [
    {
     "name": "stdout",
     "output_type": "stream",
     "text": [
      "['1.2', '3.2', '3.4']\n"
     ]
    }
   ],
   "source": [
    "print(b)"
   ]
  },
  {
   "cell_type": "code",
   "execution_count": 64,
   "id": "8cc98e7e-540c-4b5b-a756-4e87bfa9ee8a",
   "metadata": {},
   "outputs": [],
   "source": [
    "k,m,n = b"
   ]
  },
  {
   "cell_type": "code",
   "execution_count": 65,
   "id": "49b8e6a5-42d0-4353-aa77-0aba7ad0da19",
   "metadata": {},
   "outputs": [
    {
     "name": "stdout",
     "output_type": "stream",
     "text": [
      "1.2\n"
     ]
    }
   ],
   "source": [
    "print(k)"
   ]
  },
  {
   "cell_type": "code",
   "execution_count": 66,
   "id": "c2d1ab8c-28fb-4f55-89c4-1a18db7ccd51",
   "metadata": {},
   "outputs": [],
   "source": [
    "a =[1,2,3]"
   ]
  },
  {
   "cell_type": "code",
   "execution_count": 67,
   "id": "031dfcc4-2b98-4ec0-af80-e2e599d6ee25",
   "metadata": {},
   "outputs": [
    {
     "data": {
      "text/plain": [
       "[1, 2, 3]"
      ]
     },
     "execution_count": 67,
     "metadata": {},
     "output_type": "execute_result"
    }
   ],
   "source": [
    "a"
   ]
  },
  {
   "cell_type": "code",
   "execution_count": 74,
   "id": "d02f1d01-c3fe-4475-af46-82b6d36ceeea",
   "metadata": {},
   "outputs": [],
   "source": [
    "a = ['alpha','bravo','charlie']\n",
    "b = [ word for word in a if len(word)==5]"
   ]
  },
  {
   "cell_type": "code",
   "execution_count": 75,
   "id": "247d200d-1627-41ea-b43d-042af7e87134",
   "metadata": {},
   "outputs": [
    {
     "name": "stdout",
     "output_type": "stream",
     "text": [
      "['alpha', 'bravo']\n"
     ]
    }
   ],
   "source": [
    "print(b)"
   ]
  },
  {
   "cell_type": "code",
   "execution_count": 76,
   "id": "7736f454-83a6-4993-b45c-6b73ff6c138d",
   "metadata": {},
   "outputs": [
    {
     "name": "stdout",
     "output_type": "stream",
     "text": [
      "['alpha', 'bravo']\n"
     ]
    }
   ],
   "source": [
    "c = []\n",
    "for word in a:\n",
    "    if len(word)==5:\n",
    "        c.append(word)\n",
    "\n",
    "print(c)"
   ]
  },
  {
   "cell_type": "code",
   "execution_count": 96,
   "id": "2d1cb473-30fc-4467-89b5-e4fce64fed0a",
   "metadata": {},
   "outputs": [],
   "source": [
    "quiz = [2**i for index,i in enumerate(range(1,11)) if index!=1]"
   ]
  },
  {
   "cell_type": "code",
   "execution_count": 97,
   "id": "4a8fe9d8-feb9-42e5-97c2-8bdaf7e951d0",
   "metadata": {},
   "outputs": [
    {
     "data": {
      "text/plain": [
       "[2, 8, 16, 32, 64, 128, 256, 512, 1024]"
      ]
     },
     "execution_count": 97,
     "metadata": {},
     "output_type": "execute_result"
    }
   ],
   "source": [
    "quiz"
   ]
  },
  {
   "cell_type": "code",
   "execution_count": 98,
   "id": "3739a31d-4e5a-49ed-8f95-f6c1726901ba",
   "metadata": {},
   "outputs": [],
   "source": [
    "a=[[10,20],[30,40]]"
   ]
  },
  {
   "cell_type": "code",
   "execution_count": 99,
   "id": "a7b6390d-02d6-4808-8929-d25541e2f37e",
   "metadata": {},
   "outputs": [
    {
     "data": {
      "text/plain": [
       "2"
      ]
     },
     "execution_count": 99,
     "metadata": {},
     "output_type": "execute_result"
    }
   ],
   "source": [
    "len(a)"
   ]
  },
  {
   "cell_type": "code",
   "execution_count": 100,
   "id": "98731f3a-c360-437b-a32c-2534a88c62ef",
   "metadata": {},
   "outputs": [
    {
     "data": {
      "text/plain": [
       "[10, 20]"
      ]
     },
     "execution_count": 100,
     "metadata": {},
     "output_type": "execute_result"
    }
   ],
   "source": [
    "a[0]"
   ]
  },
  {
   "cell_type": "code",
   "execution_count": 102,
   "id": "ad4ed45e-17a4-4d4b-9cf8-c55141e3d5ba",
   "metadata": {},
   "outputs": [],
   "source": [
    "a[0][0] = 100"
   ]
  },
  {
   "cell_type": "code",
   "execution_count": 103,
   "id": "bf3af736-5391-4cdc-9049-26d1b17708a4",
   "metadata": {},
   "outputs": [
    {
     "data": {
      "text/plain": [
       "[[100, 20], [30, 40]]"
      ]
     },
     "execution_count": 103,
     "metadata": {},
     "output_type": "execute_result"
    }
   ],
   "source": [
    "a"
   ]
  },
  {
   "cell_type": "code",
   "execution_count": 104,
   "id": "400e7d81-78fb-48ec-b62c-e914e6fb8a99",
   "metadata": {},
   "outputs": [
    {
     "data": {
      "text/plain": [
       "100"
      ]
     },
     "execution_count": 104,
     "metadata": {},
     "output_type": "execute_result"
    }
   ],
   "source": [
    "a[0][0]"
   ]
  },
  {
   "cell_type": "code",
   "execution_count": 105,
   "id": "3cfbecb1-669f-4429-9339-c392eee1bc01",
   "metadata": {},
   "outputs": [
    {
     "data": {
      "text/plain": [
       "'123 456'"
      ]
     },
     "execution_count": 105,
     "metadata": {},
     "output_type": "execute_result"
    }
   ],
   "source": [
    "a='123'\n",
    "b='456'\n",
    "f'{a} {b}'"
   ]
  },
  {
   "cell_type": "code",
   "execution_count": null,
   "id": "edbf02b0-d105-465c-b791-2b149cb4eb93",
   "metadata": {},
   "outputs": [],
   "source": []
  }
 ],
 "metadata": {
  "kernelspec": {
   "display_name": "Python 3 (ipykernel)",
   "language": "python",
   "name": "python3"
  },
  "language_info": {
   "codemirror_mode": {
    "name": "ipython",
    "version": 3
   },
   "file_extension": ".py",
   "mimetype": "text/x-python",
   "name": "python",
   "nbconvert_exporter": "python",
   "pygments_lexer": "ipython3",
   "version": "3.10.11"
  }
 },
 "nbformat": 4,
 "nbformat_minor": 5
}
