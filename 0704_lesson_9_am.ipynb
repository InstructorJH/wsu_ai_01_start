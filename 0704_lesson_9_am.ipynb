{
 "cells": [
  {
   "cell_type": "code",
   "execution_count": 1,
   "id": "f82eca4f-77f0-4c48-b01e-daa0712b728f",
   "metadata": {},
   "outputs": [
    {
     "name": "stdin",
     "output_type": "stream",
     "text": [
      "월을 입력하세요 >>>  2\n"
     ]
    },
    {
     "name": "stdout",
     "output_type": "stream",
     "text": [
      "\t\t\t2024년  2 월\n",
      "일\t월\t화\t수\t목\t금\t토\n",
      "\t\t\t\t1\t2\t3\t\n",
      "4\t5\t6\t7\t8\t9\t10\t\n",
      "11\t12\t13\t14\t15\t16\t17\t\n",
      "18\t19\t20\t21\t22\t23\t24\t\n",
      "25\t26\t27\t28\t29\t"
     ]
    }
   ],
   "source": [
    "#키보드로 부터 출력할 월을 입력받아 변수(mon)에 대입한다.\n",
    "#int형으로 변환하는 것은 없다.(마지막날과 빈칸의 데이터를 찾는 키)\n",
    "#입력안내에 대한 내용도 없다.(월을 입력하세요 >>> )\n",
    "mon = int(input('월을 입력하세요 >>> '))\n",
    "#출력할 년도(2024)를 변수(year)에 대입한다.\n",
    "year = 2024\n",
    "#출력할 년도의 마지막 날(12개월)을 리스트에 저장하여 변수(lastDays)에 대입한다.\n",
    "lastDays = [31,28,31,30,31,30,31,31,30,31,30,31] \n",
    "#입력받은 월이 2월인지 확인한다(if)\n",
    "if mon==2:\n",
    "#2월 이면 윤년인지 검사한다.\n",
    "#윤년이란\n",
    "#400나누어 떨어지거나\n",
    "#4로 나누어 떨어지고 100으로 나누어 떨어지지 않아야 한다.\n",
    "    if year%400==0 or (year%4==0 and year%100!=0):\n",
    "#윤년이면 2월에 해당하는 날을 리스트에서 찾아 29일로 수정한다.\n",
    "        lastDays[1] = 29    \n",
    "#24년 각 월의 빈칸을 리스트에 저장하여 변수(spaces)에 대입한다.\n",
    "spaces = [1,4,5,1,3,6,1,4,0,2,5,0]\n",
    "#입력받은 월의 빈칸을 리스트에서 찾아 변수에 대입한다.\n",
    "space = spaces[mon-1]\n",
    "#입력받은 월의 마지막 날을 리스트에서 찾아 변수에 대입한다.\n",
    "lastDay = lastDays[mon-1]\n",
    "#년도와 월을 출력한다.\n",
    "print('\\t\\t\\t2024년 ',mon,'월')\n",
    "#요일을 출력한다.\n",
    "print('일','월','화','수','목','금','토',sep='\\t',end='\\n')\n",
    "#1일을 변수에 대입한다.\n",
    "day = 1\n",
    "#빈칸의 수만큼 탭을 반복한다. \n",
    "for _ in range(space):\n",
    "#탭을 출력한다.\n",
    "    print('\\t',end='')\n",
    "#마지막날의 수만큼 반복한다.\n",
    "for _ in range(lastDay):\n",
    "#날을 출력한다.\n",
    "    print(day,end='\\t')\n",
    "#빈칸과 날의 합이 7인지 확인한다.\n",
    "    if (space+day)%7==0:\n",
    "#7이면 한 줄을 띄운다.\n",
    "        print()\n",
    "#날을 하루 증가한다.\n",
    "    day = day + 1"
   ]
  },
  {
   "cell_type": "code",
   "execution_count": 19,
   "id": "e0cb16e5-934d-45ea-80c1-344e9ec1758b",
   "metadata": {},
   "outputs": [
    {
     "name": "stdin",
     "output_type": "stream",
     "text": [
      "월을 입력하세요 >>>  9\n"
     ]
    },
    {
     "name": "stdout",
     "output_type": "stream",
     "text": [
      "\t\t\t2024년  9 월\n",
      "일\t월\t화\t수\t목\t금\t토\n",
      "1\t2\t3\t4\t5\t6\t7\t\n",
      "8\t9\t10\t11\t12\t13\t14\t\n",
      "15\t16\t17\t18\t19\t20\t21\t\n",
      "22\t23\t24\t25\t26\t27\t28\t\n",
      "29\t30\t"
     ]
    }
   ],
   "source": [
    "from datetime import datetime\n",
    "mon = int(input('월을 입력하세요 >>> '))\n",
    "year = 2024\n",
    "#빈칸 정보를 얻기위해 datetime모듈의 datetime 객체사용\n",
    "now = datetime(year,mon,1)\n",
    "\n",
    "lastDays = [31,28,31,30,31,30,31,31,30,31,30,31]\n",
    "if mon==2:\n",
    "    if year%400==0 or (year%4==0 and year%100!=0):\n",
    "        lastDays[1] = 29    \n",
    "#요일 정보와 빈칸정보의 비교를 통해서 +1을 하면 빈칸 데이터가 나옴\n",
    "space = (now.weekday()+1) % 7\n",
    "#print(space)\n",
    "lastDay = lastDays[mon-1]\n",
    "print('\\t\\t\\t2024년 ',mon,'월')\n",
    "print('일','월','화','수','목','금','토',sep='\\t',end='\\n')\n",
    "day = 1\n",
    "for _ in range(space):\n",
    "    print('\\t',end='')\n",
    "for _ in range(lastDay):\n",
    "    print(day,end='\\t')\n",
    "    if (space+day)%7==0:\n",
    "        print()\n",
    "    day = day + 1"
   ]
  },
  {
   "cell_type": "code",
   "execution_count": 2,
   "id": "3efa8dce-01c1-42f2-b370-c5cdd1978693",
   "metadata": {},
   "outputs": [],
   "source": [
    "import datetime"
   ]
  },
  {
   "cell_type": "code",
   "execution_count": 3,
   "id": "081388c1-498f-4282-9627-a3be0c7fa723",
   "metadata": {},
   "outputs": [
    {
     "name": "stdout",
     "output_type": "stream",
     "text": [
      "2024-07-04 11:08:05.751621\n"
     ]
    }
   ],
   "source": [
    "now = datetime.datetime.today()\n",
    "print(now)"
   ]
  },
  {
   "cell_type": "code",
   "execution_count": 4,
   "id": "7266760d-75a7-49c6-b4a5-29750a3b5a78",
   "metadata": {},
   "outputs": [
    {
     "data": {
      "text/plain": [
       "4"
      ]
     },
     "execution_count": 4,
     "metadata": {},
     "output_type": "execute_result"
    }
   ],
   "source": [
    "now.day"
   ]
  },
  {
   "cell_type": "code",
   "execution_count": 5,
   "id": "de3e56fb-7789-4f4c-91c7-9e5012a16512",
   "metadata": {},
   "outputs": [
    {
     "data": {
      "text/plain": [
       "7"
      ]
     },
     "execution_count": 5,
     "metadata": {},
     "output_type": "execute_result"
    }
   ],
   "source": [
    "now.month"
   ]
  },
  {
   "cell_type": "code",
   "execution_count": 6,
   "id": "8c0557f3-9f7e-4e03-9728-05e07fc24e2a",
   "metadata": {},
   "outputs": [
    {
     "data": {
      "text/plain": [
       "3"
      ]
     },
     "execution_count": 6,
     "metadata": {},
     "output_type": "execute_result"
    }
   ],
   "source": [
    "now.weekday()"
   ]
  },
  {
   "cell_type": "code",
   "execution_count": 12,
   "id": "d3fed6d3-f739-4054-a722-b018b254b7a5",
   "metadata": {},
   "outputs": [],
   "source": [
    "july = datetime.date(2024,9,1)"
   ]
  },
  {
   "cell_type": "code",
   "execution_count": 13,
   "id": "0cb6633c-93a0-473d-bacc-c7cb43a78790",
   "metadata": {},
   "outputs": [
    {
     "name": "stdout",
     "output_type": "stream",
     "text": [
      "6\n"
     ]
    }
   ],
   "source": [
    "print(july.weekday())"
   ]
  },
  {
   "cell_type": "code",
   "execution_count": 26,
   "id": "9b15eca9-8bad-411b-a725-5b2d33a703fc",
   "metadata": {},
   "outputs": [],
   "source": [
    "import random"
   ]
  },
  {
   "cell_type": "code",
   "execution_count": 21,
   "id": "543bd4c3-e586-405c-83fb-ca0e7c624bfa",
   "metadata": {},
   "outputs": [
    {
     "name": "stdout",
     "output_type": "stream",
     "text": [
      "0.5518217190587259\n"
     ]
    }
   ],
   "source": [
    "print(random.random()) #0.0<= r < 1.0"
   ]
  },
  {
   "cell_type": "code",
   "execution_count": 24,
   "id": "e48310df-d544-49d7-8341-927bb1f65d7c",
   "metadata": {},
   "outputs": [
    {
     "name": "stdout",
     "output_type": "stream",
     "text": [
      "1\n"
     ]
    }
   ],
   "source": [
    "for _ in range(1):\n",
    "    print(random.randrange(1,46))"
   ]
  },
  {
   "cell_type": "code",
   "execution_count": 28,
   "id": "7d280dcf-562c-466b-8372-6e95af14d2e3",
   "metadata": {},
   "outputs": [
    {
     "name": "stdout",
     "output_type": "stream",
     "text": [
      "8444\n"
     ]
    }
   ],
   "source": [
    "#중복없이 4자리수(1000~9999)를 생성하는 코드작성하시오\n",
    "number = random.randrange(1000,10000)\n",
    "#number를 중복검사한다.\n",
    "#한자리씩 잘라서 리스트에 넣고 다음 수로 비교하기\n",
    "print(number)"
   ]
  },
  {
   "cell_type": "code",
   "execution_count": 53,
   "id": "b429b711-303f-44b0-bd76-f49cfc998815",
   "metadata": {},
   "outputs": [
    {
     "name": "stdout",
     "output_type": "stream",
     "text": [
      "5987\n"
     ]
    }
   ],
   "source": [
    "while True:\n",
    "    number = random.randrange(1000,10000)\n",
    "    #set이라는 컬렉션이 있음\n",
    "    #순서가 없고 중복을 허락하지 않는 데이터 집합\n",
    "    temp = str(number)\n",
    "    temp = set(list(temp))\n",
    "    if len(temp)==4:\n",
    "        print(number)\n",
    "        break"
   ]
  },
  {
   "cell_type": "code",
   "execution_count": 49,
   "id": "f162e0df-f84e-4c32-baf4-4bc101267fb6",
   "metadata": {},
   "outputs": [
    {
     "name": "stdout",
     "output_type": "stream",
     "text": [
      "{'4', '1', '5', '8'}\n"
     ]
    }
   ],
   "source": [
    "number = set(list('8541'))\n",
    "print(number)"
   ]
  },
  {
   "cell_type": "code",
   "execution_count": 30,
   "id": "78cb483d-4b5e-4747-8e6d-e6c4f815f64c",
   "metadata": {},
   "outputs": [
    {
     "name": "stdout",
     "output_type": "stream",
     "text": [
      "{1, 2}\n"
     ]
    }
   ],
   "source": [
    "test = set([1,1,2])\n",
    "print(test)"
   ]
  },
  {
   "cell_type": "code",
   "execution_count": 32,
   "id": "5d8598b4-cfb3-49a4-9e6f-989ea1afa883",
   "metadata": {},
   "outputs": [
    {
     "name": "stdout",
     "output_type": "stream",
     "text": [
      "{'h', 'l', 'e', 'o'}\n"
     ]
    }
   ],
   "source": [
    "test = set(list('hello'))\n",
    "print(test)"
   ]
  },
  {
   "cell_type": "code",
   "execution_count": 56,
   "id": "41bff434-fe78-4610-b9ec-8339e099a3a6",
   "metadata": {},
   "outputs": [
    {
     "name": "stdout",
     "output_type": "stream",
     "text": [
      "['0', '1', '2', '3', '4', '5', '6', '7', '8', '9']\n",
      "7\n",
      "['0', '1', '2', '3', '4', '5', '6', '8', '9']\n"
     ]
    }
   ],
   "source": [
    "numbers = list('0123456789')\n",
    "print(numbers)\n",
    "index = random.randrange(1,10)\n",
    "print(numbers[index])\n",
    "del numbers[index]\n",
    "print(numbers)"
   ]
  },
  {
   "cell_type": "code",
   "execution_count": null,
   "id": "23387d52-48bf-49bb-aa55-adf3b34e6e6e",
   "metadata": {},
   "outputs": [],
   "source": []
  }
 ],
 "metadata": {
  "kernelspec": {
   "display_name": "Python 3 (ipykernel)",
   "language": "python",
   "name": "python3"
  },
  "language_info": {
   "codemirror_mode": {
    "name": "ipython",
    "version": 3
   },
   "file_extension": ".py",
   "mimetype": "text/x-python",
   "name": "python",
   "nbconvert_exporter": "python",
   "pygments_lexer": "ipython3",
   "version": "3.10.11"
  }
 },
 "nbformat": 4,
 "nbformat_minor": 5
}
