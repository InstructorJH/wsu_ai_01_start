{
 "cells": [
  {
   "cell_type": "code",
   "execution_count": 7,
   "id": "f4813bc7-2f36-4d36-9182-e3741eb0953c",
   "metadata": {},
   "outputs": [],
   "source": [
    "mlist = [1,2,3,4]"
   ]
  },
  {
   "cell_type": "code",
   "execution_count": 8,
   "id": "4fcdb587-76f3-4b13-b8ae-1b832a9e53be",
   "metadata": {},
   "outputs": [
    {
     "data": {
      "text/plain": [
       "[1, 2, 3, 4]"
      ]
     },
     "execution_count": 8,
     "metadata": {},
     "output_type": "execute_result"
    }
   ],
   "source": [
    "mlist"
   ]
  },
  {
   "cell_type": "code",
   "execution_count": 9,
   "id": "2dbec55f-ff0a-4a18-8a60-7e68fad28fc0",
   "metadata": {},
   "outputs": [],
   "source": [
    "#5를 마지막에 추가한다.(Create,add)\n",
    "mlist.append(5)"
   ]
  },
  {
   "cell_type": "code",
   "execution_count": 10,
   "id": "d52856b2-1476-404b-ad79-6b4afb830682",
   "metadata": {},
   "outputs": [
    {
     "data": {
      "text/plain": [
       "[1, 2, 3, 4, 5]"
      ]
     },
     "execution_count": 10,
     "metadata": {},
     "output_type": "execute_result"
    }
   ],
   "source": [
    "mlist"
   ]
  },
  {
   "cell_type": "code",
   "execution_count": 11,
   "id": "9d8ad193-bf71-4396-bd5b-311afa623ce5",
   "metadata": {},
   "outputs": [
    {
     "name": "stdout",
     "output_type": "stream",
     "text": [
      "2\n"
     ]
    }
   ],
   "source": [
    "#2번째 요소를 출력한다.(Read)\n",
    "print(mlist[1])\n"
   ]
  },
  {
   "cell_type": "code",
   "execution_count": 12,
   "id": "d66e1792-715e-4465-a924-b89c6c8a94d9",
   "metadata": {},
   "outputs": [
    {
     "name": "stdout",
     "output_type": "stream",
     "text": [
      "1\n",
      "2\n",
      "3\n",
      "4\n",
      "5\n"
     ]
    }
   ],
   "source": [
    "#모든 요소를 출력한다.(Read all)\n",
    "for ele in mlist:\n",
    "    print(ele)"
   ]
  },
  {
   "cell_type": "code",
   "execution_count": 13,
   "id": "b780d728-602c-4509-8f7f-47e7c19862ec",
   "metadata": {},
   "outputs": [],
   "source": [
    "# 5번째 요소를 삭제한다.(delete)\n",
    "del mlist[4]\n"
   ]
  },
  {
   "cell_type": "code",
   "execution_count": 14,
   "id": "1c1bcca1-2952-42cf-ae02-3dc531dbfabc",
   "metadata": {},
   "outputs": [
    {
     "data": {
      "text/plain": [
       "[1, 2, 3, 4]"
      ]
     },
     "execution_count": 14,
     "metadata": {},
     "output_type": "execute_result"
    }
   ],
   "source": [
    "mlist"
   ]
  },
  {
   "cell_type": "code",
   "execution_count": 15,
   "id": "2577bb04-d8bc-4581-a26f-aee89698d81b",
   "metadata": {},
   "outputs": [],
   "source": [
    "# 1번째 요소를 10으로 수정한다.(update)\n",
    "mlist[0] = 10"
   ]
  },
  {
   "cell_type": "code",
   "execution_count": 16,
   "id": "f0139815-5c95-4f38-b78a-6f348b40e21f",
   "metadata": {},
   "outputs": [
    {
     "data": {
      "text/plain": [
       "[10, 2, 3, 4]"
      ]
     },
     "execution_count": 16,
     "metadata": {},
     "output_type": "execute_result"
    }
   ],
   "source": [
    "mlist"
   ]
  },
  {
   "cell_type": "code",
   "execution_count": 17,
   "id": "c1b32da9-26c6-4a37-bb1e-93eb2a7e719d",
   "metadata": {},
   "outputs": [],
   "source": [
    "#dictionary\n",
    "# 'one' key로 1을 저장\n",
    "# 'two' key로 2을 저장\n",
    "# 'three' key로 3을 저장\n",
    "# 'four' key로 4을 저장 하는 dict를 생성하시오.\n",
    "mdict = {'one':1,'two':2,'three':3,'four':4}"
   ]
  },
  {
   "cell_type": "code",
   "execution_count": 18,
   "id": "84402edd-d0eb-4bf5-b330-7cb905c05ddc",
   "metadata": {},
   "outputs": [
    {
     "data": {
      "text/plain": [
       "{'one': 1, 'two': 2, 'three': 3, 'four': 4}"
      ]
     },
     "execution_count": 18,
     "metadata": {},
     "output_type": "execute_result"
    }
   ],
   "source": [
    "mdict"
   ]
  },
  {
   "cell_type": "code",
   "execution_count": 19,
   "id": "f6d0068d-ec9b-4ef5-bde2-bc698edd25c1",
   "metadata": {},
   "outputs": [],
   "source": [
    "#'five' key로 5을 저장하는 코드 작성\n",
    "mdict['five'] = 5"
   ]
  },
  {
   "cell_type": "code",
   "execution_count": 20,
   "id": "1d3c6f35-066b-4381-9802-468de3be3151",
   "metadata": {},
   "outputs": [
    {
     "data": {
      "text/plain": [
       "{'one': 1, 'two': 2, 'three': 3, 'four': 4, 'five': 5}"
      ]
     },
     "execution_count": 20,
     "metadata": {},
     "output_type": "execute_result"
    }
   ],
   "source": [
    "mdict"
   ]
  },
  {
   "cell_type": "code",
   "execution_count": 21,
   "id": "c47b00fe-89bd-4dc4-a865-66445b589e86",
   "metadata": {},
   "outputs": [
    {
     "data": {
      "text/plain": [
       "1"
      ]
     },
     "execution_count": 21,
     "metadata": {},
     "output_type": "execute_result"
    }
   ],
   "source": [
    "#key가 'one'인 value는\n",
    "mdict['one']"
   ]
  },
  {
   "cell_type": "code",
   "execution_count": 22,
   "id": "97aeb2b6-5799-4605-ac17-ce7d43708e47",
   "metadata": {},
   "outputs": [
    {
     "name": "stdout",
     "output_type": "stream",
     "text": [
      "one 1\n",
      "two 2\n",
      "three 3\n",
      "four 4\n",
      "five 5\n"
     ]
    }
   ],
   "source": [
    "#mdict 의 모든 요소 출력(key를 가지고)\n",
    "for key in mdict.keys():\n",
    "    value = mdict[key]\n",
    "    print(key,value)"
   ]
  },
  {
   "cell_type": "code",
   "execution_count": 23,
   "id": "ab50669f-61c4-45dc-9de7-04ae737f2080",
   "metadata": {},
   "outputs": [
    {
     "name": "stdout",
     "output_type": "stream",
     "text": [
      "one 1\n",
      "two 2\n",
      "three 3\n",
      "four 4\n",
      "five 5\n"
     ]
    }
   ],
   "source": [
    "#mdict 의 모든 요소 출력(item(key,value)가지고)\n",
    "for key,value in mdict.items():\n",
    "    print(key,value)"
   ]
  },
  {
   "cell_type": "code",
   "execution_count": 24,
   "id": "69b3de77-aedb-410e-86b0-292599d94ed0",
   "metadata": {},
   "outputs": [],
   "source": [
    "#key가 five인 요소를 삭제하시오\n",
    "del mdict['five']"
   ]
  },
  {
   "cell_type": "code",
   "execution_count": 27,
   "id": "fea4a7b7-7044-4dad-9b1e-f7f3e22ba577",
   "metadata": {},
   "outputs": [
    {
     "data": {
      "text/plain": [
       "{'one': 10, 'two': 2, 'three': 3, 'four': 4}"
      ]
     },
     "execution_count": 27,
     "metadata": {},
     "output_type": "execute_result"
    }
   ],
   "source": [
    "mdict"
   ]
  },
  {
   "cell_type": "code",
   "execution_count": 26,
   "id": "e95dc7a1-e844-4499-a5f7-caec2b73c973",
   "metadata": {},
   "outputs": [],
   "source": [
    "#key가 one인 요소의 값을 10으로 수정하시오\n",
    "mdict['one'] = 10"
   ]
  },
  {
   "cell_type": "code",
   "execution_count": null,
   "id": "09afbf8b-bdf7-4fb8-af8c-063d0f68da74",
   "metadata": {},
   "outputs": [],
   "source": [
    "#함수의 구성요소를 서술하시오.\n",
    "#함수이름,입력변수,출력변수,키워드(def,return)\n",
    "def plus(a,b):\n",
    "    #함수가 처리할 작업내용\n",
    "    return a+b\n",
    "# 함수가 많은 내용을 처리할 수록 파라메터 수가\n",
    "# 증가하므로 주의해야 한다. 기본값, 파라메터 이름 사용등\n",
    "# 30장에 내용이 있으므로 반드시 익혀둘 것"
   ]
  },
  {
   "cell_type": "code",
   "execution_count": 34,
   "id": "8a67503a-19c5-4f7e-be50-19be55c71590",
   "metadata": {},
   "outputs": [],
   "source": [
    "def viewCalendar(year,mon):\n",
    "    #빈칸, 마지막 날 정보를 얻기위해 getMonthInfo함수 사용\n",
    "    space,lastDay = getMonthInfo(year,mon)   \n",
    "    print('\\t\\t\\t',year,'년 ',mon,'월')\n",
    "    print('일','월','화','수','목','금','토',sep='\\t',end='\\n')\n",
    "    day = 1\n",
    "    for _ in range(space):\n",
    "        print('\\t',end='')\n",
    "    for _ in range(lastDay):\n",
    "        print(day,end='\\t')\n",
    "        if (space+day)%7==0:\n",
    "            print()\n",
    "        day = day + 1    \n",
    "        pass"
   ]
  },
  {
   "cell_type": "code",
   "execution_count": 35,
   "id": "20db09be-6fb9-4283-a273-8e5583b309e3",
   "metadata": {},
   "outputs": [
    {
     "name": "stdout",
     "output_type": "stream",
     "text": [
      "\t\t\t 2024 년  7 월\n",
      "일\t월\t화\t수\t목\t금\t토\n",
      "\t1\t2\t3\t4\t5\t6\t\n",
      "7\t8\t9\t10\t11\t12\t13\t\n",
      "14\t15\t16\t17\t18\t19\t20\t\n",
      "21\t22\t23\t24\t25\t26\t27\t\n",
      "28\t29\t30\t31\t"
     ]
    }
   ],
   "source": [
    "viewCalendar(2024,7)"
   ]
  },
  {
   "cell_type": "code",
   "execution_count": 32,
   "id": "f451b51b-9be2-4b90-8a8c-89e46e5e8792",
   "metadata": {},
   "outputs": [],
   "source": [
    "#달력 코드를 참고하여 빈칸정보와 마지막날 정보를 처리하는 함수를\n",
    "#작성하여 달력코드를 간단하게 수정하시오\n",
    "from datetime import datetime\n",
    "def getMonthInfo(year,mon):\n",
    "    space = 0\n",
    "    lastDay = 0\n",
    "    now = datetime(year,mon,1)\n",
    "    \n",
    "    lastDays = [31,28,31,30,31,30,31,31,30,31,30,31]\n",
    "    if mon==2:\n",
    "        if year%400==0 or (year%4==0 and year%100!=0):\n",
    "            lastDays[1] = 29    \n",
    "    #요일 정보와 빈칸정보의 비교를 통해서 +1을 하면 빈칸 데이터가 나옴\n",
    "    space = (now.weekday()+1) % 7\n",
    "    #print(space)\n",
    "    lastDay = lastDays[mon-1]\n",
    "    return space,lastDay"
   ]
  },
  {
   "cell_type": "code",
   "execution_count": 33,
   "id": "87ee4c73-3c57-4d18-a0c4-90f97fc85d96",
   "metadata": {},
   "outputs": [
    {
     "name": "stdout",
     "output_type": "stream",
     "text": [
      "1 31\n"
     ]
    }
   ],
   "source": [
    "space,lastDay = getMonthInfo(2024,7)\n",
    "print(space,lastDay)"
   ]
  },
  {
   "cell_type": "code",
   "execution_count": null,
   "id": "c9d81bbe-b6da-47d8-84a2-0bbde00dcd57",
   "metadata": {},
   "outputs": [],
   "source": []
  },
  {
   "cell_type": "code",
   "execution_count": null,
   "id": "7d3400df-4033-4167-a1d8-9978420380b2",
   "metadata": {},
   "outputs": [],
   "source": [
    "#함수의 구성\n",
    "\n",
    "#함수 만들기\n",
    "\n",
    "#함수의 처리부분에 필요한 부분 복사 구성\n",
    "\n",
    "#함수 동작하는 지 확인\n",
    "\n",
    "#원래 함수의 새로운 함수부분을 삽입\n",
    " # 새로운 함수로 처리되는 부분 삭제하고\n",
    "\n",
    "#실제로 동작하는 지 확인"
   ]
  },
  {
   "cell_type": "code",
   "execution_count": 52,
   "id": "34d587db-87dd-4a13-b665-fd731d6faff5",
   "metadata": {},
   "outputs": [],
   "source": [
    "#리턴데이터를 가지고 출력할 수 있도록 함수를 수정하시오.\n",
    "def viewCalendarV2(year,mon):\n",
    "    #빈칸, 마지막 날 정보를 얻기위해 getMonthInfo함수 사용\n",
    "    space,lastDay = getMonthInfo(year,mon)\n",
    "    month = []\n",
    "    week = []\n",
    "    month.append(['\\t\\t',year,'년 ',mon,'월'])\n",
    "    month.append(['일','월','화','수','목','금','토'])\n",
    "    day = 1\n",
    "    for _ in range(space):\n",
    "        week.append('')\n",
    "    for _ in range(lastDay):\n",
    "        week.append(day)\n",
    "        if (space+day)%7==0:\n",
    "            month.append(week)\n",
    "            week = []\n",
    "        day = day + 1    \n",
    "        pass\n",
    "    month.append(week)\n",
    "    return month"
   ]
  },
  {
   "cell_type": "code",
   "execution_count": 56,
   "id": "142d3af1-899c-432f-9d22-60d44c3a04bc",
   "metadata": {},
   "outputs": [],
   "source": [
    "#viewCalendar함수를 리턴하는 함수로 수정한다면\n",
    "july = viewCalendarV2(2024,9)"
   ]
  },
  {
   "cell_type": "code",
   "execution_count": 57,
   "id": "039cb66d-55fb-4418-a7cc-be16675354f5",
   "metadata": {},
   "outputs": [
    {
     "name": "stdout",
     "output_type": "stream",
     "text": [
      "['\\t\\t', 2024, '년 ', 9, '월']\n",
      "['일', '월', '화', '수', '목', '금', '토']\n",
      "[1, 2, 3, 4, 5, 6, 7]\n",
      "[8, 9, 10, 11, 12, 13, 14]\n",
      "[15, 16, 17, 18, 19, 20, 21]\n",
      "[22, 23, 24, 25, 26, 27, 28]\n",
      "[29, 30]\n"
     ]
    }
   ],
   "source": [
    "for temp in july:\n",
    "    print(temp)"
   ]
  },
  {
   "cell_type": "code",
   "execution_count": 58,
   "id": "5f537b60-2419-428c-bc9c-5cb6220a6ff9",
   "metadata": {},
   "outputs": [
    {
     "name": "stdout",
     "output_type": "stream",
     "text": [
      "\t\t 2024 년  9 월\n",
      "일\t월\t화\t수\t목\t금\t토\t\n",
      "1\t2\t3\t4\t5\t6\t7\t\n",
      "8\t9\t10\t11\t12\t13\t14\t\n",
      "15\t16\t17\t18\t19\t20\t21\t\n",
      "22\t23\t24\t25\t26\t27\t28\t\n",
      "29\t30\t\n"
     ]
    }
   ],
   "source": [
    "print(*july[0],sep=' ')\n",
    "for week in july[1:]:\n",
    "    for day in week:\n",
    "        print(day,end='\\t')\n",
    "    print()"
   ]
  },
  {
   "cell_type": "code",
   "execution_count": 61,
   "id": "f39c69a7-dde5-4b68-baeb-dc4a6fa5ecd2",
   "metadata": {},
   "outputs": [],
   "source": [
    "#회문 : 앞에서 읽는 철자와 뒤에서 읽는 철자가 동일한 단어\n",
    "#회문 판별 함수 작성\n",
    "def isPalindrome(words):\n",
    "    result = False\n",
    "    #회문 처리 로직\n",
    "    if words == words[::-1]:\n",
    "        result = True\n",
    "    \n",
    "    return result"
   ]
  },
  {
   "cell_type": "code",
   "execution_count": 62,
   "id": "9842e481-5f80-4ea2-9c22-cf519289e92a",
   "metadata": {},
   "outputs": [
    {
     "name": "stdout",
     "output_type": "stream",
     "text": [
      "True\n"
     ]
    }
   ],
   "source": [
    "r = isPalindrome('level')\n",
    "print(r)"
   ]
  },
  {
   "cell_type": "code",
   "execution_count": 68,
   "id": "ccd8f4f1-49fa-49f2-94eb-8301d2408354",
   "metadata": {},
   "outputs": [
    {
     "name": "stdout",
     "output_type": "stream",
     "text": [
      "He\n",
      "el\n",
      "ll\n",
      "lo\n"
     ]
    }
   ],
   "source": [
    "letters = 'Hello'\n",
    "#He, el, ll, lo\n",
    "for index,_ in enumerate(letters[:-1]):\n",
    "    print(letters[index],letters[index+1],sep='')"
   ]
  },
  {
   "cell_type": "code",
   "execution_count": 71,
   "id": "f772939f-d267-413c-af25-d935ecd89170",
   "metadata": {},
   "outputs": [],
   "source": [
    "def printNgram(letters):\n",
    "    #index를 range함수를 이용하여 가져온다\n",
    "    for index in range(len(letters)-1):\n",
    "        #print(letters[index],letters[index+1],sep='')\n",
    "        print(letters[index:index+2])\n",
    "    pass"
   ]
  },
  {
   "cell_type": "code",
   "execution_count": 72,
   "id": "1343c945-0b7e-4fe4-b366-27b0df0586e1",
   "metadata": {},
   "outputs": [
    {
     "name": "stdout",
     "output_type": "stream",
     "text": [
      "He\n",
      "el\n",
      "ll\n",
      "lo\n"
     ]
    }
   ],
   "source": [
    "printNgram('Hello')"
   ]
  },
  {
   "cell_type": "code",
   "execution_count": null,
   "id": "e6366631-88bd-4fbb-8d1e-d145b76c3cc9",
   "metadata": {},
   "outputs": [],
   "source": [
    "#33장 1. 변수의 범위, 2. 함수안의 함수를 사용하는 방법"
   ]
  }
 ],
 "metadata": {
  "kernelspec": {
   "display_name": "Python 3 (ipykernel)",
   "language": "python",
   "name": "python3"
  },
  "language_info": {
   "codemirror_mode": {
    "name": "ipython",
    "version": 3
   },
   "file_extension": ".py",
   "mimetype": "text/x-python",
   "name": "python",
   "nbconvert_exporter": "python",
   "pygments_lexer": "ipython3",
   "version": "3.10.11"
  }
 },
 "nbformat": 4,
 "nbformat_minor": 5
}
