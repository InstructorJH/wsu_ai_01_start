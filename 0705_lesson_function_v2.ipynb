{
 "cells": [
  {
   "cell_type": "code",
   "execution_count": 2,
   "id": "e963398d-f76b-451d-856b-e4391142a40f",
   "metadata": {},
   "outputs": [],
   "source": [
    "def makeDataFromFile(fileDir,fileName):\n",
    "    students = []\n",
    "    with open(fileDir+'\\\\'+fileName,'r') as file:\n",
    "        #1-1. 파일안의 컨텐츠에 연결하여 모든 라인을 가져온다.\n",
    "        lines = file.readlines()\n",
    "    for line in lines:\n",
    "        student = []\n",
    "        # 3.가져온 한줄을 분리한다.(콤마로 분리)\n",
    "        temp = line[:-1].split(',')\n",
    "        # 4.분리된 데이터를 타입에 맞추어 분리한다\n",
    "        stdNo = int(temp[0])\n",
    "        student.append(stdNo)\n",
    "        student.append(temp[1])\n",
    "        for ele in temp[2:8]:\n",
    "            val = int(ele)\n",
    "            student.append(val)\n",
    "        # 5.분리한 데이터를 리스트에 저장한다.\n",
    "        for ele in temp[8:]:\n",
    "            student.append(ele)\n",
    "        # 6.리스트를 리스트에 저장한다.\n",
    "        students.append(student)\n",
    "    return students"
   ]
  },
  {
   "cell_type": "code",
   "execution_count": 3,
   "id": "28520eb4-47a4-41ed-a909-b82a412d25f8",
   "metadata": {},
   "outputs": [],
   "source": [
    "def solveQuiz1(data):\n",
    "    #data = makeDataFromFile('.\\data','Abc1115.csv')\n",
    "    quiz1Data = [] #정렬의 대상을 저장할 리스트\n",
    "    for temp in data:\n",
    "    #지역코드가 B인 데이터를 quiz1Data에 저장하시오.\n",
    "        if temp[10] == 'B':\n",
    "            temp.append(temp[2]+temp[3])\n",
    "            quiz1Data.append(temp)\n",
    "        pass\n",
    "    for index,_ in enumerate(quiz1Data[:-1]):\n",
    "        for idx,value in enumerate(quiz1Data[index+1:]):\n",
    "            number = quiz1Data[index][-1]\n",
    "            if number < value[-1]:\n",
    "                temp = quiz1Data[index] #number\n",
    "                quiz1Data[index] = value #i\n",
    "                quiz1Data[idx+(index+1)] = temp\n",
    "                #break\n",
    "            #print(idx,i)\n",
    "            elif number == value[-1]:\n",
    "                # 점수가 같을 경우 학번을 오름차순으로 정렬하기\n",
    "                number = quiz1Data[index][0]\n",
    "                if number > value[0]:\n",
    "                    temp = quiz1Data[index] #number\n",
    "                    quiz1Data[index] = value #i\n",
    "                    quiz1Data[idx+(index+1)] = temp\n",
    "                pass\n",
    "                \n",
    "            pass\n",
    "\n",
    "    return quiz1Data[4][0] #5번째 학생(index 4)의 학번(index 0) 정보"
   ]
  },
  {
   "cell_type": "code",
   "execution_count": 4,
   "id": "2df019be-bc7e-438d-b9cb-72f6c44b01e4",
   "metadata": {},
   "outputs": [
    {
     "name": "stdout",
     "output_type": "stream",
     "text": [
      "1000\n",
      "[990001, 'addx', 17, 29, 16, 49, 43, 154, 'C', 'A', 'C']\n",
      "[990002, 'stch', 30, 9, 48, 25, 81, 193, 'C', 'A', 'A']\n",
      "[990003, 'gali', 93, 60, 6, 84, 36, 279, 'A', 'C', 'A']\n",
      "[990004, 'miat', 73, 22, 48, 24, 72, 239, 'B', 'C', 'C']\n",
      "[990005, 'oran', 33, 38, 59, 58, 28, 216, 'C', 'B', 'A']\n"
     ]
    }
   ],
   "source": [
    "students = makeDataFromFile('.\\data','Abc1115.csv')\n",
    "print(len(students))\n",
    "for student in students[:5]:\n",
    "    print(student)"
   ]
  },
  {
   "cell_type": "code",
   "execution_count": 5,
   "id": "a9d61f42-02f8-4abe-b821-3f7b370349a8",
   "metadata": {},
   "outputs": [],
   "source": [
    "def solveQuiz2(students):\n",
    "    #students = makeDataFromFile('.\\data','Abc1115.csv')\n",
    "    quiz2Max = 0\n",
    "    for student in students:\n",
    "        quiz2Temp = student[2]+student[3]\n",
    "        if student[10]=='B':\n",
    "            if quiz2Max < quiz2Temp:\n",
    "                quiz2Max = quiz2Temp    \n",
    "    return quiz2Max"
   ]
  },
  {
   "cell_type": "code",
   "execution_count": 6,
   "id": "41c10e81-3b62-4e9f-ac7a-6c3314fe8aef",
   "metadata": {},
   "outputs": [
    {
     "ename": "TypeError",
     "evalue": "solveQuiz2() missing 1 required positional argument: 'students'",
     "output_type": "error",
     "traceback": [
      "\u001b[1;31m---------------------------------------------------------------------------\u001b[0m",
      "\u001b[1;31mTypeError\u001b[0m                                 Traceback (most recent call last)",
      "Cell \u001b[1;32mIn[6], line 1\u001b[0m\n\u001b[1;32m----> 1\u001b[0m \u001b[43msolveQuiz2\u001b[49m\u001b[43m(\u001b[49m\u001b[43m)\u001b[49m\n",
      "\u001b[1;31mTypeError\u001b[0m: solveQuiz2() missing 1 required positional argument: 'students'"
     ]
    }
   ],
   "source": [
    "solveQuiz2()"
   ]
  },
  {
   "cell_type": "code",
   "execution_count": 7,
   "id": "8373a08a-12c9-4e75-9d6b-a16fbf8f9b31",
   "metadata": {},
   "outputs": [],
   "source": [
    "def solveQuiz3(students):\n",
    "    #students = makeDataFromFile('.\\data','Abc1115.csv')\n",
    "    quiz3Answer = 0\n",
    "    count = 0\n",
    "    for student in students:\n",
    "        #영어+수학점수 120 이상자료\n",
    "        if student[3]+student[4] >= 120:\n",
    "            count = count + 1\n",
    "            # 총점+점수포인트\n",
    "            point = 5\n",
    "            if student[9]=='B':\n",
    "                point = 15\n",
    "            elif student[9]=='C':\n",
    "                point = 20\n",
    "            quiz3Answer = quiz3Answer + (student[7]+point)\n",
    "        pass\n",
    "    return quiz3Answer"
   ]
  },
  {
   "cell_type": "code",
   "execution_count": 12,
   "id": "c0956085-0794-4c3e-9241-61414e1ca423",
   "metadata": {},
   "outputs": [
    {
     "name": "stdout",
     "output_type": "stream",
     "text": [
      "99549 316\n"
     ]
    }
   ],
   "source": [
    "solveQuiz3()"
   ]
  },
  {
   "cell_type": "code",
   "execution_count": 8,
   "id": "4789cb3f-ab6a-432a-9957-9a0d99bc0ea8",
   "metadata": {},
   "outputs": [],
   "source": [
    "def solveQuiz4(students):\n",
    "    #students = makeDataFromFile('.\\data','Abc1115.csv')\n",
    "    count = 0 \n",
    "    for student in students:\n",
    "    #성취도가 A, B인 자료에 대해서  \n",
    "        if student[9]=='A' or student[9]=='B':\n",
    "            point = 5\n",
    "            if student[10]=='B':\n",
    "                point = 10\n",
    "            elif student[10]=='C':\n",
    "                point = 15\n",
    "    #국어점수 + 포인트 >= 50 인\n",
    "            if student[2]+point >=50:\n",
    "                 #자료건수\n",
    "                count = count + 1\n",
    "    return count"
   ]
  },
  {
   "cell_type": "code",
   "execution_count": 14,
   "id": "c6961709-6741-437f-8e40-0910c57d3c97",
   "metadata": {},
   "outputs": [
    {
     "name": "stdout",
     "output_type": "stream",
     "text": [
      "397\n"
     ]
    }
   ],
   "source": [
    "solveQuiz4()"
   ]
  },
  {
   "cell_type": "code",
   "execution_count": 9,
   "id": "ea13d913-8cee-4ae7-88e9-021fcfd4c105",
   "metadata": {},
   "outputs": [],
   "source": [
    "def marking(markNo,answer):\n",
    "    file = open('.\\data\\Ans'+str(markNo)+'.txt','w')\n",
    "    file.write(str(answer))\n",
    "    file.close()\n",
    "    pass"
   ]
  },
  {
   "cell_type": "code",
   "execution_count": 10,
   "id": "1b51210e-d538-4994-9e62-8abc3b642867",
   "metadata": {},
   "outputs": [],
   "source": [
    "def goTestCenter():\n",
    "    print('start test')\n",
    "    students = makeDataFromFile('.\\data','Abc1115.csv')\n",
    "    answer1 = solveQuiz1(students)\n",
    "    answer2 = solveQuiz2(students)\n",
    "    answer3 = solveQuiz3(students)\n",
    "    answer4 = solveQuiz4(students)\n",
    "    #marking1\n",
    "    marking(1,answer1)\n",
    "    #marking2\n",
    "    marking(2,answer2)\n",
    "    #marking3\n",
    "    marking(3,answer3)\n",
    "    #marking4\n",
    "    marking(4,answer4)\n",
    "    print('end test')\n",
    "    pass"
   ]
  },
  {
   "cell_type": "code",
   "execution_count": 11,
   "id": "6fcfc295-b249-42eb-9629-99856c50e586",
   "metadata": {},
   "outputs": [
    {
     "name": "stdout",
     "output_type": "stream",
     "text": [
      "start test\n",
      "end test\n"
     ]
    }
   ],
   "source": [
    "goTestCenter()"
   ]
  },
  {
   "cell_type": "code",
   "execution_count": 15,
   "id": "3687e99e-0854-444e-9156-c2972ccce7e8",
   "metadata": {},
   "outputs": [],
   "source": [
    "from datetime import datetime\n",
    "def viewCalendar(year,mon):\n",
    "    #빈칸 정보를 얻기위해 datetime모듈의 datetime 객체사용\n",
    "    now = datetime(year,mon,1)\n",
    "    \n",
    "    lastDays = [31,28,31,30,31,30,31,31,30,31,30,31]\n",
    "    if mon==2:\n",
    "        if year%400==0 or (year%4==0 and year%100!=0):\n",
    "            lastDays[1] = 29    \n",
    "    #요일 정보와 빈칸정보의 비교를 통해서 +1을 하면 빈칸 데이터가 나옴\n",
    "    space = (now.weekday()+1) % 7\n",
    "    #print(space)\n",
    "    lastDay = lastDays[mon-1]\n",
    "    print('\\t\\t\\t',year,'년 ',mon,'월')\n",
    "    print('일','월','화','수','목','금','토',sep='\\t',end='\\n')\n",
    "    day = 1\n",
    "    for _ in range(space):\n",
    "        print('\\t',end='')\n",
    "    for _ in range(lastDay):\n",
    "        print(day,end='\\t')\n",
    "        if (space+day)%7==0:\n",
    "            print()\n",
    "        day = day + 1\n",
    "    \n",
    "        pass"
   ]
  },
  {
   "cell_type": "code",
   "execution_count": 20,
   "id": "a613e425-4459-456d-adab-4db85941d9db",
   "metadata": {},
   "outputs": [
    {
     "name": "stdin",
     "output_type": "stream",
     "text": [
      "년도를 입력하세요 >>>  1986\n",
      "월을 입력하세요 >>>  3\n"
     ]
    },
    {
     "name": "stdout",
     "output_type": "stream",
     "text": [
      "\t\t\t 1986 년  3 월\n",
      "일\t월\t화\t수\t목\t금\t토\n",
      "\t\t\t\t\t\t1\t\n",
      "2\t3\t4\t5\t6\t7\t8\t\n",
      "9\t10\t11\t12\t13\t14\t15\t\n",
      "16\t17\t18\t19\t20\t21\t22\t\n",
      "23\t24\t25\t26\t27\t28\t29\t\n",
      "30\t31\t"
     ]
    },
    {
     "name": "stdin",
     "output_type": "stream",
     "text": [
      "continue ? [0:no 1:yes] 1\n",
      "년도를 입력하세요 >>>  1988\n",
      "월을 입력하세요 >>>  5\n"
     ]
    },
    {
     "name": "stdout",
     "output_type": "stream",
     "text": [
      "\t\t\t 1988 년  5 월\n",
      "일\t월\t화\t수\t목\t금\t토\n",
      "1\t2\t3\t4\t5\t6\t7\t\n",
      "8\t9\t10\t11\t12\t13\t14\t\n",
      "15\t16\t17\t18\t19\t20\t21\t\n",
      "22\t23\t24\t25\t26\t27\t28\t\n",
      "29\t30\t31\t"
     ]
    },
    {
     "name": "stdin",
     "output_type": "stream",
     "text": [
      "continue ? [0:no 1:yes] 0\n"
     ]
    }
   ],
   "source": [
    "while True:\n",
    "    year = int(input('년도를 입력하세요 >>> '))\n",
    "    month = int(input('월을 입력하세요 >>> '))\n",
    "    viewCalendar(year,month)\n",
    "    cmd = int(input('continue ? [0:no 1:yes]'))\n",
    "    if  cmd == 0:\n",
    "        print('thank you!!!')\n",
    "        break"
   ]
  },
  {
   "cell_type": "code",
   "execution_count": null,
   "id": "5040caf5-b264-4613-9135-01725759c9bc",
   "metadata": {},
   "outputs": [],
   "source": []
  }
 ],
 "metadata": {
  "kernelspec": {
   "display_name": "Python 3 (ipykernel)",
   "language": "python",
   "name": "python3"
  },
  "language_info": {
   "codemirror_mode": {
    "name": "ipython",
    "version": 3
   },
   "file_extension": ".py",
   "mimetype": "text/x-python",
   "name": "python",
   "nbconvert_exporter": "python",
   "pygments_lexer": "ipython3",
   "version": "3.10.11"
  }
 },
 "nbformat": 4,
 "nbformat_minor": 5
}
