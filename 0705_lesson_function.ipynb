{
 "cells": [
  {
   "cell_type": "code",
   "execution_count": 8,
   "id": "e963398d-f76b-451d-856b-e4391142a40f",
   "metadata": {},
   "outputs": [],
   "source": [
    "def makeDataFromFile(fileDir,fileName):\n",
    "    students = []\n",
    "    with open(fileDir+'\\\\'+fileName,'r') as file:\n",
    "        #1-1. 파일안의 컨텐츠에 연결하여 모든 라인을 가져온다.\n",
    "        lines = file.readlines()\n",
    "    for line in lines:\n",
    "        student = []\n",
    "        # 3.가져온 한줄을 분리한다.(콤마로 분리)\n",
    "        temp = line[:-1].split(',')\n",
    "        # 4.분리된 데이터를 타입에 맞추어 분리한다\n",
    "        stdNo = int(temp[0])\n",
    "        student.append(stdNo)\n",
    "        student.append(temp[1])\n",
    "        for ele in temp[2:8]:\n",
    "            val = int(ele)\n",
    "            student.append(val)\n",
    "        # 5.분리한 데이터를 리스트에 저장한다.\n",
    "        for ele in temp[8:]:\n",
    "            student.append(ele)\n",
    "        # 6.리스트를 리스트에 저장한다.\n",
    "        students.append(student)\n",
    "    return students"
   ]
  },
  {
   "cell_type": "code",
   "execution_count": null,
   "id": "28520eb4-47a4-41ed-a909-b82a412d25f8",
   "metadata": {},
   "outputs": [],
   "source": [
    "def solveQuiz1():\n",
    "    data = makeDataFromFile('.\\data','Abc1115.csv')\n",
    "    quiz1Data = [] #정렬의 대상을 저장할 리스트\n",
    "    for temp in data:\n",
    "    #지역코드가 B인 데이터를 quiz1Data에 저장하시오.\n",
    "        if temp[10] == 'B':\n",
    "            temp.append(temp[2]+temp[3])\n",
    "            quiz1Data.append(temp)\n",
    "        pass\n",
    "    for index,_ in enumerate(quiz1Data[:-1]):\n",
    "        for idx,value in enumerate(quiz1Data[index+1:]):\n",
    "            number = quiz1Data[index][-1]\n",
    "            if number < value[-1]:\n",
    "                temp = quiz1Data[index] #number\n",
    "                quiz1Data[index] = value #i\n",
    "                quiz1Data[idx+(index+1)] = temp\n",
    "                #break\n",
    "            #print(idx,i)\n",
    "            elif number == value[-1]:\n",
    "                # 점수가 같을 경우 학번을 오름차순으로 정렬하기\n",
    "                number = quiz1Data[index][0]\n",
    "                if number > value[0]:\n",
    "                    temp = quiz1Data[index] #number\n",
    "                    quiz1Data[index] = value #i\n",
    "                    quiz1Data[idx+(index+1)] = temp\n",
    "                pass\n",
    "                \n",
    "            pass\n",
    "\n",
    "    for student in quiz1Data[10:20]:\n",
    "        print(student)\n",
    "    pass"
   ]
  },
  {
   "cell_type": "code",
   "execution_count": null,
   "id": "2df019be-bc7e-438d-b9cb-72f6c44b01e4",
   "metadata": {},
   "outputs": [],
   "source": [
    "print(len(students))\n",
    "for student in students[:5]:\n",
    "    print(student)"
   ]
  },
  {
   "cell_type": "code",
   "execution_count": 9,
   "id": "a9d61f42-02f8-4abe-b821-3f7b370349a8",
   "metadata": {},
   "outputs": [],
   "source": [
    "def solveQuiz2():\n",
    "    students = makeDataFromFile('.\\data','Abc1115.csv')\n",
    "    quiz2Max = 0\n",
    "    for student in students:\n",
    "        quiz2Temp = student[2]+student[3]\n",
    "        if student[10]=='B':\n",
    "            if quiz2Max < quiz2Temp:\n",
    "                quiz2Max = quiz2Temp    \n",
    "    print(quiz2Max)\n",
    "    pass"
   ]
  },
  {
   "cell_type": "code",
   "execution_count": 10,
   "id": "41c10e81-3b62-4e9f-ac7a-6c3314fe8aef",
   "metadata": {},
   "outputs": [
    {
     "name": "stdout",
     "output_type": "stream",
     "text": [
      "192\n"
     ]
    }
   ],
   "source": [
    "solveQuiz2()"
   ]
  },
  {
   "cell_type": "code",
   "execution_count": 11,
   "id": "8373a08a-12c9-4e75-9d6b-a16fbf8f9b31",
   "metadata": {},
   "outputs": [],
   "source": [
    "def solveQuiz3():\n",
    "    students = makeDataFromFile('.\\data','Abc1115.csv')\n",
    "    quiz3Answer = 0\n",
    "    count = 0\n",
    "    for student in students:\n",
    "        #영어+수학점수 120 이상자료\n",
    "        if student[3]+student[4] >= 120:\n",
    "            count = count + 1\n",
    "            # 총점+점수포인트\n",
    "            point = 5\n",
    "            if student[9]=='B':\n",
    "                point = 15\n",
    "            elif student[9]=='C':\n",
    "                point = 20\n",
    "            quiz3Answer = quiz3Answer + (student[7]+point)\n",
    "        pass\n",
    "    print(quiz3Answer,count)\n",
    "    pass"
   ]
  },
  {
   "cell_type": "code",
   "execution_count": 12,
   "id": "c0956085-0794-4c3e-9241-61414e1ca423",
   "metadata": {},
   "outputs": [
    {
     "name": "stdout",
     "output_type": "stream",
     "text": [
      "99549 316\n"
     ]
    }
   ],
   "source": [
    "solveQuiz3()"
   ]
  },
  {
   "cell_type": "code",
   "execution_count": 13,
   "id": "4789cb3f-ab6a-432a-9957-9a0d99bc0ea8",
   "metadata": {},
   "outputs": [],
   "source": [
    "def solveQuiz4():\n",
    "    students = makeDataFromFile('.\\data','Abc1115.csv')\n",
    "    count = 0 \n",
    "    for student in students:\n",
    "    #성취도가 A, B인 자료에 대해서  \n",
    "        if student[9]=='A' or student[9]=='B':\n",
    "            point = 5\n",
    "            if student[10]=='B':\n",
    "                point = 10\n",
    "            elif student[10]=='C':\n",
    "                point = 15\n",
    "    #국어점수 + 포인트 >= 50 인\n",
    "            if student[2]+point >=50:\n",
    "                 #자료건수\n",
    "                count = count + 1\n",
    "    print(count)\n",
    "    pass"
   ]
  },
  {
   "cell_type": "code",
   "execution_count": 14,
   "id": "c6961709-6741-437f-8e40-0910c57d3c97",
   "metadata": {},
   "outputs": [
    {
     "name": "stdout",
     "output_type": "stream",
     "text": [
      "397\n"
     ]
    }
   ],
   "source": [
    "solveQuiz4()"
   ]
  },
  {
   "cell_type": "code",
   "execution_count": null,
   "id": "3687e99e-0854-444e-9156-c2972ccce7e8",
   "metadata": {},
   "outputs": [],
   "source": [
    "from datetime import datetime\n",
    "def viewCalendar(year,mon):\n",
    "    #빈칸 정보를 얻기위해 datetime모듈의 datetime 객체사용\n",
    "    now = datetime(year,mon,1)\n",
    "    \n",
    "    lastDays = [31,28,31,30,31,30,31,31,30,31,30,31]\n",
    "    if mon==2:\n",
    "        if year%400==0 or (year%4==0 and year%100!=0):\n",
    "            lastDays[1] = 29    \n",
    "    #요일 정보와 빈칸정보의 비교를 통해서 +1을 하면 빈칸 데이터가 나옴\n",
    "    space = (now.weekday()+1) % 7\n",
    "    #print(space)\n",
    "    lastDay = lastDays[mon-1]\n",
    "    print('\\t\\t\\t',year,'년 ',mon,'월')\n",
    "    print('일','월','화','수','목','금','토',sep='\\t',end='\\n')\n",
    "    day = 1\n",
    "    for _ in range(space):\n",
    "        print('\\t',end='')\n",
    "    for _ in range(lastDay):\n",
    "        print(day,end='\\t')\n",
    "        if (space+day)%7==0:\n",
    "            print()\n",
    "        day = day + 1\n",
    "    \n",
    "        pass"
   ]
  }
 ],
 "metadata": {
  "kernelspec": {
   "display_name": "Python 3 (ipykernel)",
   "language": "python",
   "name": "python3"
  },
  "language_info": {
   "codemirror_mode": {
    "name": "ipython",
    "version": 3
   },
   "file_extension": ".py",
   "mimetype": "text/x-python",
   "name": "python",
   "nbconvert_exporter": "python",
   "pygments_lexer": "ipython3",
   "version": "3.10.11"
  }
 },
 "nbformat": 4,
 "nbformat_minor": 5
}
