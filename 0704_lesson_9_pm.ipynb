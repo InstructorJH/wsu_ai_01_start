{
 "cells": [
  {
   "cell_type": "code",
   "execution_count": 1,
   "id": "f82eca4f-77f0-4c48-b01e-daa0712b728f",
   "metadata": {},
   "outputs": [
    {
     "name": "stdin",
     "output_type": "stream",
     "text": [
      "월을 입력하세요 >>>  2\n"
     ]
    },
    {
     "name": "stdout",
     "output_type": "stream",
     "text": [
      "\t\t\t2024년  2 월\n",
      "일\t월\t화\t수\t목\t금\t토\n",
      "\t\t\t\t1\t2\t3\t\n",
      "4\t5\t6\t7\t8\t9\t10\t\n",
      "11\t12\t13\t14\t15\t16\t17\t\n",
      "18\t19\t20\t21\t22\t23\t24\t\n",
      "25\t26\t27\t28\t29\t"
     ]
    }
   ],
   "source": [
    "#키보드로 부터 출력할 월을 입력받아 변수(mon)에 대입한다.\n",
    "#int형으로 변환하는 것은 없다.(마지막날과 빈칸의 데이터를 찾는 키)\n",
    "#입력안내에 대한 내용도 없다.(월을 입력하세요 >>> )\n",
    "mon = int(input('월을 입력하세요 >>> '))\n",
    "#출력할 년도(2024)를 변수(year)에 대입한다.\n",
    "year = 2024\n",
    "#출력할 년도의 마지막 날(12개월)을 리스트에 저장하여 변수(lastDays)에 대입한다.\n",
    "lastDays = [31,28,31,30,31,30,31,31,30,31,30,31] \n",
    "#입력받은 월이 2월인지 확인한다(if)\n",
    "if mon==2:\n",
    "#2월 이면 윤년인지 검사한다.\n",
    "#윤년이란\n",
    "#400나누어 떨어지거나\n",
    "#4로 나누어 떨어지고 100으로 나누어 떨어지지 않아야 한다.\n",
    "    if year%400==0 or (year%4==0 and year%100!=0):\n",
    "#윤년이면 2월에 해당하는 날을 리스트에서 찾아 29일로 수정한다.\n",
    "        lastDays[1] = 29    \n",
    "#24년 각 월의 빈칸을 리스트에 저장하여 변수(spaces)에 대입한다.\n",
    "spaces = [1,4,5,1,3,6,1,4,0,2,5,0]\n",
    "#입력받은 월의 빈칸을 리스트에서 찾아 변수에 대입한다.\n",
    "space = spaces[mon-1]\n",
    "#입력받은 월의 마지막 날을 리스트에서 찾아 변수에 대입한다.\n",
    "lastDay = lastDays[mon-1]\n",
    "#년도와 월을 출력한다.\n",
    "print('\\t\\t\\t2024년 ',mon,'월')\n",
    "#요일을 출력한다.\n",
    "print('일','월','화','수','목','금','토',sep='\\t',end='\\n')\n",
    "#1일을 변수에 대입한다.\n",
    "day = 1\n",
    "#빈칸의 수만큼 탭을 반복한다. \n",
    "for _ in range(space):\n",
    "#탭을 출력한다.\n",
    "    print('\\t',end='')\n",
    "#마지막날의 수만큼 반복한다.\n",
    "for _ in range(lastDay):\n",
    "#날을 출력한다.\n",
    "    print(day,end='\\t')\n",
    "#빈칸과 날의 합이 7인지 확인한다.\n",
    "    if (space+day)%7==0:\n",
    "#7이면 한 줄을 띄운다.\n",
    "        print()\n",
    "#날을 하루 증가한다.\n",
    "    day = day + 1"
   ]
  },
  {
   "cell_type": "code",
   "execution_count": 19,
   "id": "e0cb16e5-934d-45ea-80c1-344e9ec1758b",
   "metadata": {},
   "outputs": [
    {
     "name": "stdin",
     "output_type": "stream",
     "text": [
      "월을 입력하세요 >>>  9\n"
     ]
    },
    {
     "name": "stdout",
     "output_type": "stream",
     "text": [
      "\t\t\t2024년  9 월\n",
      "일\t월\t화\t수\t목\t금\t토\n",
      "1\t2\t3\t4\t5\t6\t7\t\n",
      "8\t9\t10\t11\t12\t13\t14\t\n",
      "15\t16\t17\t18\t19\t20\t21\t\n",
      "22\t23\t24\t25\t26\t27\t28\t\n",
      "29\t30\t"
     ]
    }
   ],
   "source": [
    "from datetime import datetime\n",
    "mon = int(input('월을 입력하세요 >>> '))\n",
    "year = 2024\n",
    "#빈칸 정보를 얻기위해 datetime모듈의 datetime 객체사용\n",
    "now = datetime(year,mon,1)\n",
    "\n",
    "lastDays = [31,28,31,30,31,30,31,31,30,31,30,31]\n",
    "if mon==2:\n",
    "    if year%400==0 or (year%4==0 and year%100!=0):\n",
    "        lastDays[1] = 29    \n",
    "#요일 정보와 빈칸정보의 비교를 통해서 +1을 하면 빈칸 데이터가 나옴\n",
    "space = (now.weekday()+1) % 7\n",
    "#print(space)\n",
    "lastDay = lastDays[mon-1]\n",
    "print('\\t\\t\\t2024년 ',mon,'월')\n",
    "print('일','월','화','수','목','금','토',sep='\\t',end='\\n')\n",
    "day = 1\n",
    "for _ in range(space):\n",
    "    print('\\t',end='')\n",
    "for _ in range(lastDay):\n",
    "    print(day,end='\\t')\n",
    "    if (space+day)%7==0:\n",
    "        print()\n",
    "    day = day + 1"
   ]
  },
  {
   "cell_type": "code",
   "execution_count": 2,
   "id": "3efa8dce-01c1-42f2-b370-c5cdd1978693",
   "metadata": {},
   "outputs": [],
   "source": [
    "import datetime"
   ]
  },
  {
   "cell_type": "code",
   "execution_count": 3,
   "id": "081388c1-498f-4282-9627-a3be0c7fa723",
   "metadata": {},
   "outputs": [
    {
     "name": "stdout",
     "output_type": "stream",
     "text": [
      "2024-07-04 11:08:05.751621\n"
     ]
    }
   ],
   "source": [
    "now = datetime.datetime.today()\n",
    "print(now)"
   ]
  },
  {
   "cell_type": "code",
   "execution_count": 4,
   "id": "7266760d-75a7-49c6-b4a5-29750a3b5a78",
   "metadata": {},
   "outputs": [
    {
     "data": {
      "text/plain": [
       "4"
      ]
     },
     "execution_count": 4,
     "metadata": {},
     "output_type": "execute_result"
    }
   ],
   "source": [
    "now.day"
   ]
  },
  {
   "cell_type": "code",
   "execution_count": 5,
   "id": "de3e56fb-7789-4f4c-91c7-9e5012a16512",
   "metadata": {},
   "outputs": [
    {
     "data": {
      "text/plain": [
       "7"
      ]
     },
     "execution_count": 5,
     "metadata": {},
     "output_type": "execute_result"
    }
   ],
   "source": [
    "now.month"
   ]
  },
  {
   "cell_type": "code",
   "execution_count": 6,
   "id": "8c0557f3-9f7e-4e03-9728-05e07fc24e2a",
   "metadata": {},
   "outputs": [
    {
     "data": {
      "text/plain": [
       "3"
      ]
     },
     "execution_count": 6,
     "metadata": {},
     "output_type": "execute_result"
    }
   ],
   "source": [
    "now.weekday()"
   ]
  },
  {
   "cell_type": "code",
   "execution_count": 12,
   "id": "d3fed6d3-f739-4054-a722-b018b254b7a5",
   "metadata": {},
   "outputs": [],
   "source": [
    "july = datetime.date(2024,9,1)"
   ]
  },
  {
   "cell_type": "code",
   "execution_count": 13,
   "id": "0cb6633c-93a0-473d-bacc-c7cb43a78790",
   "metadata": {},
   "outputs": [
    {
     "name": "stdout",
     "output_type": "stream",
     "text": [
      "6\n"
     ]
    }
   ],
   "source": [
    "print(july.weekday())"
   ]
  },
  {
   "cell_type": "code",
   "execution_count": 26,
   "id": "9b15eca9-8bad-411b-a725-5b2d33a703fc",
   "metadata": {},
   "outputs": [],
   "source": [
    "import random"
   ]
  },
  {
   "cell_type": "code",
   "execution_count": 21,
   "id": "543bd4c3-e586-405c-83fb-ca0e7c624bfa",
   "metadata": {},
   "outputs": [
    {
     "name": "stdout",
     "output_type": "stream",
     "text": [
      "0.5518217190587259\n"
     ]
    }
   ],
   "source": [
    "print(random.random()) #0.0<= r < 1.0"
   ]
  },
  {
   "cell_type": "code",
   "execution_count": 24,
   "id": "e48310df-d544-49d7-8341-927bb1f65d7c",
   "metadata": {},
   "outputs": [
    {
     "name": "stdout",
     "output_type": "stream",
     "text": [
      "1\n"
     ]
    }
   ],
   "source": [
    "for _ in range(1):\n",
    "    print(random.randrange(1,46))"
   ]
  },
  {
   "cell_type": "code",
   "execution_count": 28,
   "id": "7d280dcf-562c-466b-8372-6e95af14d2e3",
   "metadata": {},
   "outputs": [
    {
     "name": "stdout",
     "output_type": "stream",
     "text": [
      "8444\n"
     ]
    }
   ],
   "source": [
    "#중복없이 4자리수(1000~9999)를 생성하는 코드작성하시오\n",
    "number = random.randrange(1000,10000)\n",
    "#number를 중복검사한다.\n",
    "#한자리씩 잘라서 리스트에 넣고 다음 수로 비교하기\n",
    "print(number)"
   ]
  },
  {
   "cell_type": "code",
   "execution_count": 53,
   "id": "b429b711-303f-44b0-bd76-f49cfc998815",
   "metadata": {},
   "outputs": [
    {
     "name": "stdout",
     "output_type": "stream",
     "text": [
      "5987\n"
     ]
    }
   ],
   "source": [
    "while True:\n",
    "    number = random.randrange(1000,10000)\n",
    "    #set이라는 컬렉션이 있음\n",
    "    #순서가 없고 중복을 허락하지 않는 데이터 집합\n",
    "    temp = str(number)\n",
    "    temp = set(list(temp))\n",
    "    if len(temp)==4:\n",
    "        print(number)\n",
    "        break"
   ]
  },
  {
   "cell_type": "code",
   "execution_count": 49,
   "id": "f162e0df-f84e-4c32-baf4-4bc101267fb6",
   "metadata": {},
   "outputs": [
    {
     "name": "stdout",
     "output_type": "stream",
     "text": [
      "{'4', '1', '5', '8'}\n"
     ]
    }
   ],
   "source": [
    "number = set(list('8541'))\n",
    "print(number)"
   ]
  },
  {
   "cell_type": "code",
   "execution_count": 30,
   "id": "78cb483d-4b5e-4747-8e6d-e6c4f815f64c",
   "metadata": {},
   "outputs": [
    {
     "name": "stdout",
     "output_type": "stream",
     "text": [
      "{1, 2}\n"
     ]
    }
   ],
   "source": [
    "test = set([1,1,2])\n",
    "print(test)"
   ]
  },
  {
   "cell_type": "code",
   "execution_count": 32,
   "id": "5d8598b4-cfb3-49a4-9e6f-989ea1afa883",
   "metadata": {},
   "outputs": [
    {
     "name": "stdout",
     "output_type": "stream",
     "text": [
      "{'h', 'l', 'e', 'o'}\n"
     ]
    }
   ],
   "source": [
    "test = set(list('hello'))\n",
    "print(test)"
   ]
  },
  {
   "cell_type": "code",
   "execution_count": 56,
   "id": "41bff434-fe78-4610-b9ec-8339e099a3a6",
   "metadata": {},
   "outputs": [
    {
     "name": "stdout",
     "output_type": "stream",
     "text": [
      "['0', '1', '2', '3', '4', '5', '6', '7', '8', '9']\n",
      "7\n",
      "['0', '1', '2', '3', '4', '5', '6', '8', '9']\n"
     ]
    }
   ],
   "source": [
    "numbers = list('0123456789')\n",
    "print(numbers)\n",
    "index = random.randrange(1,10)\n",
    "print(numbers[index])\n",
    "del numbers[index]\n",
    "print(numbers)"
   ]
  },
  {
   "cell_type": "code",
   "execution_count": 60,
   "id": "23387d52-48bf-49bb-aa55-adf3b34e6e6e",
   "metadata": {},
   "outputs": [],
   "source": [
    "def hello():\n",
    "    print('a')\n",
    "\n",
    "    pass"
   ]
  },
  {
   "cell_type": "code",
   "execution_count": 61,
   "id": "14ec5ba5-911e-4c22-aeef-b057f1d651dc",
   "metadata": {},
   "outputs": [
    {
     "name": "stdout",
     "output_type": "stream",
     "text": [
      "a\n"
     ]
    }
   ],
   "source": [
    "hello()"
   ]
  },
  {
   "cell_type": "code",
   "execution_count": 64,
   "id": "7757a1fb-1749-4483-b817-b0c3345fc364",
   "metadata": {},
   "outputs": [
    {
     "name": "stdout",
     "output_type": "stream",
     "text": [
      "aa\n"
     ]
    }
   ],
   "source": [
    "a()"
   ]
  },
  {
   "cell_type": "code",
   "execution_count": 63,
   "id": "075415b8-8a78-4335-b9a4-ffe8c0638a5a",
   "metadata": {},
   "outputs": [],
   "source": [
    "def a():\n",
    "    print('aa')"
   ]
  },
  {
   "cell_type": "code",
   "execution_count": 65,
   "id": "8a8afc20-54b9-44f6-9828-d94f4f384d1b",
   "metadata": {},
   "outputs": [],
   "source": [
    "def add(a,b): #파라메터 , 가인수, 매개변수\n",
    "    print(a+b)\n",
    "    pass"
   ]
  },
  {
   "cell_type": "code",
   "execution_count": 73,
   "id": "9ff0bdd6-2908-467d-86e8-3f81d133dc31",
   "metadata": {},
   "outputs": [
    {
     "name": "stdout",
     "output_type": "stream",
     "text": [
      "3\n"
     ]
    }
   ],
   "source": [
    "result = add(1,2) #아규먼트, 실인수, 매개변수"
   ]
  },
  {
   "cell_type": "code",
   "execution_count": 76,
   "id": "9c17fd0b-93cd-44e1-ab2c-51d3705723b6",
   "metadata": {},
   "outputs": [],
   "source": [
    "def plus(a,b):\n",
    "    return a+b\n",
    "    c = a +b"
   ]
  },
  {
   "cell_type": "code",
   "execution_count": 77,
   "id": "d3a3259a-298f-4e29-b528-ddd3f46fd326",
   "metadata": {},
   "outputs": [],
   "source": [
    "result = plus(1,2)"
   ]
  },
  {
   "cell_type": "code",
   "execution_count": 78,
   "id": "b60f2e1e-e61d-4526-948f-030f8dae92c1",
   "metadata": {},
   "outputs": [
    {
     "name": "stdout",
     "output_type": "stream",
     "text": [
      "3\n"
     ]
    }
   ],
   "source": [
    "print(result)"
   ]
  },
  {
   "cell_type": "code",
   "execution_count": 79,
   "id": "82083484-f749-4829-a9f7-d3191c716052",
   "metadata": {},
   "outputs": [
    {
     "ename": "NameError",
     "evalue": "name 'c' is not defined",
     "output_type": "error",
     "traceback": [
      "\u001b[1;31m---------------------------------------------------------------------------\u001b[0m",
      "\u001b[1;31mNameError\u001b[0m                                 Traceback (most recent call last)",
      "Cell \u001b[1;32mIn[79], line 1\u001b[0m\n\u001b[1;32m----> 1\u001b[0m \u001b[38;5;28mprint\u001b[39m(\u001b[43mc\u001b[49m)\n",
      "\u001b[1;31mNameError\u001b[0m: name 'c' is not defined"
     ]
    }
   ],
   "source": [
    "print(c)"
   ]
  },
  {
   "cell_type": "code",
   "execution_count": 80,
   "id": "3d703b29-2791-437d-9ac8-6f39078162bc",
   "metadata": {},
   "outputs": [],
   "source": [
    "def mul(a,b):\n",
    "    c = a * b\n",
    "    return c"
   ]
  },
  {
   "cell_type": "code",
   "execution_count": 81,
   "id": "ddd9064f-3043-4538-a9ff-d1998cb771d0",
   "metadata": {},
   "outputs": [],
   "source": [
    "def add(a,b):\n",
    "    c = a + b\n",
    "    print(c)\n",
    "    d = mul(a,b)\n",
    "    print(d)"
   ]
  },
  {
   "cell_type": "code",
   "execution_count": 82,
   "id": "a5e090cc-51e9-4fc0-9519-9500773b95f4",
   "metadata": {},
   "outputs": [
    {
     "name": "stdout",
     "output_type": "stream",
     "text": [
      "30\n",
      "200\n"
     ]
    }
   ],
   "source": [
    "x = 10\n",
    "y = 20\n",
    "add(x,y)"
   ]
  },
  {
   "cell_type": "code",
   "execution_count": null,
   "id": "5aa2a720-c7d3-4337-9a5e-cfca4432baea",
   "metadata": {},
   "outputs": [],
   "source": [
    "#달력을 출력하는 코드를 함수로 작성하시오.\n",
    "#정보처리기사 문제풀이 코드를 함수로 작성하시오"
   ]
  },
  {
   "cell_type": "code",
   "execution_count": 86,
   "id": "7786ea71-e324-4263-8af8-4d97bd145479",
   "metadata": {},
   "outputs": [],
   "source": [
    "from datetime import datetime\n",
    "def viewCalendar(year,mon):\n",
    "    #빈칸 정보를 얻기위해 datetime모듈의 datetime 객체사용\n",
    "    now = datetime(year,mon,1)\n",
    "    \n",
    "    lastDays = [31,28,31,30,31,30,31,31,30,31,30,31]\n",
    "    if mon==2:\n",
    "        if year%400==0 or (year%4==0 and year%100!=0):\n",
    "            lastDays[1] = 29    \n",
    "    #요일 정보와 빈칸정보의 비교를 통해서 +1을 하면 빈칸 데이터가 나옴\n",
    "    space = (now.weekday()+1) % 7\n",
    "    #print(space)\n",
    "    lastDay = lastDays[mon-1]\n",
    "    print('\\t\\t\\t',year,'년 ',mon,'월')\n",
    "    print('일','월','화','수','목','금','토',sep='\\t',end='\\n')\n",
    "    day = 1\n",
    "    for _ in range(space):\n",
    "        print('\\t',end='')\n",
    "    for _ in range(lastDay):\n",
    "        print(day,end='\\t')\n",
    "        if (space+day)%7==0:\n",
    "            print()\n",
    "        day = day + 1\n",
    "    \n",
    "        pass"
   ]
  },
  {
   "cell_type": "code",
   "execution_count": 87,
   "id": "e1791dfc-c6bb-4e3f-b6c9-902740fc86f5",
   "metadata": {},
   "outputs": [
    {
     "name": "stdin",
     "output_type": "stream",
     "text": [
      "년을 입력하세요 >>>  1999\n",
      "월을 입력하세요 >>>  12\n"
     ]
    },
    {
     "name": "stdout",
     "output_type": "stream",
     "text": [
      "\t\t\t 1999 년  12 월\n",
      "일\t월\t화\t수\t목\t금\t토\n",
      "\t\t\t1\t2\t3\t4\t\n",
      "5\t6\t7\t8\t9\t10\t11\t\n",
      "12\t13\t14\t15\t16\t17\t18\t\n",
      "19\t20\t21\t22\t23\t24\t25\t\n",
      "26\t27\t28\t29\t30\t31\t"
     ]
    }
   ],
   "source": [
    "year = int(input('년을 입력하세요 >>> '))\n",
    "mon = int(input('월을 입력하세요 >>> '))\n",
    "viewCalendar(year,mon)"
   ]
  },
  {
   "cell_type": "code",
   "execution_count": 93,
   "id": "b96aea00-5998-4f4b-b9b7-0dd4525c291b",
   "metadata": {},
   "outputs": [],
   "source": [
    "def makeDataFromFile(fileDir,fileName):\n",
    "    students = []\n",
    "    with open(fileDir+'\\\\'+fileName,'r') as file:\n",
    "        #1-1. 파일안의 컨텐츠에 연결하여 모든 라인을 가져온다.\n",
    "        lines = file.readlines()\n",
    "    for line in lines:\n",
    "        student = []\n",
    "        # 3.가져온 한줄을 분리한다.(콤마로 분리)\n",
    "        temp = line[:-1].split(',')\n",
    "        # 4.분리된 데이터를 타입에 맞추어 분리한다\n",
    "        stdNo = int(temp[0])\n",
    "        student.append(stdNo)\n",
    "        student.append(temp[1])\n",
    "        for ele in temp[2:8]:\n",
    "            val = int(ele)\n",
    "            student.append(val)\n",
    "        # 5.분리한 데이터를 리스트에 저장한다.\n",
    "        for ele in temp[8:]:\n",
    "            student.append(ele)\n",
    "        # 6.리스트를 리스트에 저장한다.\n",
    "        students.append(student)\n",
    "    return students"
   ]
  },
  {
   "cell_type": "code",
   "execution_count": 98,
   "id": "88946cf2-f4e3-4610-9622-a0ff53aa65ad",
   "metadata": {},
   "outputs": [],
   "source": [
    "def solveQuiz1():\n",
    "    data = makeDataFromFile('.\\data','Abc1115.csv')\n",
    "    quiz1Data = [] #정렬의 대상을 저장할 리스트\n",
    "    for temp in data:\n",
    "    #지역코드가 B인 데이터를 quiz1Data에 저장하시오.\n",
    "        if temp[10] == 'B':\n",
    "            temp.append(temp[2]+temp[3])\n",
    "            quiz1Data.append(temp)\n",
    "        pass\n",
    "    for index,_ in enumerate(quiz1Data[:-1]):\n",
    "        for idx,value in enumerate(quiz1Data[index+1:]):\n",
    "            number = quiz1Data[index][-1]\n",
    "            if number < value[-1]:\n",
    "                temp = quiz1Data[index] #number\n",
    "                quiz1Data[index] = value #i\n",
    "                quiz1Data[idx+(index+1)] = temp\n",
    "                #break\n",
    "            #print(idx,i)\n",
    "            elif number == value[-1]:\n",
    "                # 점수가 같을 경우 학번을 오름차순으로 정렬하기\n",
    "                number = quiz1Data[index][0]\n",
    "                if number > value[0]:\n",
    "                    temp = quiz1Data[index] #number\n",
    "                    quiz1Data[index] = value #i\n",
    "                    quiz1Data[idx+(index+1)] = temp\n",
    "                pass\n",
    "                \n",
    "            pass\n",
    "\n",
    "    for student in quiz1Data[10:20]:\n",
    "        print(student)\n",
    "    pass"
   ]
  },
  {
   "cell_type": "code",
   "execution_count": 90,
   "id": "69d1f328-6a00-42cb-b1e0-c8b4ff650dd3",
   "metadata": {},
   "outputs": [],
   "source": [
    "def solveQuiz2():\n",
    "    students = makeDataFromFile('.\\data','Abc1115.csv')\n",
    "    pass"
   ]
  },
  {
   "cell_type": "code",
   "execution_count": 91,
   "id": "c263d390-31b1-445a-bcb7-5798d0c3533a",
   "metadata": {},
   "outputs": [],
   "source": [
    "def solveQuiz3():\n",
    "    students = makeDataFromFile('.\\data','Abc1115.csv')\n",
    "    pass"
   ]
  },
  {
   "cell_type": "code",
   "execution_count": 96,
   "id": "1346cd3f-7302-43dc-a74b-91af98ab4f7c",
   "metadata": {},
   "outputs": [],
   "source": [
    "def solveQuiz4():\n",
    "    students = makeDataFromFile('.\\data','Abc1115.csv')\n",
    "    print(len(students))\n",
    "    for student in students[:5]:\n",
    "        print(student)\n",
    "    pass"
   ]
  },
  {
   "cell_type": "code",
   "execution_count": 97,
   "id": "d5d1ec1d-ea96-4cdf-9e8b-a37c7bfe1b9b",
   "metadata": {},
   "outputs": [
    {
     "name": "stdout",
     "output_type": "stream",
     "text": [
      "1000\n",
      "[990001, 'addx', 17, 29, 16, 49, 43, 154, 'C', 'A', 'C']\n",
      "[990002, 'stch', 30, 9, 48, 25, 81, 193, 'C', 'A', 'A']\n",
      "[990003, 'gali', 93, 60, 6, 84, 36, 279, 'A', 'C', 'A']\n",
      "[990004, 'miat', 73, 22, 48, 24, 72, 239, 'B', 'C', 'C']\n",
      "[990005, 'oran', 33, 38, 59, 58, 28, 216, 'C', 'B', 'A']\n"
     ]
    }
   ],
   "source": [
    "solveQuiz4()"
   ]
  },
  {
   "cell_type": "code",
   "execution_count": 99,
   "id": "abe90d1d-6299-45f6-8e58-b1fed079ed6c",
   "metadata": {},
   "outputs": [
    {
     "name": "stdout",
     "output_type": "stream",
     "text": [
      "[990631, 'jude', 91, 73, 43, 82, 87, 376, 'B', 'C', 'B', 164]\n",
      "[990747, 'teak', 67, 96, 84, 50, 47, 344, 'C', 'B', 'B', 163]\n",
      "[990891, 'kimd', 99, 64, 70, 84, 30, 347, 'A', 'C', 'B', 163]\n",
      "[990935, 'miss', 94, 67, 24, 33, 38, 256, 'C', 'B', 'B', 161]\n",
      "[990350, 'hjoo', 76, 83, 46, 98, 7, 310, 'B', 'C', 'B', 159]\n",
      "[990470, 'minh', 79, 80, 98, 19, 46, 322, 'C', 'B', 'B', 159]\n",
      "[990023, 'tess', 86, 71, 87, 6, 15, 265, 'B', 'C', 'B', 157]\n",
      "[990217, 'koan', 64, 93, 93, 24, 72, 346, 'B', 'C', 'B', 157]\n",
      "[990418, 'sad9', 87, 66, 88, 18, 92, 351, 'B', 'A', 'B', 153]\n",
      "[990424, 'hysu', 81, 72, 23, 64, 27, 267, 'A', 'B', 'B', 153]\n"
     ]
    }
   ],
   "source": [
    "solveQuiz1()"
   ]
  },
  {
   "cell_type": "code",
   "execution_count": null,
   "id": "f5c8a7ee-5d1f-4d10-85d4-96b72f6ff659",
   "metadata": {},
   "outputs": [],
   "source": []
  }
 ],
 "metadata": {
  "kernelspec": {
   "display_name": "Python 3 (ipykernel)",
   "language": "python",
   "name": "python3"
  },
  "language_info": {
   "codemirror_mode": {
    "name": "ipython",
    "version": 3
   },
   "file_extension": ".py",
   "mimetype": "text/x-python",
   "name": "python",
   "nbconvert_exporter": "python",
   "pygments_lexer": "ipython3",
   "version": "3.10.11"
  }
 },
 "nbformat": 4,
 "nbformat_minor": 5
}
