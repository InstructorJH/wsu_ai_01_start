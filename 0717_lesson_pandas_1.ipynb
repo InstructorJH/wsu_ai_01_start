{
 "cells": [
  {
   "cell_type": "code",
   "execution_count": 1,
   "id": "735c720e-df4f-4fac-bd66-60a929aaf194",
   "metadata": {},
   "outputs": [],
   "source": [
    "import pandas as pd"
   ]
  },
  {
   "cell_type": "code",
   "execution_count": 2,
   "id": "2bdbf947-f617-4074-8c6e-2488cbf792de",
   "metadata": {},
   "outputs": [
    {
     "name": "stdout",
     "output_type": "stream",
     "text": [
      "2.2.2\n"
     ]
    }
   ],
   "source": [
    "print(pd.__version__)"
   ]
  },
  {
   "cell_type": "code",
   "execution_count": null,
   "id": "4a4bdef1-512d-4b33-bb72-9e911fd3b200",
   "metadata": {},
   "outputs": [],
   "source": [
    "dataframe = pd.read_csv('../doit_pandas-master/data/gapminder.tsv',sep='\\t')"
   ]
  },
  {
   "cell_type": "code",
   "execution_count": null,
   "id": "75346450-ad2e-44e6-95f5-23391706129c",
   "metadata": {},
   "outputs": [],
   "source": [
    "print(dataframe.head())"
   ]
  },
  {
   "cell_type": "code",
   "execution_count": null,
   "id": "d61f371e-31b1-4057-a8e7-58f078ddc2bb",
   "metadata": {},
   "outputs": [],
   "source": [
    "gisa_df = pd.read_csv('.\\data\\Abc1115.csv')"
   ]
  },
  {
   "cell_type": "code",
   "execution_count": null,
   "id": "88c07c10-5a28-4489-a67e-df6ae4c93270",
   "metadata": {},
   "outputs": [],
   "source": [
    "gisa_df.head()"
   ]
  },
  {
   "cell_type": "code",
   "execution_count": null,
   "id": "1ddf2653-f6fa-4f65-92d5-84af20a6d9ef",
   "metadata": {},
   "outputs": [],
   "source": [
    "type(gisa_df)"
   ]
  },
  {
   "cell_type": "code",
   "execution_count": null,
   "id": "e945d4cd-1a29-4650-b3b7-a0dbc4f94b12",
   "metadata": {},
   "outputs": [],
   "source": [
    "dataframe.head()"
   ]
  },
  {
   "cell_type": "code",
   "execution_count": null,
   "id": "4ee34eaf-ca8f-46d4-8b56-a98d7da2ba11",
   "metadata": {},
   "outputs": [],
   "source": [
    "dataframe.tail(12)"
   ]
  },
  {
   "cell_type": "code",
   "execution_count": null,
   "id": "8f887513-d867-4940-a549-3ce3f8762e1d",
   "metadata": {},
   "outputs": [],
   "source": [
    "dataframe.shape"
   ]
  },
  {
   "cell_type": "code",
   "execution_count": null,
   "id": "ec1e7fea-93e7-459c-88cf-e08a98621550",
   "metadata": {},
   "outputs": [],
   "source": [
    "dataframe.columns"
   ]
  },
  {
   "cell_type": "code",
   "execution_count": null,
   "id": "0aa642b1-12af-4290-9383-6618e5451500",
   "metadata": {},
   "outputs": [],
   "source": [
    "dataframe.info()"
   ]
  },
  {
   "cell_type": "code",
   "execution_count": null,
   "id": "f2d63316-9ce1-4a0d-a5fb-9d8ded9964a5",
   "metadata": {},
   "outputs": [],
   "source": [
    "df_country = dataframe['country']"
   ]
  },
  {
   "cell_type": "code",
   "execution_count": null,
   "id": "1047e8d1-a196-45e7-a17d-5d9d876e6842",
   "metadata": {},
   "outputs": [],
   "source": [
    "type(df_country)"
   ]
  },
  {
   "cell_type": "code",
   "execution_count": null,
   "id": "45f600d7-19ce-4d47-9e26-ec1349b442b8",
   "metadata": {},
   "outputs": [],
   "source": [
    "tlist = [\n",
    "    [1,2],\n",
    "    [3,4]\n",
    "]"
   ]
  },
  {
   "cell_type": "code",
   "execution_count": null,
   "id": "77dc9427-f6f2-4ea6-be75-bde37c1fa124",
   "metadata": {},
   "outputs": [],
   "source": [
    "print(tlist[0][0])\n",
    "print(tlist[1][0])"
   ]
  },
  {
   "cell_type": "code",
   "execution_count": null,
   "id": "5548466e-edd8-4e64-8a5e-f7d817d12939",
   "metadata": {},
   "outputs": [],
   "source": [
    "df_two = dataframe[['country','year']]"
   ]
  },
  {
   "cell_type": "code",
   "execution_count": null,
   "id": "d87243ce-5651-4faf-8ee3-dbe591a239dd",
   "metadata": {},
   "outputs": [],
   "source": [
    "type(df_two)"
   ]
  },
  {
   "cell_type": "code",
   "execution_count": 3,
   "id": "c1a9b77a-4764-45c4-93c9-91f84d462492",
   "metadata": {},
   "outputs": [],
   "source": [
    "df = pd.read_csv('../doit_pandas-master/data/gapminder.tsv',sep='\\t')"
   ]
  },
  {
   "cell_type": "code",
   "execution_count": null,
   "id": "c2ea60db-b6e3-45f4-ba43-4ed04941ed90",
   "metadata": {},
   "outputs": [],
   "source": [
    "df_test = pd.read_csv('./data/Abc1115.csv')"
   ]
  },
  {
   "cell_type": "code",
   "execution_count": null,
   "id": "6a9449b9-163b-40ae-8aa3-f5b5737d9dfc",
   "metadata": {},
   "outputs": [],
   "source": [
    "df_test.head()"
   ]
  },
  {
   "cell_type": "code",
   "execution_count": null,
   "id": "ac293db4-1f48-43f1-9900-0f89299064b6",
   "metadata": {},
   "outputs": [],
   "source": [
    "df.head()"
   ]
  },
  {
   "cell_type": "code",
   "execution_count": null,
   "id": "5ee7973a-e867-41a4-9939-9863c422eb39",
   "metadata": {},
   "outputs": [],
   "source": [
    "df.shape"
   ]
  },
  {
   "cell_type": "code",
   "execution_count": null,
   "id": "ee09fc91-def5-4bf8-8b25-90ea926b0db1",
   "metadata": {},
   "outputs": [],
   "source": [
    "df[['country','year']]"
   ]
  },
  {
   "cell_type": "code",
   "execution_count": null,
   "id": "fc8a7faf-04f6-424e-88ff-3f0c6ceba59d",
   "metadata": {},
   "outputs": [],
   "source": [
    "print(df.loc[0,'country'])\n",
    "print(df.loc[1,'country'])"
   ]
  },
  {
   "cell_type": "code",
   "execution_count": 12,
   "id": "18999e38-9fb2-4453-b686-ee40380c769e",
   "metadata": {},
   "outputs": [
    {
     "name": "stdout",
     "output_type": "stream",
     "text": [
      "0    Afghanistan\n",
      "1    Afghanistan\n",
      "2    Afghanistan\n",
      "3    Afghanistan\n",
      "4    Afghanistan\n",
      "5    Afghanistan\n",
      "Name: country, dtype: object\n"
     ]
    }
   ],
   "source": [
    "print(df.loc[0:5]['country'])\n",
    "#print(df.loc[-1]['country'])"
   ]
  },
  {
   "cell_type": "code",
   "execution_count": 6,
   "id": "188bcdc1-9dd0-4fd2-b98f-4435175ed2d9",
   "metadata": {},
   "outputs": [
    {
     "name": "stdout",
     "output_type": "stream",
     "text": [
      "Afghanistan\n",
      "Afghanistan\n"
     ]
    },
    {
     "name": "stderr",
     "output_type": "stream",
     "text": [
      "C:\\Users\\user\\AppData\\Local\\Temp\\ipykernel_14524\\47256502.py:1: FutureWarning: Series.__getitem__ treating keys as positions is deprecated. In a future version, integer keys will always be treated as labels (consistent with DataFrame behavior). To access a value by position, use `ser.iloc[pos]`\n",
      "  print(df.loc[0][0])\n",
      "C:\\Users\\user\\AppData\\Local\\Temp\\ipykernel_14524\\47256502.py:2: FutureWarning: Series.__getitem__ treating keys as positions is deprecated. In a future version, integer keys will always be treated as labels (consistent with DataFrame behavior). To access a value by position, use `ser.iloc[pos]`\n",
      "  print(df.loc[1][0])\n"
     ]
    }
   ],
   "source": [
    "print(df.loc[0][0])\n",
    "print(df.loc[1][0])"
   ]
  },
  {
   "cell_type": "code",
   "execution_count": 5,
   "id": "c74a9cf4-c769-43e4-af2a-ecd7d31bd19f",
   "metadata": {},
   "outputs": [
    {
     "data": {
      "text/plain": [
       "Index(['country', 'continent', 'year', 'lifeExp', 'pop', 'gdpPercap'], dtype='object')"
      ]
     },
     "execution_count": 5,
     "metadata": {},
     "output_type": "execute_result"
    }
   ],
   "source": [
    "df.columns"
   ]
  },
  {
   "cell_type": "code",
   "execution_count": 8,
   "id": "d675c6e6-f06f-4e5e-b7db-39da955a1866",
   "metadata": {},
   "outputs": [
    {
     "data": {
      "text/plain": [
       "0       Afghanistan\n",
       "1       Afghanistan\n",
       "2       Afghanistan\n",
       "3       Afghanistan\n",
       "4       Afghanistan\n",
       "           ...     \n",
       "1699       Zimbabwe\n",
       "1700       Zimbabwe\n",
       "1701       Zimbabwe\n",
       "1702       Zimbabwe\n",
       "1703       Zimbabwe\n",
       "Name: country, Length: 1704, dtype: object"
      ]
     },
     "execution_count": 8,
     "metadata": {},
     "output_type": "execute_result"
    }
   ],
   "source": [
    "df['country']"
   ]
  },
  {
   "cell_type": "code",
   "execution_count": 15,
   "id": "ecb82a61-a417-4e09-ad52-e4be8844e246",
   "metadata": {},
   "outputs": [
    {
     "name": "stdout",
     "output_type": "stream",
     "text": [
      "0       Afghanistan\n",
      "1       Afghanistan\n",
      "2       Afghanistan\n",
      "3       Afghanistan\n",
      "4       Afghanistan\n",
      "           ...     \n",
      "1699       Zimbabwe\n",
      "1700       Zimbabwe\n",
      "1701       Zimbabwe\n",
      "1702       Zimbabwe\n",
      "1703       Zimbabwe\n",
      "Name: country, Length: 1704, dtype: object\n"
     ]
    }
   ],
   "source": [
    "print(df.iloc[:,0])\n",
    "#print(df.iloc[1,0])"
   ]
  },
  {
   "cell_type": "code",
   "execution_count": 16,
   "id": "97dcdcb0-ff3d-4f3f-b9b8-1afc9538d1aa",
   "metadata": {},
   "outputs": [
    {
     "data": {
      "text/html": [
       "<div>\n",
       "<style scoped>\n",
       "    .dataframe tbody tr th:only-of-type {\n",
       "        vertical-align: middle;\n",
       "    }\n",
       "\n",
       "    .dataframe tbody tr th {\n",
       "        vertical-align: top;\n",
       "    }\n",
       "\n",
       "    .dataframe thead th {\n",
       "        text-align: right;\n",
       "    }\n",
       "</style>\n",
       "<table border=\"1\" class=\"dataframe\">\n",
       "  <thead>\n",
       "    <tr style=\"text-align: right;\">\n",
       "      <th></th>\n",
       "      <th>country</th>\n",
       "      <th>continent</th>\n",
       "      <th>year</th>\n",
       "      <th>lifeExp</th>\n",
       "      <th>pop</th>\n",
       "      <th>gdpPercap</th>\n",
       "    </tr>\n",
       "  </thead>\n",
       "  <tbody>\n",
       "    <tr>\n",
       "      <th>0</th>\n",
       "      <td>Afghanistan</td>\n",
       "      <td>Asia</td>\n",
       "      <td>1952</td>\n",
       "      <td>28.801</td>\n",
       "      <td>8425333</td>\n",
       "      <td>779.445314</td>\n",
       "    </tr>\n",
       "    <tr>\n",
       "      <th>1</th>\n",
       "      <td>Afghanistan</td>\n",
       "      <td>Asia</td>\n",
       "      <td>1957</td>\n",
       "      <td>30.332</td>\n",
       "      <td>9240934</td>\n",
       "      <td>820.853030</td>\n",
       "    </tr>\n",
       "    <tr>\n",
       "      <th>2</th>\n",
       "      <td>Afghanistan</td>\n",
       "      <td>Asia</td>\n",
       "      <td>1962</td>\n",
       "      <td>31.997</td>\n",
       "      <td>10267083</td>\n",
       "      <td>853.100710</td>\n",
       "    </tr>\n",
       "    <tr>\n",
       "      <th>3</th>\n",
       "      <td>Afghanistan</td>\n",
       "      <td>Asia</td>\n",
       "      <td>1967</td>\n",
       "      <td>34.020</td>\n",
       "      <td>11537966</td>\n",
       "      <td>836.197138</td>\n",
       "    </tr>\n",
       "    <tr>\n",
       "      <th>4</th>\n",
       "      <td>Afghanistan</td>\n",
       "      <td>Asia</td>\n",
       "      <td>1972</td>\n",
       "      <td>36.088</td>\n",
       "      <td>13079460</td>\n",
       "      <td>739.981106</td>\n",
       "    </tr>\n",
       "  </tbody>\n",
       "</table>\n",
       "</div>"
      ],
      "text/plain": [
       "       country continent  year  lifeExp       pop   gdpPercap\n",
       "0  Afghanistan      Asia  1952   28.801   8425333  779.445314\n",
       "1  Afghanistan      Asia  1957   30.332   9240934  820.853030\n",
       "2  Afghanistan      Asia  1962   31.997  10267083  853.100710\n",
       "3  Afghanistan      Asia  1967   34.020  11537966  836.197138\n",
       "4  Afghanistan      Asia  1972   36.088  13079460  739.981106"
      ]
     },
     "execution_count": 16,
     "metadata": {},
     "output_type": "execute_result"
    }
   ],
   "source": [
    "df.head()"
   ]
  },
  {
   "cell_type": "code",
   "execution_count": 19,
   "id": "c2534773-ca8f-4eee-846e-c967627535c3",
   "metadata": {},
   "outputs": [
    {
     "data": {
      "text/plain": [
       "country      Bangladesh\n",
       "continent          Asia\n",
       "year               1967\n",
       "lifeExp          43.453\n",
       "pop            62821884\n",
       "gdpPercap    721.186086\n",
       "Name: 99, dtype: object"
      ]
     },
     "execution_count": 19,
     "metadata": {},
     "output_type": "execute_result"
    }
   ],
   "source": [
    "df.iloc[99,:]\n",
    "#df.loc[99]"
   ]
  },
  {
   "cell_type": "code",
   "execution_count": 22,
   "id": "036f2bcb-d0ce-4b70-b26b-be3841b0ee8f",
   "metadata": {},
   "outputs": [
    {
     "data": {
      "text/html": [
       "<div>\n",
       "<style scoped>\n",
       "    .dataframe tbody tr th:only-of-type {\n",
       "        vertical-align: middle;\n",
       "    }\n",
       "\n",
       "    .dataframe tbody tr th {\n",
       "        vertical-align: top;\n",
       "    }\n",
       "\n",
       "    .dataframe thead th {\n",
       "        text-align: right;\n",
       "    }\n",
       "</style>\n",
       "<table border=\"1\" class=\"dataframe\">\n",
       "  <thead>\n",
       "    <tr style=\"text-align: right;\">\n",
       "      <th></th>\n",
       "      <th>country</th>\n",
       "      <th>continent</th>\n",
       "      <th>year</th>\n",
       "      <th>lifeExp</th>\n",
       "      <th>pop</th>\n",
       "      <th>gdpPercap</th>\n",
       "    </tr>\n",
       "  </thead>\n",
       "  <tbody>\n",
       "    <tr>\n",
       "      <th>0</th>\n",
       "      <td>Afghanistan</td>\n",
       "      <td>Asia</td>\n",
       "      <td>1952</td>\n",
       "      <td>28.801</td>\n",
       "      <td>8425333</td>\n",
       "      <td>779.445314</td>\n",
       "    </tr>\n",
       "    <tr>\n",
       "      <th>9</th>\n",
       "      <td>Afghanistan</td>\n",
       "      <td>Asia</td>\n",
       "      <td>1997</td>\n",
       "      <td>41.763</td>\n",
       "      <td>22227415</td>\n",
       "      <td>635.341351</td>\n",
       "    </tr>\n",
       "    <tr>\n",
       "      <th>99</th>\n",
       "      <td>Bangladesh</td>\n",
       "      <td>Asia</td>\n",
       "      <td>1967</td>\n",
       "      <td>43.453</td>\n",
       "      <td>62821884</td>\n",
       "      <td>721.186086</td>\n",
       "    </tr>\n",
       "  </tbody>\n",
       "</table>\n",
       "</div>"
      ],
      "text/plain": [
       "        country continent  year  lifeExp       pop   gdpPercap\n",
       "0   Afghanistan      Asia  1952   28.801   8425333  779.445314\n",
       "9   Afghanistan      Asia  1997   41.763  22227415  635.341351\n",
       "99   Bangladesh      Asia  1967   43.453  62821884  721.186086"
      ]
     },
     "execution_count": 22,
     "metadata": {},
     "output_type": "execute_result"
    }
   ],
   "source": [
    "#df의 첫번째 10번째 100번째 정보를 모두 출력하시오.\n",
    "df.iloc[[0,9,99],:]"
   ]
  },
  {
   "cell_type": "code",
   "execution_count": 24,
   "id": "f38b5ae6-444b-4d0a-bd91-137cc73e4c97",
   "metadata": {},
   "outputs": [
    {
     "data": {
      "text/html": [
       "<div>\n",
       "<style scoped>\n",
       "    .dataframe tbody tr th:only-of-type {\n",
       "        vertical-align: middle;\n",
       "    }\n",
       "\n",
       "    .dataframe tbody tr th {\n",
       "        vertical-align: top;\n",
       "    }\n",
       "\n",
       "    .dataframe thead th {\n",
       "        text-align: right;\n",
       "    }\n",
       "</style>\n",
       "<table border=\"1\" class=\"dataframe\">\n",
       "  <thead>\n",
       "    <tr style=\"text-align: right;\">\n",
       "      <th></th>\n",
       "      <th>country</th>\n",
       "      <th>lifeExp</th>\n",
       "      <th>pop</th>\n",
       "    </tr>\n",
       "  </thead>\n",
       "  <tbody>\n",
       "    <tr>\n",
       "      <th>0</th>\n",
       "      <td>Afghanistan</td>\n",
       "      <td>28.801</td>\n",
       "      <td>8425333</td>\n",
       "    </tr>\n",
       "    <tr>\n",
       "      <th>9</th>\n",
       "      <td>Afghanistan</td>\n",
       "      <td>41.763</td>\n",
       "      <td>22227415</td>\n",
       "    </tr>\n",
       "    <tr>\n",
       "      <th>99</th>\n",
       "      <td>Bangladesh</td>\n",
       "      <td>43.453</td>\n",
       "      <td>62821884</td>\n",
       "    </tr>\n",
       "  </tbody>\n",
       "</table>\n",
       "</div>"
      ],
      "text/plain": [
       "        country  lifeExp       pop\n",
       "0   Afghanistan   28.801   8425333\n",
       "9   Afghanistan   41.763  22227415\n",
       "99   Bangladesh   43.453  62821884"
      ]
     },
     "execution_count": 24,
     "metadata": {},
     "output_type": "execute_result"
    }
   ],
   "source": [
    "#df의 첫번째 10번째 100번째 정보를 country,lifeExp,pop를 출력하시오.\n",
    "df.iloc[[0,9,99],[0,3,4]]"
   ]
  },
  {
   "cell_type": "code",
   "execution_count": 25,
   "id": "45f2f4e4-4a00-430e-963b-b5fb77ada4e6",
   "metadata": {},
   "outputs": [
    {
     "data": {
      "text/html": [
       "<div>\n",
       "<style scoped>\n",
       "    .dataframe tbody tr th:only-of-type {\n",
       "        vertical-align: middle;\n",
       "    }\n",
       "\n",
       "    .dataframe tbody tr th {\n",
       "        vertical-align: top;\n",
       "    }\n",
       "\n",
       "    .dataframe thead th {\n",
       "        text-align: right;\n",
       "    }\n",
       "</style>\n",
       "<table border=\"1\" class=\"dataframe\">\n",
       "  <thead>\n",
       "    <tr style=\"text-align: right;\">\n",
       "      <th></th>\n",
       "      <th>country</th>\n",
       "      <th>lifeExp</th>\n",
       "      <th>pop</th>\n",
       "    </tr>\n",
       "  </thead>\n",
       "  <tbody>\n",
       "    <tr>\n",
       "      <th>0</th>\n",
       "      <td>Afghanistan</td>\n",
       "      <td>28.801</td>\n",
       "      <td>8425333</td>\n",
       "    </tr>\n",
       "    <tr>\n",
       "      <th>9</th>\n",
       "      <td>Afghanistan</td>\n",
       "      <td>41.763</td>\n",
       "      <td>22227415</td>\n",
       "    </tr>\n",
       "    <tr>\n",
       "      <th>99</th>\n",
       "      <td>Bangladesh</td>\n",
       "      <td>43.453</td>\n",
       "      <td>62821884</td>\n",
       "    </tr>\n",
       "  </tbody>\n",
       "</table>\n",
       "</div>"
      ],
      "text/plain": [
       "        country  lifeExp       pop\n",
       "0   Afghanistan   28.801   8425333\n",
       "9   Afghanistan   41.763  22227415\n",
       "99   Bangladesh   43.453  62821884"
      ]
     },
     "execution_count": 25,
     "metadata": {},
     "output_type": "execute_result"
    }
   ],
   "source": [
    "#df의 첫번째 10번째 100번째 정보를 country,lifeExp,pop를 출력하시오.\n",
    "df.loc[[0,9,99],['country','lifeExp','pop']]"
   ]
  },
  {
   "cell_type": "code",
   "execution_count": 27,
   "id": "3fe12f17-7077-43d0-994e-22152e01ab1e",
   "metadata": {},
   "outputs": [
    {
     "data": {
      "text/html": [
       "<div>\n",
       "<style scoped>\n",
       "    .dataframe tbody tr th:only-of-type {\n",
       "        vertical-align: middle;\n",
       "    }\n",
       "\n",
       "    .dataframe tbody tr th {\n",
       "        vertical-align: top;\n",
       "    }\n",
       "\n",
       "    .dataframe thead th {\n",
       "        text-align: right;\n",
       "    }\n",
       "</style>\n",
       "<table border=\"1\" class=\"dataframe\">\n",
       "  <thead>\n",
       "    <tr style=\"text-align: right;\">\n",
       "      <th></th>\n",
       "      <th>country</th>\n",
       "      <th>lifeExp</th>\n",
       "      <th>pop</th>\n",
       "    </tr>\n",
       "  </thead>\n",
       "  <tbody>\n",
       "    <tr>\n",
       "      <th>0</th>\n",
       "      <td>Afghanistan</td>\n",
       "      <td>28.801</td>\n",
       "      <td>8425333</td>\n",
       "    </tr>\n",
       "    <tr>\n",
       "      <th>1</th>\n",
       "      <td>Afghanistan</td>\n",
       "      <td>30.332</td>\n",
       "      <td>9240934</td>\n",
       "    </tr>\n",
       "    <tr>\n",
       "      <th>2</th>\n",
       "      <td>Afghanistan</td>\n",
       "      <td>31.997</td>\n",
       "      <td>10267083</td>\n",
       "    </tr>\n",
       "    <tr>\n",
       "      <th>3</th>\n",
       "      <td>Afghanistan</td>\n",
       "      <td>34.020</td>\n",
       "      <td>11537966</td>\n",
       "    </tr>\n",
       "    <tr>\n",
       "      <th>4</th>\n",
       "      <td>Afghanistan</td>\n",
       "      <td>36.088</td>\n",
       "      <td>13079460</td>\n",
       "    </tr>\n",
       "    <tr>\n",
       "      <th>5</th>\n",
       "      <td>Afghanistan</td>\n",
       "      <td>38.438</td>\n",
       "      <td>14880372</td>\n",
       "    </tr>\n",
       "    <tr>\n",
       "      <th>6</th>\n",
       "      <td>Afghanistan</td>\n",
       "      <td>39.854</td>\n",
       "      <td>12881816</td>\n",
       "    </tr>\n",
       "    <tr>\n",
       "      <th>7</th>\n",
       "      <td>Afghanistan</td>\n",
       "      <td>40.822</td>\n",
       "      <td>13867957</td>\n",
       "    </tr>\n",
       "    <tr>\n",
       "      <th>8</th>\n",
       "      <td>Afghanistan</td>\n",
       "      <td>41.674</td>\n",
       "      <td>16317921</td>\n",
       "    </tr>\n",
       "    <tr>\n",
       "      <th>9</th>\n",
       "      <td>Afghanistan</td>\n",
       "      <td>41.763</td>\n",
       "      <td>22227415</td>\n",
       "    </tr>\n",
       "  </tbody>\n",
       "</table>\n",
       "</div>"
      ],
      "text/plain": [
       "       country  lifeExp       pop\n",
       "0  Afghanistan   28.801   8425333\n",
       "1  Afghanistan   30.332   9240934\n",
       "2  Afghanistan   31.997  10267083\n",
       "3  Afghanistan   34.020  11537966\n",
       "4  Afghanistan   36.088  13079460\n",
       "5  Afghanistan   38.438  14880372\n",
       "6  Afghanistan   39.854  12881816\n",
       "7  Afghanistan   40.822  13867957\n",
       "8  Afghanistan   41.674  16317921\n",
       "9  Afghanistan   41.763  22227415"
      ]
     },
     "execution_count": 27,
     "metadata": {},
     "output_type": "execute_result"
    }
   ],
   "source": [
    "#df의 연속적으로 첫번째에서 10번째 정보를 country,lifeExp,pop를 출력하시오.\n",
    "df.iloc[:10,[0,3,4]]"
   ]
  },
  {
   "cell_type": "code",
   "execution_count": null,
   "id": "9babb3b8-f82f-41e6-9f4e-dfc841b88317",
   "metadata": {},
   "outputs": [],
   "source": []
  }
 ],
 "metadata": {
  "kernelspec": {
   "display_name": "Python 3 (ipykernel)",
   "language": "python",
   "name": "python3"
  },
  "language_info": {
   "codemirror_mode": {
    "name": "ipython",
    "version": 3
   },
   "file_extension": ".py",
   "mimetype": "text/x-python",
   "name": "python",
   "nbconvert_exporter": "python",
   "pygments_lexer": "ipython3",
   "version": "3.10.11"
  }
 },
 "nbformat": 4,
 "nbformat_minor": 5
}
