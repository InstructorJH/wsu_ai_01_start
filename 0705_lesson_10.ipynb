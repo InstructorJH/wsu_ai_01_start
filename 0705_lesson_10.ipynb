{
 "cells": [
  {
   "cell_type": "code",
   "execution_count": 1,
   "id": "345005c7-e136-4713-a3be-1daaa324f36f",
   "metadata": {},
   "outputs": [],
   "source": [
    "def print_numbers(a,b,c):\n",
    "    print(a)\n",
    "    print(b)\n",
    "    print(c)\n",
    "    "
   ]
  },
  {
   "cell_type": "code",
   "execution_count": 3,
   "id": "bd8c2bcc-2c01-47d3-bd57-07f41c1d272f",
   "metadata": {},
   "outputs": [],
   "source": [
    "def print_list(a):\n",
    "    print(a)"
   ]
  },
  {
   "cell_type": "code",
   "execution_count": 5,
   "id": "51a118dd-5964-4dfd-9086-9c8d7b28faf0",
   "metadata": {},
   "outputs": [
    {
     "name": "stdout",
     "output_type": "stream",
     "text": [
      "1\n",
      "2\n",
      "3\n"
     ]
    }
   ],
   "source": [
    "print_numbers(*[1,2,3])"
   ]
  },
  {
   "cell_type": "code",
   "execution_count": 4,
   "id": "39acf40a-7b53-4273-89af-49f42f3d1f6b",
   "metadata": {},
   "outputs": [
    {
     "name": "stdout",
     "output_type": "stream",
     "text": [
      "[1, 2, 3]\n"
     ]
    }
   ],
   "source": [
    "print_list([1,2,3])"
   ]
  },
  {
   "cell_type": "code",
   "execution_count": 9,
   "id": "195029a0-7804-477c-a6cf-8499a1590b4e",
   "metadata": {},
   "outputs": [],
   "source": [
    "def get_min_max_score(*args):\n",
    "    return min(args), max(args)\n"
   ]
  },
  {
   "cell_type": "code",
   "execution_count": 10,
   "id": "a64f3557-6730-47df-bf08-0550bf335ab0",
   "metadata": {},
   "outputs": [],
   "source": [
    "def get_average(*args):\n",
    "    return sum(args)/len(args)\n"
   ]
  },
  {
   "cell_type": "code",
   "execution_count": 16,
   "id": "b8f0d310-d7d2-4707-abec-f32a7ad00588",
   "metadata": {},
   "outputs": [
    {
     "name": "stdin",
     "output_type": "stream",
     "text": [
      " 89 92 73 83\n"
     ]
    },
    {
     "name": "stdout",
     "output_type": "stream",
     "text": [
      "min : 73.00, max: 92.00, average: 84.25\n",
      "min : 83.00, max: 92.00, average: 87.50\n"
     ]
    }
   ],
   "source": [
    "korean, english, mathematics, science = map(int,input().split())\n",
    "min_score,max_score = get_min_max_score(korean,english,mathematics,science)\n",
    "average_score = get_average(korean,english,mathematics,science)\n",
    "print('min : {:.2f}, max: {:.2f}, average: {:.2f}'.format(min_score,max_score,average_score))\n",
    "\n",
    "min_score,max_score = get_min_max_score(english,science)\n",
    "average_score = get_average(english,science)\n",
    "print('min : {:.2f}, max: {:.2f}, average: {:.2f}'.format(min_score,max_score,average_score))"
   ]
  },
  {
   "cell_type": "code",
   "execution_count": 4,
   "id": "f3b08691-708e-4d21-b637-e0e017e6d398",
   "metadata": {},
   "outputs": [],
   "source": [
    "def hello(count):\n",
    "    if count == 10:\n",
    "        return\n",
    "    count = count + 1\n",
    "    print('hello world',count)\n",
    "    hello(count)\n",
    "    "
   ]
  },
  {
   "cell_type": "code",
   "execution_count": 6,
   "id": "43d4b761-255a-4f0c-ac04-300a82866004",
   "metadata": {},
   "outputs": [
    {
     "name": "stdout",
     "output_type": "stream",
     "text": [
      "hello world 1\n",
      "hello world 2\n",
      "hello world 3\n",
      "hello world 4\n",
      "hello world 5\n",
      "hello world 6\n",
      "hello world 7\n",
      "hello world 8\n",
      "hello world 9\n",
      "hello world 10\n"
     ]
    }
   ],
   "source": [
    "hello(0)"
   ]
  },
  {
   "cell_type": "code",
   "execution_count": null,
   "id": "42fe5e74-c883-4887-833c-4c390162d964",
   "metadata": {},
   "outputs": [],
   "source": []
  }
 ],
 "metadata": {
  "kernelspec": {
   "display_name": "Python 3 (ipykernel)",
   "language": "python",
   "name": "python3"
  },
  "language_info": {
   "codemirror_mode": {
    "name": "ipython",
    "version": 3
   },
   "file_extension": ".py",
   "mimetype": "text/x-python",
   "name": "python",
   "nbconvert_exporter": "python",
   "pygments_lexer": "ipython3",
   "version": "3.10.11"
  }
 },
 "nbformat": 4,
 "nbformat_minor": 5
}
